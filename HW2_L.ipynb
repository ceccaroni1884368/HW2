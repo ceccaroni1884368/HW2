{
 "cells": [
  {
   "cell_type": "code",
   "execution_count": 5,
   "metadata": {},
   "outputs": [],
   "source": [
    "import pandas as pd\n",
    "import numpy as np\n",
    "from datetime import datetime\n",
    "#comandi generali per importare "
   ]
  },
  {
   "cell_type": "code",
   "execution_count": null,
   "metadata": {},
   "outputs": [],
   "source": [
    "import json\n",
    "import pandas as pd\n",
    "import matplotlib.pyplot as plt\n",
    "from matplotlib.font_manager import FontProperties\n",
    "import numpy as np"
   ]
  },
  {
   "cell_type": "code",
   "execution_count": null,
   "metadata": {},
   "outputs": [],
   "source": []
  },
  {
   "cell_type": "code",
   "execution_count": 6,
   "metadata": {},
   "outputs": [],
   "source": [
    "Coaches = pd.read_json('coaches.json')"
   ]
  },
  {
   "cell_type": "code",
   "execution_count": 7,
   "metadata": {},
   "outputs": [],
   "source": [
    "Players = pd.read_json('players.json')"
   ]
  },
  {
   "cell_type": "code",
   "execution_count": 8,
   "metadata": {},
   "outputs": [],
   "source": [
    "Events = pd.read_json('events_England.json')"
   ]
  },
  {
   "cell_type": "code",
   "execution_count": 64,
   "metadata": {},
   "outputs": [],
   "source": [
    "Teams = pd.read_json('teams.json')"
   ]
  },
  {
   "cell_type": "code",
   "execution_count": 10,
   "metadata": {},
   "outputs": [],
   "source": [
    "Matches = pd.read_json('matches_England.json')"
   ]
  },
  {
   "cell_type": "code",
   "execution_count": 11,
   "metadata": {},
   "outputs": [],
   "source": [
    "#Coaches"
   ]
  },
  {
   "cell_type": "code",
   "execution_count": 12,
   "metadata": {},
   "outputs": [],
   "source": [
    "#Players"
   ]
  },
  {
   "cell_type": "code",
   "execution_count": 13,
   "metadata": {},
   "outputs": [],
   "source": [
    "#Events"
   ]
  },
  {
   "cell_type": "code",
   "execution_count": 126,
   "metadata": {},
   "outputs": [],
   "source": [
    "#Matches.info()"
   ]
  },
  {
   "cell_type": "code",
   "execution_count": 54,
   "metadata": {},
   "outputs": [],
   "source": [
    "#Matches.describe"
   ]
  },
  {
   "cell_type": "code",
   "execution_count": 14,
   "metadata": {},
   "outputs": [
    {
     "data": {
      "text/html": [
       "<div>\n",
       "<style scoped>\n",
       "    .dataframe tbody tr th:only-of-type {\n",
       "        vertical-align: middle;\n",
       "    }\n",
       "\n",
       "    .dataframe tbody tr th {\n",
       "        vertical-align: top;\n",
       "    }\n",
       "\n",
       "    .dataframe thead th {\n",
       "        text-align: right;\n",
       "    }\n",
       "</style>\n",
       "<table border=\"1\" class=\"dataframe\">\n",
       "  <thead>\n",
       "    <tr style=\"text-align: right;\">\n",
       "      <th></th>\n",
       "      <th>area</th>\n",
       "      <th>city</th>\n",
       "      <th>name</th>\n",
       "      <th>officialName</th>\n",
       "      <th>type</th>\n",
       "      <th>wyId</th>\n",
       "    </tr>\n",
       "  </thead>\n",
       "  <tbody>\n",
       "    <tr>\n",
       "      <th>84</th>\n",
       "      <td>{'name': 'England', 'id': '0', 'alpha3code': '...</td>\n",
       "      <td>London</td>\n",
       "      <td>Arsenal</td>\n",
       "      <td>Arsenal FC</td>\n",
       "      <td>club</td>\n",
       "      <td>1609</td>\n",
       "    </tr>\n",
       "  </tbody>\n",
       "</table>\n",
       "</div>"
      ],
      "text/plain": [
       "                                                 area    city     name  \\\n",
       "84  {'name': 'England', 'id': '0', 'alpha3code': '...  London  Arsenal   \n",
       "\n",
       "   officialName  type  wyId  \n",
       "84   Arsenal FC  club  1609  "
      ]
     },
     "execution_count": 14,
     "metadata": {},
     "output_type": "execute_result"
    }
   ],
   "source": [
    "Teams[Teams['wyId']==1609]\n",
    "#1609== Arsenal"
   ]
  },
  {
   "cell_type": "code",
   "execution_count": null,
   "metadata": {},
   "outputs": [],
   "source": []
  },
  {
   "cell_type": "code",
   "execution_count": 15,
   "metadata": {},
   "outputs": [],
   "source": [
    "casa=[]\n",
    "trasferta=[]\n",
    "for x in Matches['teamsData']:\n",
    "    \n",
    "    for y in x:\n",
    "        d = {}\n",
    "        if x[y]['side'] == 'home':\n",
    "            d['home'] = y\n",
    "            casa.append(y)\n",
    "        else:\n",
    "            d['away'] = y\n",
    "            trasferta.append(y)\n",
    "#con questo ciclo vengono create due liste con le squadre di casa e di trasferta            "
   ]
  },
  {
   "cell_type": "code",
   "execution_count": 16,
   "metadata": {},
   "outputs": [
    {
     "name": "stdout",
     "output_type": "stream",
     "text": [
      "True\n"
     ]
    }
   ],
   "source": [
    "#check casa e trasferta\n",
    "len(casa)\n",
    "cont = 0 \n",
    "co2=0\n",
    "for i in range((len(casa))):\n",
    "    if casa[i]=='1609':\n",
    "        cont+=1\n",
    "    if trasferta[i]=='1609':\n",
    "        co2+=1\n",
    "print(cont==co2)\n",
    "#true => la squadra 1609 (Arsenal) ha giocato 19 volte in casa, 19 in trasferta"
   ]
  },
  {
   "cell_type": "code",
   "execution_count": null,
   "metadata": {},
   "outputs": [],
   "source": []
  },
  {
   "cell_type": "code",
   "execution_count": 192,
   "metadata": {},
   "outputs": [
    {
     "data": {
      "text/html": [
       "<div>\n",
       "<style scoped>\n",
       "    .dataframe tbody tr th:only-of-type {\n",
       "        vertical-align: middle;\n",
       "    }\n",
       "\n",
       "    .dataframe tbody tr th {\n",
       "        vertical-align: top;\n",
       "    }\n",
       "\n",
       "    .dataframe thead th {\n",
       "        text-align: right;\n",
       "    }\n",
       "</style>\n",
       "<table border=\"1\" class=\"dataframe\">\n",
       "  <thead>\n",
       "    <tr style=\"text-align: right;\">\n",
       "      <th></th>\n",
       "      <th>casa</th>\n",
       "      <th>trasferta</th>\n",
       "      <th>winner</th>\n",
       "      <th>week</th>\n",
       "    </tr>\n",
       "  </thead>\n",
       "  <tbody>\n",
       "    <tr>\n",
       "      <th>379</th>\n",
       "      <td>1609</td>\n",
       "      <td>1631</td>\n",
       "      <td>1609</td>\n",
       "      <td>1</td>\n",
       "    </tr>\n",
       "    <tr>\n",
       "      <th>370</th>\n",
       "      <td>1611</td>\n",
       "      <td>1633</td>\n",
       "      <td>1611</td>\n",
       "      <td>1</td>\n",
       "    </tr>\n",
       "    <tr>\n",
       "      <th>371</th>\n",
       "      <td>1613</td>\n",
       "      <td>1624</td>\n",
       "      <td>1624</td>\n",
       "      <td>1</td>\n",
       "    </tr>\n",
       "    <tr>\n",
       "      <th>372</th>\n",
       "      <td>1651</td>\n",
       "      <td>1625</td>\n",
       "      <td>1625</td>\n",
       "      <td>1</td>\n",
       "    </tr>\n",
       "    <tr>\n",
       "      <th>373</th>\n",
       "      <td>1610</td>\n",
       "      <td>1646</td>\n",
       "      <td>1646</td>\n",
       "      <td>1</td>\n",
       "    </tr>\n",
       "    <tr>\n",
       "      <th>378</th>\n",
       "      <td>1644</td>\n",
       "      <td>1612</td>\n",
       "      <td>0</td>\n",
       "      <td>1</td>\n",
       "    </tr>\n",
       "    <tr>\n",
       "      <th>375</th>\n",
       "      <td>1623</td>\n",
       "      <td>1639</td>\n",
       "      <td>1623</td>\n",
       "      <td>1</td>\n",
       "    </tr>\n",
       "    <tr>\n",
       "      <th>376</th>\n",
       "      <td>1619</td>\n",
       "      <td>10531</td>\n",
       "      <td>0</td>\n",
       "      <td>1</td>\n",
       "    </tr>\n",
       "    <tr>\n",
       "      <th>377</th>\n",
       "      <td>1627</td>\n",
       "      <td>1659</td>\n",
       "      <td>1627</td>\n",
       "      <td>1</td>\n",
       "    </tr>\n",
       "    <tr>\n",
       "      <th>374</th>\n",
       "      <td>1628</td>\n",
       "      <td>1673</td>\n",
       "      <td>1673</td>\n",
       "      <td>1</td>\n",
       "    </tr>\n",
       "  </tbody>\n",
       "</table>\n",
       "</div>"
      ],
      "text/plain": [
       "     casa trasferta  winner  week\n",
       "379  1609      1631    1609     1\n",
       "370  1611      1633    1611     1\n",
       "371  1613      1624    1624     1\n",
       "372  1651      1625    1625     1\n",
       "373  1610      1646    1646     1\n",
       "378  1644      1612       0     1\n",
       "375  1623      1639    1623     1\n",
       "376  1619     10531       0     1\n",
       "377  1627      1659    1627     1\n",
       "374  1628      1673    1673     1"
      ]
     },
     "execution_count": 192,
     "metadata": {},
     "output_type": "execute_result"
    }
   ],
   "source": [
    "matches_teams_VS = pd.DataFrame([list(x.keys()) for x in Matches.teamsData])\n",
    "WL = pd.DataFrame({'casa':casa, 'trasferta':trasferta , 'winner':Matches.winner,'week': Matches.gameweek})\n",
    "#ordiniamo WL in base alla settimana \n",
    "WL= WL.sort_values('week')\n",
    "WL[:10]\n",
    "#prendendo le prime 10 vedo tutta la prima giornata"
   ]
  },
  {
   "cell_type": "code",
   "execution_count": null,
   "metadata": {},
   "outputs": [],
   "source": []
  },
  {
   "cell_type": "code",
   "execution_count": 194,
   "metadata": {},
   "outputs": [
    {
     "data": {
      "text/html": [
       "<div>\n",
       "<style scoped>\n",
       "    .dataframe tbody tr th:only-of-type {\n",
       "        vertical-align: middle;\n",
       "    }\n",
       "\n",
       "    .dataframe tbody tr th {\n",
       "        vertical-align: top;\n",
       "    }\n",
       "\n",
       "    .dataframe thead th {\n",
       "        text-align: right;\n",
       "    }\n",
       "</style>\n",
       "<table border=\"1\" class=\"dataframe\">\n",
       "  <thead>\n",
       "    <tr style=\"text-align: right;\">\n",
       "      <th></th>\n",
       "      <th>casa</th>\n",
       "      <th>trasferta</th>\n",
       "      <th>winner</th>\n",
       "      <th>week</th>\n",
       "    </tr>\n",
       "  </thead>\n",
       "  <tbody>\n",
       "    <tr>\n",
       "      <th>379</th>\n",
       "      <td>1609</td>\n",
       "      <td>1631</td>\n",
       "      <td>1609</td>\n",
       "      <td>1</td>\n",
       "    </tr>\n",
       "    <tr>\n",
       "      <th>363</th>\n",
       "      <td>1639</td>\n",
       "      <td>1609</td>\n",
       "      <td>1639</td>\n",
       "      <td>2</td>\n",
       "    </tr>\n",
       "    <tr>\n",
       "      <th>350</th>\n",
       "      <td>1612</td>\n",
       "      <td>1609</td>\n",
       "      <td>1612</td>\n",
       "      <td>3</td>\n",
       "    </tr>\n",
       "    <tr>\n",
       "      <th>344</th>\n",
       "      <td>1609</td>\n",
       "      <td>1659</td>\n",
       "      <td>1609</td>\n",
       "      <td>4</td>\n",
       "    </tr>\n",
       "    <tr>\n",
       "      <th>331</th>\n",
       "      <td>1610</td>\n",
       "      <td>1609</td>\n",
       "      <td>0</td>\n",
       "      <td>5</td>\n",
       "    </tr>\n",
       "  </tbody>\n",
       "</table>\n",
       "</div>"
      ],
      "text/plain": [
       "     casa trasferta  winner  week\n",
       "379  1609      1631    1609     1\n",
       "363  1639      1609    1639     2\n",
       "350  1612      1609    1612     3\n",
       "344  1609      1659    1609     4\n",
       "331  1610      1609       0     5"
      ]
     },
     "execution_count": 194,
     "metadata": {},
     "output_type": "execute_result"
    }
   ],
   "source": [
    "#tutte le partite giocate dalla squadra 1609 => Arsenal\n",
    "aa= WL[WL['casa']=='1609']\n",
    "bb= WL[WL['trasferta']=='1609']\n",
    "result=(pd.concat([aa, bb])).sort_values('week')\n",
    "result.head()"
   ]
  },
  {
   "cell_type": "code",
   "execution_count": null,
   "metadata": {},
   "outputs": [],
   "source": []
  },
  {
   "cell_type": "code",
   "execution_count": 19,
   "metadata": {},
   "outputs": [
    {
     "name": "stdout",
     "output_type": "stream",
     "text": [
      "['1646', '1659', '1628', '1627', '1673', '1609', '1612', '1651', '1611', '1644', '1613', '1610', '1619', '1625', '10531', '1639', '1624', '1631', '1633', '1623']\n",
      "20\n"
     ]
    }
   ],
   "source": [
    "WL[WL['week']==1]\n",
    "squadre_en=[]\n",
    "for i in range(10):\n",
    "    squadre_en.append(casa[i])\n",
    "    squadre_en.append(trasferta[i])\n",
    "print(squadre_en)\n",
    "print(len(set(squadre_en))) #sono 20 quindi va bene "
   ]
  },
  {
   "cell_type": "code",
   "execution_count": 20,
   "metadata": {},
   "outputs": [
    {
     "data": {
      "text/plain": [
       "[]"
      ]
     },
     "execution_count": 20,
     "metadata": {},
     "output_type": "execute_result"
    }
   ],
   "source": [
    "# fare join tra squadre_en e team ID del dataset allenatore\n",
    "#result = pd.merge(left, right, on='key')\n",
    "squadre=pd.DataFrame({'TeamID':squadre_en})\n",
    "\n",
    "Allenatore = pd.DataFrame(Coaches)\n",
    "#Allenatore['currentTeamId']\n",
    "squadre_en\n",
    "\n",
    "prova=[]\n",
    "for i in range(len(squadre_en)):\n",
    "    for j in range(len(Allenatore['currentTeamId'])):\n",
    "        if Allenatore['currentTeamId'][j]==squadre_en[i]:\n",
    "            prova.append(Allenatore['currentTeamId'][j])\n",
    "        \n",
    "    \n",
    "prova\n",
    "#result = squadre.join(Allenatore, on=['TeamID', 'currentTeamId'])\n",
    "#result"
   ]
  },
  {
   "cell_type": "code",
   "execution_count": null,
   "metadata": {},
   "outputs": [],
   "source": []
  },
  {
   "cell_type": "code",
   "execution_count": 21,
   "metadata": {},
   "outputs": [
    {
     "name": "stdout",
     "output_type": "stream",
     "text": [
      "<class 'pandas.core.frame.DataFrame'>\n",
      "RangeIndex: 208 entries, 0 to 207\n",
      "Data columns (total 9 columns):\n",
      "birthArea        208 non-null object\n",
      "birthDate        206 non-null object\n",
      "currentTeamId    208 non-null int64\n",
      "firstName        208 non-null object\n",
      "lastName         208 non-null object\n",
      "middleName       208 non-null object\n",
      "passportArea     208 non-null object\n",
      "shortName        208 non-null object\n",
      "wyId             208 non-null int64\n",
      "dtypes: int64(2), object(7)\n",
      "memory usage: 14.7+ KB\n"
     ]
    }
   ],
   "source": [
    "Allenatore.info()"
   ]
  },
  {
   "cell_type": "code",
   "execution_count": 22,
   "metadata": {},
   "outputs": [
    {
     "data": {
      "text/html": [
       "<div>\n",
       "<style scoped>\n",
       "    .dataframe tbody tr th:only-of-type {\n",
       "        vertical-align: middle;\n",
       "    }\n",
       "\n",
       "    .dataframe tbody tr th {\n",
       "        vertical-align: top;\n",
       "    }\n",
       "\n",
       "    .dataframe thead th {\n",
       "        text-align: right;\n",
       "    }\n",
       "</style>\n",
       "<table border=\"1\" class=\"dataframe\">\n",
       "  <thead>\n",
       "    <tr style=\"text-align: right;\">\n",
       "      <th></th>\n",
       "      <th>id</th>\n",
       "      <th>Name</th>\n",
       "    </tr>\n",
       "  </thead>\n",
       "  <tbody>\n",
       "    <tr>\n",
       "      <th>0</th>\n",
       "      <td>1613</td>\n",
       "      <td>Newcastle United FC</td>\n",
       "    </tr>\n",
       "    <tr>\n",
       "      <th>1</th>\n",
       "      <td>692</td>\n",
       "      <td>Real Club Celta de Vigo</td>\n",
       "    </tr>\n",
       "    <tr>\n",
       "      <th>2</th>\n",
       "      <td>691</td>\n",
       "      <td>Reial Club Deportiu Espanyol</td>\n",
       "    </tr>\n",
       "    <tr>\n",
       "      <th>3</th>\n",
       "      <td>696</td>\n",
       "      <td>Deportivo Alav\\u00e9s</td>\n",
       "    </tr>\n",
       "    <tr>\n",
       "      <th>4</th>\n",
       "      <td>695</td>\n",
       "      <td>Levante UD</td>\n",
       "    </tr>\n",
       "  </tbody>\n",
       "</table>\n",
       "</div>"
      ],
      "text/plain": [
       "     id                          Name\n",
       "0  1613           Newcastle United FC\n",
       "1   692       Real Club Celta de Vigo\n",
       "2   691  Reial Club Deportiu Espanyol\n",
       "3   696         Deportivo Alav\\u00e9s\n",
       "4   695                    Levante UD"
      ]
     },
     "execution_count": 22,
     "metadata": {},
     "output_type": "execute_result"
    }
   ],
   "source": [
    "Teams_ID_Name = pd.DataFrame({'id':Teams.wyId, 'Name':Teams.officialName})\n",
    "Teams_ID_Name.head()\n"
   ]
  },
  {
   "cell_type": "code",
   "execution_count": 213,
   "metadata": {},
   "outputs": [],
   "source": []
  },
  {
   "cell_type": "code",
   "execution_count": null,
   "metadata": {},
   "outputs": [],
   "source": []
  },
  {
   "cell_type": "code",
   "execution_count": null,
   "metadata": {},
   "outputs": [],
   "source": []
  },
  {
   "cell_type": "code",
   "execution_count": 24,
   "metadata": {},
   "outputs": [
    {
     "name": "stdout",
     "output_type": "stream",
     "text": [
      "Percentage of home Victory 0.45\n",
      "Percentage of home Victory or Draw 0.7157894736842105\n"
     ]
    }
   ],
   "source": [
    "##RQ2\n",
    "#percentuale di vittori della squadra di casa:\n",
    "WL1 = WL[['casa','winner']]\n",
    "WL1\n",
    "cas=list(WL['casa'])\n",
    "tras=list(WL['winner'])\n",
    "conta_casa=0\n",
    "for i in range(len(cas)):\n",
    "    if int(cas[i])==int(tras[i]):\n",
    "        conta_casa+=1\n",
    "#print(conta_casa)\n",
    "\n",
    "\n",
    "var_1X=0\n",
    "for i in range(len(cas)):\n",
    "    if int(cas[i])==int(tras[i]):\n",
    "        var_1X+=1\n",
    "    elif int(tras[i])==0:\n",
    "        var_1X+=1\n",
    "#print(var_1X)\n",
    "ratio_1=conta_casa/len(cas)\n",
    "ratio_1X=var_1X/len(cas)\n",
    "print('Percentage of home Victory',ratio_1)\n",
    "print('Percentage of home Victory or Draw',ratio_1X)\n",
    "#volendo modificando questi cicli si possono ottenere percentuali singole di pareggio o sconfitta per la squadra di casa\n"
   ]
  },
  {
   "cell_type": "code",
   "execution_count": 35,
   "metadata": {},
   "outputs": [
    {
     "data": {
      "text/plain": [
       "['1639', '1624', '1631', '1633', '1623']"
      ]
     },
     "execution_count": 35,
     "metadata": {},
     "output_type": "execute_result"
    }
   ],
   "source": [
    "#selezionare 5 Teams\n",
    "squadre.head()\n",
    "#prese le prime 5 che compaiono\n",
    "five_star=squadre[-5:]\n",
    "five_=[]\n",
    "for i in range(len(five_star)):\n",
    "    five_.append(five_star.iloc[i][0])\n",
    "five_\n"
   ]
  },
  {
   "cell_type": "code",
   "execution_count": 26,
   "metadata": {},
   "outputs": [
    {
     "data": {
      "text/html": [
       "<div>\n",
       "<style scoped>\n",
       "    .dataframe tbody tr th:only-of-type {\n",
       "        vertical-align: middle;\n",
       "    }\n",
       "\n",
       "    .dataframe tbody tr th {\n",
       "        vertical-align: top;\n",
       "    }\n",
       "\n",
       "    .dataframe thead th {\n",
       "        text-align: right;\n",
       "    }\n",
       "</style>\n",
       "<table border=\"1\" class=\"dataframe\">\n",
       "  <thead>\n",
       "    <tr style=\"text-align: right;\">\n",
       "      <th></th>\n",
       "      <th>casa</th>\n",
       "      <th>trasferta</th>\n",
       "      <th>winner</th>\n",
       "      <th>week</th>\n",
       "    </tr>\n",
       "  </thead>\n",
       "  <tbody>\n",
       "    <tr>\n",
       "      <th>379</th>\n",
       "      <td>1609</td>\n",
       "      <td>1631</td>\n",
       "      <td>1609</td>\n",
       "      <td>1</td>\n",
       "    </tr>\n",
       "    <tr>\n",
       "      <th>370</th>\n",
       "      <td>1611</td>\n",
       "      <td>1633</td>\n",
       "      <td>1611</td>\n",
       "      <td>1</td>\n",
       "    </tr>\n",
       "    <tr>\n",
       "      <th>371</th>\n",
       "      <td>1613</td>\n",
       "      <td>1624</td>\n",
       "      <td>1624</td>\n",
       "      <td>1</td>\n",
       "    </tr>\n",
       "    <tr>\n",
       "      <th>372</th>\n",
       "      <td>1651</td>\n",
       "      <td>1625</td>\n",
       "      <td>1625</td>\n",
       "      <td>1</td>\n",
       "    </tr>\n",
       "    <tr>\n",
       "      <th>373</th>\n",
       "      <td>1610</td>\n",
       "      <td>1646</td>\n",
       "      <td>1646</td>\n",
       "      <td>1</td>\n",
       "    </tr>\n",
       "  </tbody>\n",
       "</table>\n",
       "</div>"
      ],
      "text/plain": [
       "     casa trasferta  winner  week\n",
       "379  1609      1631    1609     1\n",
       "370  1611      1633    1611     1\n",
       "371  1613      1624    1624     1\n",
       "372  1651      1625    1625     1\n",
       "373  1610      1646    1646     1"
      ]
     },
     "execution_count": 26,
     "metadata": {},
     "output_type": "execute_result"
    }
   ],
   "source": [
    "WL.head()"
   ]
  },
  {
   "cell_type": "code",
   "execution_count": 36,
   "metadata": {},
   "outputs": [
    {
     "name": "stdout",
     "output_type": "stream",
     "text": [
      "0.2631578947368421\n"
     ]
    }
   ],
   "source": [
    "#tutte le partite giocate dalla squadra 1639 => ?\n",
    "fAcasa= WL[WL['casa']==five_[0]]\n",
    "fAwin = fAcasa[['winner']]\n",
    "fAcasa1= list(fAcasa['casa'])\n",
    "fAwin1= list(fAwin['winner'])\n",
    "ratiofA=0\n",
    "for i in range(len(fAcasa)):\n",
    "    if int(fAcasa1[i])==int(fAwin1[i]):\n",
    "        ratiofA+=1\n",
    "print(ratiofA/len(fAcasa))\n",
    "#la percentuale di vittorie a casa della squadra 1646 è del 26%"
   ]
  },
  {
   "cell_type": "code",
   "execution_count": 222,
   "metadata": {},
   "outputs": [
    {
     "name": "stdout",
     "output_type": "stream",
     "text": [
      "0.3684210526315789\n"
     ]
    }
   ],
   "source": [
    "#tutte le partite giocate dalla squadra 1624 \n",
    "fBcasa= WL[WL['casa']==five_[2]]\n",
    "fBwin = fBcasa[['winner']]\n",
    "fBcasa1= list(fBcasa['casa'])\n",
    "fBwin1= list(fBwin['winner'])\n",
    "ratiofB=0\n",
    "for i in range(len(fBcasa)):\n",
    "    if int(fBcasa1[i])==int(fBwin1[i]):\n",
    "        ratiofB+=1\n",
    "print(ratiofB/len(fBcasa))\n",
    "#la percentuale di vittorie a casa della squadra 1659 è del 68%"
   ]
  },
  {
   "cell_type": "code",
   "execution_count": null,
   "metadata": {},
   "outputs": [],
   "source": [
    "#anzi che copiare e incollare sarebbe ideale costruire una funzione che calcoli tutte le percentuali"
   ]
  },
  {
   "cell_type": "code",
   "execution_count": 223,
   "metadata": {},
   "outputs": [
    {
     "name": "stdout",
     "output_type": "stream",
     "text": [
      "[0, 1, 2, 3, 4, 6, 8, 9, 10, 11, 12, 15, 16, 17, 18, 21, 22, 25, 26, 27, 30, 31, 34, 36, 37, 38, 40, 42, 43, 44, 45, 46, 49, 53, 56, 59, 61, 65, 67, 69, 70, 72, 74, 77, 79, 80, 81, 82, 84, 85, 88, 90, 91, 96, 97, 98]\n"
     ]
    }
   ],
   "source": [
    "#RQ4\n",
    "#Players.info()\n",
    "#from pandas.io.json import json_normalize\n",
    "#acc=pd.DataFrame(json_normalize(data = Events['tags']))\n",
    "acc1=Events['tags']\n",
    "#type(acc1)  acc1 è una serie pandas\n",
    "acc2=list(acc1)\n",
    "acc2 #lo convertiamo in una lista\n",
    "#for i in range(len(acc2)):\n",
    "\n",
    "#col metodo find vedo se c'è 1801\n",
    "\n",
    "#str(acc2[7]).find('1801')\n",
    "#print(acc2[7])\n",
    "#print(acc2[60])\n",
    "#str(acc2[7]).find('1801')\n",
    "l=[]\n",
    "for i in range(len(acc2[:100])):\n",
    "    if str(acc2[i]).find('1801')>0:\n",
    "        l.append(i)\n",
    "print(l)\n",
    "\n"
   ]
  },
  {
   "cell_type": "code",
   "execution_count": 219,
   "metadata": {},
   "outputs": [
    {
     "data": {
      "text/html": [
       "<div>\n",
       "<style scoped>\n",
       "    .dataframe tbody tr th:only-of-type {\n",
       "        vertical-align: middle;\n",
       "    }\n",
       "\n",
       "    .dataframe tbody tr th {\n",
       "        vertical-align: top;\n",
       "    }\n",
       "\n",
       "    .dataframe thead th {\n",
       "        text-align: right;\n",
       "    }\n",
       "</style>\n",
       "<table border=\"1\" class=\"dataframe\">\n",
       "  <thead>\n",
       "    <tr style=\"text-align: right;\">\n",
       "      <th></th>\n",
       "      <th>Player</th>\n",
       "      <th>nome</th>\n",
       "      <th>tags</th>\n",
       "      <th>squadra</th>\n",
       "    </tr>\n",
       "  </thead>\n",
       "  <tbody>\n",
       "    <tr>\n",
       "      <th>0</th>\n",
       "      <td>25413</td>\n",
       "      <td>Simple pass</td>\n",
       "      <td>[{'id': 1801}]</td>\n",
       "      <td>1609</td>\n",
       "    </tr>\n",
       "    <tr>\n",
       "      <th>1</th>\n",
       "      <td>370224</td>\n",
       "      <td>High pass</td>\n",
       "      <td>[{'id': 1801}]</td>\n",
       "      <td>1609</td>\n",
       "    </tr>\n",
       "    <tr>\n",
       "      <th>2</th>\n",
       "      <td>3319</td>\n",
       "      <td>Head pass</td>\n",
       "      <td>[{'id': 1801}]</td>\n",
       "      <td>1609</td>\n",
       "    </tr>\n",
       "    <tr>\n",
       "      <th>3</th>\n",
       "      <td>120339</td>\n",
       "      <td>Head pass</td>\n",
       "      <td>[{'id': 1801}]</td>\n",
       "      <td>1609</td>\n",
       "    </tr>\n",
       "    <tr>\n",
       "      <th>4</th>\n",
       "      <td>167145</td>\n",
       "      <td>Simple pass</td>\n",
       "      <td>[{'id': 1801}]</td>\n",
       "      <td>1609</td>\n",
       "    </tr>\n",
       "  </tbody>\n",
       "</table>\n",
       "</div>"
      ],
      "text/plain": [
       "   Player         nome            tags  squadra\n",
       "0   25413  Simple pass  [{'id': 1801}]     1609\n",
       "1  370224    High pass  [{'id': 1801}]     1609\n",
       "2    3319    Head pass  [{'id': 1801}]     1609\n",
       "3  120339    Head pass  [{'id': 1801}]     1609\n",
       "4  167145  Simple pass  [{'id': 1801}]     1609"
      ]
     },
     "execution_count": 219,
     "metadata": {},
     "output_type": "execute_result"
    }
   ],
   "source": [
    "Pass = pd.DataFrame(Events[Events['eventName']==str('Pass')])\n",
    "Pass.head()\n",
    "Pass1 = pd.DataFrame({'Player':Pass.playerId, 'nome':Pass.subEventName , 'tags':Pass.tags,'squadra': Pass.teamId})\n",
    "Pass1.head()\n",
    "#join su squadre inglesi \n",
    "#fatto il join scrivere for per ottenere solo i tags con 1801 => passaggi riusciti \n",
    "\n",
    "\n",
    "#assegnare dei pesi: piu passaggi fa piu è importate il ratio \n"
   ]
  },
  {
   "cell_type": "code",
   "execution_count": 225,
   "metadata": {},
   "outputs": [
    {
     "data": {
      "text/html": [
       "<div>\n",
       "<style scoped>\n",
       "    .dataframe tbody tr th:only-of-type {\n",
       "        vertical-align: middle;\n",
       "    }\n",
       "\n",
       "    .dataframe tbody tr th {\n",
       "        vertical-align: top;\n",
       "    }\n",
       "\n",
       "    .dataframe thead th {\n",
       "        text-align: right;\n",
       "    }\n",
       "</style>\n",
       "<table border=\"1\" class=\"dataframe\">\n",
       "  <thead>\n",
       "    <tr style=\"text-align: right;\">\n",
       "      <th></th>\n",
       "      <th>Player</th>\n",
       "      <th>subEV</th>\n",
       "      <th>tags</th>\n",
       "      <th>squadra</th>\n",
       "    </tr>\n",
       "  </thead>\n",
       "  <tbody>\n",
       "    <tr>\n",
       "      <th>7</th>\n",
       "      <td>8013</td>\n",
       "      <td>10</td>\n",
       "      <td>[{'id': 701}, {'id': 1802}]</td>\n",
       "      <td>1631</td>\n",
       "    </tr>\n",
       "    <tr>\n",
       "      <th>8</th>\n",
       "      <td>0</td>\n",
       "      <td>10</td>\n",
       "      <td>[{'id': 703}, {'id': 1801}]</td>\n",
       "      <td>1609</td>\n",
       "    </tr>\n",
       "    <tr>\n",
       "      <th>12</th>\n",
       "      <td>8653</td>\n",
       "      <td>10</td>\n",
       "      <td>[{'id': 703}, {'id': 1801}]</td>\n",
       "      <td>1631</td>\n",
       "    </tr>\n",
       "    <tr>\n",
       "      <th>13</th>\n",
       "      <td>25413</td>\n",
       "      <td>10</td>\n",
       "      <td>[{'id': 701}, {'id': 1802}]</td>\n",
       "      <td>1609</td>\n",
       "    </tr>\n",
       "    <tr>\n",
       "      <th>27</th>\n",
       "      <td>192748</td>\n",
       "      <td>10</td>\n",
       "      <td>[{'id': 703}, {'id': 1801}]</td>\n",
       "      <td>1631</td>\n",
       "    </tr>\n",
       "  </tbody>\n",
       "</table>\n",
       "</div>"
      ],
      "text/plain": [
       "    Player subEV                         tags  squadra\n",
       "7     8013    10  [{'id': 701}, {'id': 1802}]     1631\n",
       "8        0    10  [{'id': 703}, {'id': 1801}]     1609\n",
       "12    8653    10  [{'id': 703}, {'id': 1801}]     1631\n",
       "13   25413    10  [{'id': 701}, {'id': 1802}]     1609\n",
       "27  192748    10  [{'id': 703}, {'id': 1801}]     1631"
      ]
     },
     "execution_count": 225,
     "metadata": {},
     "output_type": "execute_result"
    }
   ],
   "source": [
    "#RQ5\n",
    "#ratio of AirDuel \n",
    "#Air Duel=> subEventId = 10 \n",
    "eventi = Events['subEventId']\n",
    "AD = pd.DataFrame(Events[Events['subEventId']==int(10)])\n",
    "AD.head()\n",
    "#ottenuto il dataset di tutti i duelli aerei \n",
    "#intersecare con i duelli aerei delle squadre inglesi \n",
    "#vado a prendermi le colonne che mi interessano\n",
    "AD = pd.DataFrame({'Player':AD.playerId, 'subEV':AD.subEventId , 'tags':AD.tags,'squadra': AD.teamId})\n",
    "AD.head()\n",
    "#fare join squadre inglesi "
   ]
  },
  {
   "cell_type": "code",
   "execution_count": null,
   "metadata": {},
   "outputs": [],
   "source": []
  },
  {
   "cell_type": "code",
   "execution_count": null,
   "metadata": {},
   "outputs": [],
   "source": []
  },
  {
   "cell_type": "code",
   "execution_count": null,
   "metadata": {},
   "outputs": [],
   "source": []
  },
  {
   "cell_type": "code",
   "execution_count": null,
   "metadata": {},
   "outputs": [],
   "source": []
  }
 ],
 "metadata": {
  "kernelspec": {
   "display_name": "Python 3",
   "language": "python",
   "name": "python3"
  },
  "language_info": {
   "codemirror_mode": {
    "name": "ipython",
    "version": 3
   },
   "file_extension": ".py",
   "mimetype": "text/x-python",
   "name": "python",
   "nbconvert_exporter": "python",
   "pygments_lexer": "ipython3",
   "version": "3.7.3"
  }
 },
 "nbformat": 4,
 "nbformat_minor": 4
}
