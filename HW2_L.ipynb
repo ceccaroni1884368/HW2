{
 "cells": [
  {
   "cell_type": "code",
   "execution_count": 3,
   "metadata": {},
   "outputs": [],
   "source": [
    "import pandas as pd\n",
    "import numpy as np\n",
    "from datetime import datetime\n",
    "#comandi generali per importare "
   ]
  },
  {
   "cell_type": "code",
   "execution_count": 4,
   "metadata": {},
   "outputs": [],
   "source": [
    "import json\n",
    "import pandas as pd\n",
    "import matplotlib.pyplot as plt\n",
    "from matplotlib.font_manager import FontProperties\n",
    "import numpy as np"
   ]
  },
  {
   "cell_type": "code",
   "execution_count": null,
   "metadata": {},
   "outputs": [],
   "source": []
  },
  {
   "cell_type": "code",
   "execution_count": 5,
   "metadata": {},
   "outputs": [],
   "source": [
    "Coaches = pd.read_json('coaches.json')"
   ]
  },
  {
   "cell_type": "code",
   "execution_count": 6,
   "metadata": {},
   "outputs": [],
   "source": [
    "Players = pd.read_json('players.json')"
   ]
  },
  {
   "cell_type": "code",
   "execution_count": 10,
   "metadata": {},
   "outputs": [],
   "source": [
    "Events = pd.read_json('events_England.json')"
   ]
  },
  {
   "cell_type": "code",
   "execution_count": 11,
   "metadata": {},
   "outputs": [],
   "source": [
    "Teams = pd.read_json('teams.json')"
   ]
  },
  {
   "cell_type": "code",
   "execution_count": 12,
   "metadata": {},
   "outputs": [],
   "source": [
    "Matches = pd.read_json('matches_England.json')"
   ]
  },
  {
   "cell_type": "code",
   "execution_count": 13,
   "metadata": {},
   "outputs": [],
   "source": [
    "#Coaches"
   ]
  },
  {
   "cell_type": "code",
   "execution_count": 14,
   "metadata": {},
   "outputs": [],
   "source": [
    "#Players"
   ]
  },
  {
   "cell_type": "code",
   "execution_count": 15,
   "metadata": {},
   "outputs": [],
   "source": [
    "#Events"
   ]
  },
  {
   "cell_type": "code",
   "execution_count": 16,
   "metadata": {},
   "outputs": [],
   "source": [
    "#Matches.info()"
   ]
  },
  {
   "cell_type": "code",
   "execution_count": 17,
   "metadata": {},
   "outputs": [],
   "source": [
    "#Matches.describe"
   ]
  },
  {
   "cell_type": "code",
   "execution_count": 18,
   "metadata": {},
   "outputs": [
    {
     "data": {
      "text/plain": [
       "['Arsenal FC']"
      ]
     },
     "execution_count": 18,
     "metadata": {},
     "output_type": "execute_result"
    }
   ],
   "source": [
    "list(Teams[Teams['wyId']==1609]['officialName'])\n",
    "#1609== Arsenal\n"
   ]
  },
  {
   "cell_type": "code",
   "execution_count": null,
   "metadata": {},
   "outputs": [],
   "source": [
    "\n"
   ]
  },
  {
   "cell_type": "code",
   "execution_count": 19,
   "metadata": {},
   "outputs": [],
   "source": [
    "casa=[]\n",
    "trasferta=[]\n",
    "for x in Matches['teamsData']:\n",
    "    \n",
    "    for y in x:\n",
    "        d = {}\n",
    "        if x[y]['side'] == 'home':\n",
    "            d['home'] = y\n",
    "            casa.append(y)\n",
    "        else:\n",
    "            d['away'] = y\n",
    "            trasferta.append(y)\n",
    "#con questo ciclo vengono create due liste con le squadre di casa e di trasferta            "
   ]
  },
  {
   "cell_type": "code",
   "execution_count": 20,
   "metadata": {},
   "outputs": [
    {
     "name": "stdout",
     "output_type": "stream",
     "text": [
      "True\n"
     ]
    }
   ],
   "source": [
    "#check casa e trasferta\n",
    "len(casa)\n",
    "cont = 0 \n",
    "co2=0\n",
    "for i in range((len(casa))):\n",
    "    if casa[i]=='1609':\n",
    "        cont+=1\n",
    "    if trasferta[i]=='1609':\n",
    "        co2+=1\n",
    "print(cont==co2)\n",
    "#true => la squadra 1609 (Arsenal) ha giocato 19 volte in casa, 19 in trasferta"
   ]
  },
  {
   "cell_type": "code",
   "execution_count": null,
   "metadata": {},
   "outputs": [],
   "source": []
  },
  {
   "cell_type": "code",
   "execution_count": 21,
   "metadata": {},
   "outputs": [
    {
     "data": {
      "text/html": [
       "<div>\n",
       "<style scoped>\n",
       "    .dataframe tbody tr th:only-of-type {\n",
       "        vertical-align: middle;\n",
       "    }\n",
       "\n",
       "    .dataframe tbody tr th {\n",
       "        vertical-align: top;\n",
       "    }\n",
       "\n",
       "    .dataframe thead th {\n",
       "        text-align: right;\n",
       "    }\n",
       "</style>\n",
       "<table border=\"1\" class=\"dataframe\">\n",
       "  <thead>\n",
       "    <tr style=\"text-align: right;\">\n",
       "      <th></th>\n",
       "      <th>casa</th>\n",
       "      <th>trasferta</th>\n",
       "      <th>winner</th>\n",
       "      <th>week</th>\n",
       "    </tr>\n",
       "  </thead>\n",
       "  <tbody>\n",
       "    <tr>\n",
       "      <th>379</th>\n",
       "      <td>1609</td>\n",
       "      <td>1631</td>\n",
       "      <td>1609</td>\n",
       "      <td>1</td>\n",
       "    </tr>\n",
       "    <tr>\n",
       "      <th>370</th>\n",
       "      <td>1611</td>\n",
       "      <td>1633</td>\n",
       "      <td>1611</td>\n",
       "      <td>1</td>\n",
       "    </tr>\n",
       "    <tr>\n",
       "      <th>371</th>\n",
       "      <td>1613</td>\n",
       "      <td>1624</td>\n",
       "      <td>1624</td>\n",
       "      <td>1</td>\n",
       "    </tr>\n",
       "    <tr>\n",
       "      <th>372</th>\n",
       "      <td>1651</td>\n",
       "      <td>1625</td>\n",
       "      <td>1625</td>\n",
       "      <td>1</td>\n",
       "    </tr>\n",
       "    <tr>\n",
       "      <th>373</th>\n",
       "      <td>1610</td>\n",
       "      <td>1646</td>\n",
       "      <td>1646</td>\n",
       "      <td>1</td>\n",
       "    </tr>\n",
       "    <tr>\n",
       "      <th>378</th>\n",
       "      <td>1644</td>\n",
       "      <td>1612</td>\n",
       "      <td>0</td>\n",
       "      <td>1</td>\n",
       "    </tr>\n",
       "    <tr>\n",
       "      <th>375</th>\n",
       "      <td>1623</td>\n",
       "      <td>1639</td>\n",
       "      <td>1623</td>\n",
       "      <td>1</td>\n",
       "    </tr>\n",
       "    <tr>\n",
       "      <th>376</th>\n",
       "      <td>1619</td>\n",
       "      <td>10531</td>\n",
       "      <td>0</td>\n",
       "      <td>1</td>\n",
       "    </tr>\n",
       "    <tr>\n",
       "      <th>377</th>\n",
       "      <td>1627</td>\n",
       "      <td>1659</td>\n",
       "      <td>1627</td>\n",
       "      <td>1</td>\n",
       "    </tr>\n",
       "    <tr>\n",
       "      <th>374</th>\n",
       "      <td>1628</td>\n",
       "      <td>1673</td>\n",
       "      <td>1673</td>\n",
       "      <td>1</td>\n",
       "    </tr>\n",
       "  </tbody>\n",
       "</table>\n",
       "</div>"
      ],
      "text/plain": [
       "     casa trasferta  winner  week\n",
       "379  1609      1631    1609     1\n",
       "370  1611      1633    1611     1\n",
       "371  1613      1624    1624     1\n",
       "372  1651      1625    1625     1\n",
       "373  1610      1646    1646     1\n",
       "378  1644      1612       0     1\n",
       "375  1623      1639    1623     1\n",
       "376  1619     10531       0     1\n",
       "377  1627      1659    1627     1\n",
       "374  1628      1673    1673     1"
      ]
     },
     "execution_count": 21,
     "metadata": {},
     "output_type": "execute_result"
    }
   ],
   "source": [
    "matches_teams_VS = pd.DataFrame([list(x.keys()) for x in Matches.teamsData])\n",
    "WL = pd.DataFrame({'casa':casa, 'trasferta':trasferta , 'winner':Matches.winner,'week': Matches.gameweek})\n",
    "#ordiniamo WL in base alla settimana \n",
    "WL= WL.sort_values('week')\n",
    "WL[:10]\n",
    "#prendendo le prime 10 vedo tutta la prima giornata"
   ]
  },
  {
   "cell_type": "code",
   "execution_count": 24,
   "metadata": {},
   "outputs": [
    {
     "data": {
      "text/html": [
       "<div>\n",
       "<style scoped>\n",
       "    .dataframe tbody tr th:only-of-type {\n",
       "        vertical-align: middle;\n",
       "    }\n",
       "\n",
       "    .dataframe tbody tr th {\n",
       "        vertical-align: top;\n",
       "    }\n",
       "\n",
       "    .dataframe thead th {\n",
       "        text-align: right;\n",
       "    }\n",
       "</style>\n",
       "<table border=\"1\" class=\"dataframe\">\n",
       "  <thead>\n",
       "    <tr style=\"text-align: right;\">\n",
       "      <th></th>\n",
       "      <th>casa</th>\n",
       "      <th>trasferta</th>\n",
       "      <th>winner</th>\n",
       "      <th>week</th>\n",
       "    </tr>\n",
       "  </thead>\n",
       "  <tbody>\n",
       "    <tr>\n",
       "      <th>379</th>\n",
       "      <td>1609</td>\n",
       "      <td>1631</td>\n",
       "      <td>1609</td>\n",
       "      <td>1</td>\n",
       "    </tr>\n",
       "    <tr>\n",
       "      <th>344</th>\n",
       "      <td>1609</td>\n",
       "      <td>1659</td>\n",
       "      <td>1609</td>\n",
       "      <td>4</td>\n",
       "    </tr>\n",
       "    <tr>\n",
       "      <th>320</th>\n",
       "      <td>1609</td>\n",
       "      <td>1627</td>\n",
       "      <td>1609</td>\n",
       "      <td>6</td>\n",
       "    </tr>\n",
       "    <tr>\n",
       "      <th>312</th>\n",
       "      <td>1609</td>\n",
       "      <td>1651</td>\n",
       "      <td>1609</td>\n",
       "      <td>7</td>\n",
       "    </tr>\n",
       "    <tr>\n",
       "      <th>284</th>\n",
       "      <td>1609</td>\n",
       "      <td>10531</td>\n",
       "      <td>1609</td>\n",
       "      <td>10</td>\n",
       "    </tr>\n",
       "    <tr>\n",
       "      <th>269</th>\n",
       "      <td>1609</td>\n",
       "      <td>1624</td>\n",
       "      <td>1609</td>\n",
       "      <td>12</td>\n",
       "    </tr>\n",
       "    <tr>\n",
       "      <th>244</th>\n",
       "      <td>1609</td>\n",
       "      <td>1673</td>\n",
       "      <td>1609</td>\n",
       "      <td>14</td>\n",
       "    </tr>\n",
       "    <tr>\n",
       "      <th>232</th>\n",
       "      <td>1609</td>\n",
       "      <td>1611</td>\n",
       "      <td>1611</td>\n",
       "      <td>15</td>\n",
       "    </tr>\n",
       "    <tr>\n",
       "      <th>205</th>\n",
       "      <td>1609</td>\n",
       "      <td>1613</td>\n",
       "      <td>1609</td>\n",
       "      <td>18</td>\n",
       "    </tr>\n",
       "    <tr>\n",
       "      <th>199</th>\n",
       "      <td>1609</td>\n",
       "      <td>1612</td>\n",
       "      <td>0</td>\n",
       "      <td>19</td>\n",
       "    </tr>\n",
       "    <tr>\n",
       "      <th>161</th>\n",
       "      <td>1609</td>\n",
       "      <td>1610</td>\n",
       "      <td>0</td>\n",
       "      <td>22</td>\n",
       "    </tr>\n",
       "    <tr>\n",
       "      <th>143</th>\n",
       "      <td>1609</td>\n",
       "      <td>1628</td>\n",
       "      <td>1609</td>\n",
       "      <td>24</td>\n",
       "    </tr>\n",
       "    <tr>\n",
       "      <th>123</th>\n",
       "      <td>1609</td>\n",
       "      <td>1623</td>\n",
       "      <td>1609</td>\n",
       "      <td>26</td>\n",
       "    </tr>\n",
       "    <tr>\n",
       "      <th>100</th>\n",
       "      <td>1609</td>\n",
       "      <td>1625</td>\n",
       "      <td>1625</td>\n",
       "      <td>28</td>\n",
       "    </tr>\n",
       "    <tr>\n",
       "      <th>82</th>\n",
       "      <td>1609</td>\n",
       "      <td>1644</td>\n",
       "      <td>1609</td>\n",
       "      <td>30</td>\n",
       "    </tr>\n",
       "    <tr>\n",
       "      <th>67</th>\n",
       "      <td>1609</td>\n",
       "      <td>1639</td>\n",
       "      <td>1609</td>\n",
       "      <td>32</td>\n",
       "    </tr>\n",
       "    <tr>\n",
       "      <th>57</th>\n",
       "      <td>1609</td>\n",
       "      <td>1619</td>\n",
       "      <td>1609</td>\n",
       "      <td>33</td>\n",
       "    </tr>\n",
       "    <tr>\n",
       "      <th>38</th>\n",
       "      <td>1609</td>\n",
       "      <td>1633</td>\n",
       "      <td>1609</td>\n",
       "      <td>35</td>\n",
       "    </tr>\n",
       "    <tr>\n",
       "      <th>16</th>\n",
       "      <td>1609</td>\n",
       "      <td>1646</td>\n",
       "      <td>1609</td>\n",
       "      <td>37</td>\n",
       "    </tr>\n",
       "  </tbody>\n",
       "</table>\n",
       "</div>"
      ],
      "text/plain": [
       "     casa trasferta  winner  week\n",
       "379  1609      1631    1609     1\n",
       "344  1609      1659    1609     4\n",
       "320  1609      1627    1609     6\n",
       "312  1609      1651    1609     7\n",
       "284  1609     10531    1609    10\n",
       "269  1609      1624    1609    12\n",
       "244  1609      1673    1609    14\n",
       "232  1609      1611    1611    15\n",
       "205  1609      1613    1609    18\n",
       "199  1609      1612       0    19\n",
       "161  1609      1610       0    22\n",
       "143  1609      1628    1609    24\n",
       "123  1609      1623    1609    26\n",
       "100  1609      1625    1625    28\n",
       "82   1609      1644    1609    30\n",
       "67   1609      1639    1609    32\n",
       "57   1609      1619    1609    33\n",
       "38   1609      1633    1609    35\n",
       "16   1609      1646    1609    37"
      ]
     },
     "execution_count": 24,
     "metadata": {},
     "output_type": "execute_result"
    }
   ],
   "source": [
    "#tutte le partite giocate dalla squadra 1609 => Arsenal\n",
    "aa= WL[WL['casa']=='1609']\n",
    "bb= WL[WL['trasferta']=='1609']\n",
    "result=(pd.concat([aa, bb])).sort_values('week')\n",
    "aa"
   ]
  },
  {
   "cell_type": "code",
   "execution_count": 25,
   "metadata": {},
   "outputs": [],
   "source": [
    "aa_list=[]\n",
    "for i in range(len(aa)):\n",
    "    if(aa.iloc[i]['winner']== int(aa.iloc[i]['casa'])):\n",
    "        aa_list.append('home_win')\n",
    "    elif(aa.iloc[i]['winner']==0):\n",
    "        aa_list.append('home_draw')\n",
    "    else:\n",
    "        aa_list.append('home_lost')"
   ]
  },
  {
   "cell_type": "code",
   "execution_count": 26,
   "metadata": {},
   "outputs": [],
   "source": [
    "for i in range(len(bb)):\n",
    "    if(bb.iloc[i]['winner']== int(bb.iloc[i]['trasferta'])):\n",
    "        aa_list.append('away_win')\n",
    "    elif(bb.iloc[i]['winner']==0):\n",
    "        aa_list.append('away_draw')\n",
    "    else:\n",
    "        aa_list.append('away_lost')"
   ]
  },
  {
   "cell_type": "code",
   "execution_count": 27,
   "metadata": {},
   "outputs": [],
   "source": [
    "name=[]\n",
    "for i in range(38):\n",
    "    name.append('Arsenal')"
   ]
  },
  {
   "cell_type": "code",
   "execution_count": 28,
   "metadata": {},
   "outputs": [
    {
     "data": {
      "text/html": [
       "<div>\n",
       "<style scoped>\n",
       "    .dataframe tbody tr th:only-of-type {\n",
       "        vertical-align: middle;\n",
       "    }\n",
       "\n",
       "    .dataframe tbody tr th {\n",
       "        vertical-align: top;\n",
       "    }\n",
       "\n",
       "    .dataframe thead th {\n",
       "        text-align: right;\n",
       "    }\n",
       "</style>\n",
       "<table border=\"1\" class=\"dataframe\">\n",
       "  <thead>\n",
       "    <tr style=\"text-align: right;\">\n",
       "      <th></th>\n",
       "      <th>segno</th>\n",
       "      <th>nome</th>\n",
       "    </tr>\n",
       "  </thead>\n",
       "  <tbody>\n",
       "    <tr>\n",
       "      <th>0</th>\n",
       "      <td>home_win</td>\n",
       "      <td>Arsenal</td>\n",
       "    </tr>\n",
       "    <tr>\n",
       "      <th>1</th>\n",
       "      <td>home_win</td>\n",
       "      <td>Arsenal</td>\n",
       "    </tr>\n",
       "    <tr>\n",
       "      <th>2</th>\n",
       "      <td>home_win</td>\n",
       "      <td>Arsenal</td>\n",
       "    </tr>\n",
       "    <tr>\n",
       "      <th>3</th>\n",
       "      <td>home_win</td>\n",
       "      <td>Arsenal</td>\n",
       "    </tr>\n",
       "    <tr>\n",
       "      <th>4</th>\n",
       "      <td>home_win</td>\n",
       "      <td>Arsenal</td>\n",
       "    </tr>\n",
       "  </tbody>\n",
       "</table>\n",
       "</div>"
      ],
      "text/plain": [
       "      segno     nome\n",
       "0  home_win  Arsenal\n",
       "1  home_win  Arsenal\n",
       "2  home_win  Arsenal\n",
       "3  home_win  Arsenal\n",
       "4  home_win  Arsenal"
      ]
     },
     "execution_count": 28,
     "metadata": {},
     "output_type": "execute_result"
    }
   ],
   "source": [
    "\n",
    "indice=[]\n",
    "for i in range(37):\n",
    "    indice.append(i)\n",
    "\n",
    "totale = pd.DataFrame(list(zip(aa_list,name)), \n",
    "               columns =['segno','nome']) \n",
    "totale.head()"
   ]
  },
  {
   "cell_type": "code",
   "execution_count": null,
   "metadata": {},
   "outputs": [],
   "source": []
  },
  {
   "cell_type": "code",
   "execution_count": null,
   "metadata": {},
   "outputs": [],
   "source": []
  },
  {
   "cell_type": "code",
   "execution_count": null,
   "metadata": {},
   "outputs": [],
   "source": []
  },
  {
   "cell_type": "code",
   "execution_count": 29,
   "metadata": {},
   "outputs": [
    {
     "name": "stdout",
     "output_type": "stream",
     "text": [
      "['1646', '1659', '1628', '1627', '1673', '1609', '1612', '1651', '1611', '1644', '1613', '1610', '1619', '1625', '10531', '1639', '1624', '1631', '1633', '1623']\n",
      "20\n"
     ]
    }
   ],
   "source": [
    "WL[WL['week']==1]\n",
    "squadre_en=[]\n",
    "for i in range(10):\n",
    "    squadre_en.append(casa[i])\n",
    "    squadre_en.append(trasferta[i])\n",
    "print(squadre_en)\n",
    "print(len(set(squadre_en))) #sono 20 quindi va bene "
   ]
  },
  {
   "cell_type": "code",
   "execution_count": null,
   "metadata": {},
   "outputs": [],
   "source": []
  },
  {
   "cell_type": "code",
   "execution_count": null,
   "metadata": {},
   "outputs": [],
   "source": []
  },
  {
   "cell_type": "code",
   "execution_count": 17,
   "metadata": {},
   "outputs": [
    {
     "name": "stdout",
     "output_type": "stream",
     "text": [
      "<class 'pandas.core.frame.DataFrame'>\n",
      "RangeIndex: 208 entries, 0 to 207\n",
      "Data columns (total 9 columns):\n",
      "birthArea        208 non-null object\n",
      "birthDate        206 non-null object\n",
      "currentTeamId    208 non-null int64\n",
      "firstName        208 non-null object\n",
      "lastName         208 non-null object\n",
      "middleName       208 non-null object\n",
      "passportArea     208 non-null object\n",
      "shortName        208 non-null object\n",
      "wyId             208 non-null int64\n",
      "dtypes: int64(2), object(7)\n",
      "memory usage: 14.7+ KB\n"
     ]
    }
   ],
   "source": []
  },
  {
   "cell_type": "code",
   "execution_count": null,
   "metadata": {},
   "outputs": [],
   "source": []
  },
  {
   "cell_type": "code",
   "execution_count": null,
   "metadata": {},
   "outputs": [],
   "source": []
  },
  {
   "cell_type": "code",
   "execution_count": null,
   "metadata": {},
   "outputs": [],
   "source": []
  },
  {
   "cell_type": "code",
   "execution_count": null,
   "metadata": {},
   "outputs": [],
   "source": []
  },
  {
   "cell_type": "code",
   "execution_count": 34,
   "metadata": {},
   "outputs": [
    {
     "name": "stdout",
     "output_type": "stream",
     "text": [
      "Percentage of home Victory 0.45\n",
      "Percentage of home Victory or Draw 0.7157894736842105\n"
     ]
    }
   ],
   "source": [
    "##RQ2\n",
    "#percentuale di vittori della squadra di casa:\n",
    "WL1 = WL[['casa','winner']]\n",
    "WL1\n",
    "cas=list(WL['casa'])\n",
    "tras=list(WL['winner'])\n",
    "conta_casa=0\n",
    "for i in range(len(cas)):\n",
    "    if int(cas[i])==int(tras[i]):\n",
    "        conta_casa+=1\n",
    "#print(conta_casa)\n",
    "\n",
    "\n",
    "var_1X=0\n",
    "for i in range(len(cas)):\n",
    "    if int(cas[i])==int(tras[i]):\n",
    "        var_1X+=1\n",
    "    elif int(tras[i])==0:\n",
    "        var_1X+=1\n",
    "#print(var_1X)\n",
    "ratio_1=conta_casa/len(cas)\n",
    "ratio_1X=var_1X/len(cas)\n",
    "print('Percentage of home Victory',ratio_1)\n",
    "print('Percentage of home Victory or Draw',ratio_1X)\n",
    "#volendo modificando questi cicli si possono ottenere percentuali singole di pareggio o sconfitta per la squadra di casa\n"
   ]
  },
  {
   "cell_type": "code",
   "execution_count": 35,
   "metadata": {},
   "outputs": [
    {
     "data": {
      "text/plain": [
       "['1639', '1624', '1631', '1633', '1623']"
      ]
     },
     "execution_count": 35,
     "metadata": {},
     "output_type": "execute_result"
    }
   ],
   "source": [
    "#selezionare 5 Teams\n",
    "squadre.head()\n",
    "#prese le prime 5 che compaiono\n",
    "five_star=squadre[-5:]\n",
    "five_=[]\n",
    "for i in range(len(five_star)):\n",
    "    five_.append(five_star.iloc[i][0])\n",
    "five_\n"
   ]
  },
  {
   "cell_type": "code",
   "execution_count": 36,
   "metadata": {},
   "outputs": [
    {
     "data": {
      "text/html": [
       "<div>\n",
       "<style scoped>\n",
       "    .dataframe tbody tr th:only-of-type {\n",
       "        vertical-align: middle;\n",
       "    }\n",
       "\n",
       "    .dataframe tbody tr th {\n",
       "        vertical-align: top;\n",
       "    }\n",
       "\n",
       "    .dataframe thead th {\n",
       "        text-align: right;\n",
       "    }\n",
       "</style>\n",
       "<table border=\"1\" class=\"dataframe\">\n",
       "  <thead>\n",
       "    <tr style=\"text-align: right;\">\n",
       "      <th></th>\n",
       "      <th>casa</th>\n",
       "      <th>trasferta</th>\n",
       "      <th>winner</th>\n",
       "      <th>week</th>\n",
       "    </tr>\n",
       "  </thead>\n",
       "  <tbody>\n",
       "    <tr>\n",
       "      <th>379</th>\n",
       "      <td>1609</td>\n",
       "      <td>1631</td>\n",
       "      <td>1609</td>\n",
       "      <td>1</td>\n",
       "    </tr>\n",
       "    <tr>\n",
       "      <th>370</th>\n",
       "      <td>1611</td>\n",
       "      <td>1633</td>\n",
       "      <td>1611</td>\n",
       "      <td>1</td>\n",
       "    </tr>\n",
       "    <tr>\n",
       "      <th>371</th>\n",
       "      <td>1613</td>\n",
       "      <td>1624</td>\n",
       "      <td>1624</td>\n",
       "      <td>1</td>\n",
       "    </tr>\n",
       "    <tr>\n",
       "      <th>372</th>\n",
       "      <td>1651</td>\n",
       "      <td>1625</td>\n",
       "      <td>1625</td>\n",
       "      <td>1</td>\n",
       "    </tr>\n",
       "    <tr>\n",
       "      <th>373</th>\n",
       "      <td>1610</td>\n",
       "      <td>1646</td>\n",
       "      <td>1646</td>\n",
       "      <td>1</td>\n",
       "    </tr>\n",
       "  </tbody>\n",
       "</table>\n",
       "</div>"
      ],
      "text/plain": [
       "     casa trasferta  winner  week\n",
       "379  1609      1631    1609     1\n",
       "370  1611      1633    1611     1\n",
       "371  1613      1624    1624     1\n",
       "372  1651      1625    1625     1\n",
       "373  1610      1646    1646     1"
      ]
     },
     "execution_count": 36,
     "metadata": {},
     "output_type": "execute_result"
    }
   ],
   "source": [
    "WL.head()"
   ]
  },
  {
   "cell_type": "code",
   "execution_count": 37,
   "metadata": {},
   "outputs": [
    {
     "name": "stdout",
     "output_type": "stream",
     "text": [
      "0.2631578947368421\n"
     ]
    }
   ],
   "source": [
    "#tutte le partite giocate dalla squadra 1639 => ?\n",
    "fAcasa= WL[WL['casa']==five_[0]]\n",
    "fAwin = fAcasa[['winner']]\n",
    "fAcasa1= list(fAcasa['casa'])\n",
    "fAwin1= list(fAwin['winner'])\n",
    "ratiofA=0\n",
    "for i in range(len(fAcasa)):\n",
    "    if int(fAcasa1[i])==int(fAwin1[i]):\n",
    "        ratiofA+=1\n",
    "print(ratiofA/len(fAcasa))\n",
    "#la percentuale di vittorie a casa della squadra 1646 è del 26%"
   ]
  },
  {
   "cell_type": "code",
   "execution_count": 38,
   "metadata": {},
   "outputs": [
    {
     "name": "stdout",
     "output_type": "stream",
     "text": [
      "0.3684210526315789\n"
     ]
    }
   ],
   "source": [
    "#tutte le partite giocate dalla squadra 1624 \n",
    "fBcasa= WL[WL['casa']==five_[2]]\n",
    "fBwin = fBcasa[['winner']]\n",
    "fBcasa1= list(fBcasa['casa'])\n",
    "fBwin1= list(fBwin['winner'])\n",
    "ratiofB=0\n",
    "for i in range(len(fBcasa)):\n",
    "    if int(fBcasa1[i])==int(fBwin1[i]):\n",
    "        ratiofB+=1\n",
    "print(ratiofB/len(fBcasa))\n",
    "#la percentuale di vittorie a casa della squadra 1659 è del 68%"
   ]
  },
  {
   "cell_type": "code",
   "execution_count": 39,
   "metadata": {},
   "outputs": [],
   "source": [
    "#anzi che copiare e incollare sarebbe ideale costruire una funzione che calcoli tutte le percentuali"
   ]
  },
  {
   "cell_type": "code",
   "execution_count": 40,
   "metadata": {},
   "outputs": [
    {
     "name": "stdout",
     "output_type": "stream",
     "text": [
      "[0, 1, 2, 3, 4, 6, 8, 9, 10, 11, 12, 15, 16, 17, 18, 21, 22, 25, 26, 27, 30, 31, 34, 36, 37, 38, 40, 42, 43, 44, 45, 46, 49, 53, 56, 59, 61, 65, 67, 69, 70, 72, 74, 77, 79, 80, 81, 82, 84, 85, 88, 90, 91, 96, 97, 98]\n"
     ]
    }
   ],
   "source": [
    "#RQ4\n",
    "#Players.info()\n",
    "#from pandas.io.json import json_normalize\n",
    "#acc=pd.DataFrame(json_normalize(data = Events['tags']))\n",
    "acc1=Events['tags']\n",
    "#type(acc1)  acc1 è una serie pandas\n",
    "acc2=list(acc1)\n",
    "\n",
    "#lo convertiamo in una lista\n",
    "#for i in range(len(acc2)):\n",
    "\n",
    "#col metodo find vedo se c'è 1801\n",
    "\n",
    "#str(acc2[7]).find('1801')\n",
    "#print(acc2[7])\n",
    "#print(acc2[60])\n",
    "#str(acc2[7]).find('1801')\n",
    "l=[]\n",
    "for i in range(len(acc2[:100])):\n",
    "    if str(acc2[i]).find('1801')>0:\n",
    "        l.append(i)\n",
    "print(l)\n",
    "\n"
   ]
  },
  {
   "cell_type": "code",
   "execution_count": 41,
   "metadata": {},
   "outputs": [
    {
     "data": {
      "text/html": [
       "<div>\n",
       "<style scoped>\n",
       "    .dataframe tbody tr th:only-of-type {\n",
       "        vertical-align: middle;\n",
       "    }\n",
       "\n",
       "    .dataframe tbody tr th {\n",
       "        vertical-align: top;\n",
       "    }\n",
       "\n",
       "    .dataframe thead th {\n",
       "        text-align: right;\n",
       "    }\n",
       "</style>\n",
       "<table border=\"1\" class=\"dataframe\">\n",
       "  <thead>\n",
       "    <tr style=\"text-align: right;\">\n",
       "      <th></th>\n",
       "      <th>Player</th>\n",
       "      <th>nome</th>\n",
       "      <th>tags</th>\n",
       "      <th>squadra</th>\n",
       "    </tr>\n",
       "  </thead>\n",
       "  <tbody>\n",
       "    <tr>\n",
       "      <th>0</th>\n",
       "      <td>25413</td>\n",
       "      <td>Simple pass</td>\n",
       "      <td>[{'id': 1801}]</td>\n",
       "      <td>1609</td>\n",
       "    </tr>\n",
       "    <tr>\n",
       "      <th>1</th>\n",
       "      <td>370224</td>\n",
       "      <td>High pass</td>\n",
       "      <td>[{'id': 1801}]</td>\n",
       "      <td>1609</td>\n",
       "    </tr>\n",
       "    <tr>\n",
       "      <th>2</th>\n",
       "      <td>3319</td>\n",
       "      <td>Head pass</td>\n",
       "      <td>[{'id': 1801}]</td>\n",
       "      <td>1609</td>\n",
       "    </tr>\n",
       "    <tr>\n",
       "      <th>3</th>\n",
       "      <td>120339</td>\n",
       "      <td>Head pass</td>\n",
       "      <td>[{'id': 1801}]</td>\n",
       "      <td>1609</td>\n",
       "    </tr>\n",
       "    <tr>\n",
       "      <th>4</th>\n",
       "      <td>167145</td>\n",
       "      <td>Simple pass</td>\n",
       "      <td>[{'id': 1801}]</td>\n",
       "      <td>1609</td>\n",
       "    </tr>\n",
       "  </tbody>\n",
       "</table>\n",
       "</div>"
      ],
      "text/plain": [
       "   Player         nome            tags  squadra\n",
       "0   25413  Simple pass  [{'id': 1801}]     1609\n",
       "1  370224    High pass  [{'id': 1801}]     1609\n",
       "2    3319    Head pass  [{'id': 1801}]     1609\n",
       "3  120339    Head pass  [{'id': 1801}]     1609\n",
       "4  167145  Simple pass  [{'id': 1801}]     1609"
      ]
     },
     "execution_count": 41,
     "metadata": {},
     "output_type": "execute_result"
    }
   ],
   "source": [
    "Pass = pd.DataFrame(Events[Events['eventName']==str('Pass')])\n",
    "Pass.head()\n",
    "Pass1 = pd.DataFrame({'Player':Pass.playerId, 'nome':Pass.subEventName , 'tags':Pass.tags,'squadra': Pass.teamId})\n",
    "Pass1.head()\n",
    "#join su squadre inglesi \n",
    "#fatto il join scrivere for per ottenere solo i tags con 1801 => passaggi riusciti \n",
    "\n",
    "\n",
    "#assegnare dei pesi: piu passaggi fa piu è importate il ratio \n"
   ]
  },
  {
   "cell_type": "code",
   "execution_count": 42,
   "metadata": {},
   "outputs": [
    {
     "data": {
      "text/html": [
       "<div>\n",
       "<style scoped>\n",
       "    .dataframe tbody tr th:only-of-type {\n",
       "        vertical-align: middle;\n",
       "    }\n",
       "\n",
       "    .dataframe tbody tr th {\n",
       "        vertical-align: top;\n",
       "    }\n",
       "\n",
       "    .dataframe thead th {\n",
       "        text-align: right;\n",
       "    }\n",
       "</style>\n",
       "<table border=\"1\" class=\"dataframe\">\n",
       "  <thead>\n",
       "    <tr style=\"text-align: right;\">\n",
       "      <th></th>\n",
       "      <th>Player</th>\n",
       "      <th>subEV</th>\n",
       "      <th>tags</th>\n",
       "      <th>squadra</th>\n",
       "    </tr>\n",
       "  </thead>\n",
       "  <tbody>\n",
       "    <tr>\n",
       "      <th>7</th>\n",
       "      <td>8013</td>\n",
       "      <td>10</td>\n",
       "      <td>[{'id': 701}, {'id': 1802}]</td>\n",
       "      <td>1631</td>\n",
       "    </tr>\n",
       "    <tr>\n",
       "      <th>8</th>\n",
       "      <td>0</td>\n",
       "      <td>10</td>\n",
       "      <td>[{'id': 703}, {'id': 1801}]</td>\n",
       "      <td>1609</td>\n",
       "    </tr>\n",
       "    <tr>\n",
       "      <th>12</th>\n",
       "      <td>8653</td>\n",
       "      <td>10</td>\n",
       "      <td>[{'id': 703}, {'id': 1801}]</td>\n",
       "      <td>1631</td>\n",
       "    </tr>\n",
       "    <tr>\n",
       "      <th>13</th>\n",
       "      <td>25413</td>\n",
       "      <td>10</td>\n",
       "      <td>[{'id': 701}, {'id': 1802}]</td>\n",
       "      <td>1609</td>\n",
       "    </tr>\n",
       "    <tr>\n",
       "      <th>27</th>\n",
       "      <td>192748</td>\n",
       "      <td>10</td>\n",
       "      <td>[{'id': 703}, {'id': 1801}]</td>\n",
       "      <td>1631</td>\n",
       "    </tr>\n",
       "  </tbody>\n",
       "</table>\n",
       "</div>"
      ],
      "text/plain": [
       "    Player subEV                         tags  squadra\n",
       "7     8013    10  [{'id': 701}, {'id': 1802}]     1631\n",
       "8        0    10  [{'id': 703}, {'id': 1801}]     1609\n",
       "12    8653    10  [{'id': 703}, {'id': 1801}]     1631\n",
       "13   25413    10  [{'id': 701}, {'id': 1802}]     1609\n",
       "27  192748    10  [{'id': 703}, {'id': 1801}]     1631"
      ]
     },
     "execution_count": 42,
     "metadata": {},
     "output_type": "execute_result"
    }
   ],
   "source": [
    "#RQ5\n",
    "#ratio of AirDuel \n",
    "#Air Duel=> subEventId = 10 \n",
    "eventi = Events['subEventId']\n",
    "AD = pd.DataFrame(Events[Events['subEventId']==int(10)])\n",
    "AD.head()\n",
    "#ottenuto il dataset di tutti i duelli aerei \n",
    "#intersecare con i duelli aerei delle squadre inglesi \n",
    "#vado a prendermi le colonne che mi interessano\n",
    "AD = pd.DataFrame({'Player':AD.playerId, 'subEV':AD.subEventId , 'tags':AD.tags,'squadra': AD.teamId})\n",
    "AD.head()\n",
    "#fare join squadre inglesi "
   ]
  },
  {
   "cell_type": "code",
   "execution_count": null,
   "metadata": {},
   "outputs": [],
   "source": []
  },
  {
   "cell_type": "code",
   "execution_count": 120,
   "metadata": {},
   "outputs": [],
   "source": [
    "##########################\n",
    "#RQ6 \n",
    "#To win the champioship you need only to score more goal as possible?\n",
    "##########################"
   ]
  },
  {
   "cell_type": "code",
   "execution_count": 43,
   "metadata": {},
   "outputs": [],
   "source": [
    "premier_league_matches = pd.read_json('matches_England.json', orient='record')\n",
    "premier_league_events  = pd.read_json('events_England.json', orient='record')"
   ]
  },
  {
   "cell_type": "code",
   "execution_count": null,
   "metadata": {},
   "outputs": [],
   "source": []
  },
  {
   "cell_type": "code",
   "execution_count": 45,
   "metadata": {},
   "outputs": [],
   "source": [
    "teams = pd.read_json('teams.json')"
   ]
  },
  {
   "cell_type": "code",
   "execution_count": 46,
   "metadata": {},
   "outputs": [],
   "source": [
    "premier_league_matches_sorted_by_week = premier_league_matches.sort_values(by=['gameweek'], ascending=True) \n",
    "#sort matches by number of week \n",
    "#it is a pandas dataFrame\n",
    "premier_league_by_week1 = {}\n",
    "premier_league_by_week = {}\n",
    "\n",
    "teams_list = []\n",
    "\n",
    "gameweek_list = []\n",
    "a_list2=[]\n",
    "b_list2=[]\n",
    "for index, match in premier_league_matches_sorted_by_week.iterrows():\n",
    "    # premier_league_matches has two main row --> index and match\n",
    "    \n",
    "    gameweek = match['gameweek'] #create gameweek (int) from match\n",
    "    teamsData = match['teamsData'] #create teamsData dic from match\n",
    "    \n",
    "    \n",
    "    home_id, away_id, home_score, away_score, home_points, away_points = '', '', 0,0,0,0\n",
    "   \n",
    "    previous_points_home, previous_points_away = 0,0\n",
    "    \n",
    "    for key in teamsData: #iterate key in teamsdata\n",
    "        \n",
    "        if teamsData[key]['side'] == 'home': #if side of the key is home, home_id is equal to key\n",
    "            home_id = int(key)\n",
    "            home_score = teamsData[key]['score'] #home_score(number of goal) is equal to score of key\n",
    "            a_list2.append(home_score)\n",
    "        else: #if side of the key is away, home_id is equal to key\n",
    "            away_id = int(key)\n",
    "            away_score = teamsData[key]['score'] #home_score(number of goal) is equal to score of key\n",
    "            b_list2.append(away_score)\n",
    "  \n",
    "\n",
    "    #calculate previous points for teams of home and away\n",
    "    if gameweek > 1: \n",
    "        previous_points_home = premier_league_by_week[gameweek-1][home_id]['points']\n",
    "        previous_points_away = premier_league_by_week[gameweek-1][away_id]['points']\n",
    "   \n",
    "    #compare score to decide gaing points for teams of home and away\n",
    "    if home_score > away_score: \n",
    "        home_points = 3\n",
    "        away_points = 0\n",
    "    elif away_score > home_score:\n",
    "        home_points = 0\n",
    "        away_points = 3\n",
    "    else:\n",
    "        home_points = 1\n",
    "        away_points = 1\n",
    "        \n",
    "    home_name = teams[teams[\"wyId\"] == home_id].name.values[0]  #make equale wyId to home_id and take home name\n",
    "    away_name = teams[teams[\"wyId\"] == away_id].name.values[0]  #make equale wyId to home_id and take away name\n",
    "    \n",
    "    if home_name not in teams_list:\n",
    "        teams_list.append(home_name)\n",
    "    if gameweek not in gameweek_list:\n",
    "        gameweek_list.append(gameweek)\n",
    "    if gameweek in premier_league_by_week:\n",
    "        premier_league_by_week[gameweek][home_id] = {'team_name' : home_name, 'points' : home_points + previous_points_home }\n",
    "        premier_league_by_week1[gameweek][home_name] = {'points' : home_points  }\n",
    "    else:\n",
    "        premier_league_by_week[gameweek] = {home_id: {'team_name' : home_name, 'points' : home_points + previous_points_home}}\n",
    "        premier_league_by_week1[gameweek] = {home_name: {'points' : home_points}}\n",
    "    premier_league_by_week[gameweek][away_id] = {'team_name' : away_name, 'points' : away_points + previous_points_away }\n",
    "    premier_league_by_week1[gameweek][away_name] = {'points' : away_points  }\n",
    "  "
   ]
  },
  {
   "cell_type": "code",
   "execution_count": 47,
   "metadata": {},
   "outputs": [
    {
     "data": {
      "text/html": [
       "<div>\n",
       "<style scoped>\n",
       "    .dataframe tbody tr th:only-of-type {\n",
       "        vertical-align: middle;\n",
       "    }\n",
       "\n",
       "    .dataframe tbody tr th {\n",
       "        vertical-align: top;\n",
       "    }\n",
       "\n",
       "    .dataframe thead th {\n",
       "        text-align: right;\n",
       "    }\n",
       "</style>\n",
       "<table border=\"1\" class=\"dataframe\">\n",
       "  <thead>\n",
       "    <tr style=\"text-align: right;\">\n",
       "      <th></th>\n",
       "      <th>casa</th>\n",
       "      <th>trasferta</th>\n",
       "      <th>winner</th>\n",
       "      <th>week</th>\n",
       "      <th>home_goal</th>\n",
       "      <th>away_goal</th>\n",
       "    </tr>\n",
       "  </thead>\n",
       "  <tbody>\n",
       "    <tr>\n",
       "      <th>1</th>\n",
       "      <td>1628</td>\n",
       "      <td>1627</td>\n",
       "      <td>1628</td>\n",
       "      <td>38</td>\n",
       "      <td>2</td>\n",
       "      <td>0</td>\n",
       "    </tr>\n",
       "    <tr>\n",
       "      <th>2</th>\n",
       "      <td>1673</td>\n",
       "      <td>1609</td>\n",
       "      <td>1609</td>\n",
       "      <td>38</td>\n",
       "      <td>0</td>\n",
       "      <td>1</td>\n",
       "    </tr>\n",
       "    <tr>\n",
       "      <th>3</th>\n",
       "      <td>1612</td>\n",
       "      <td>1651</td>\n",
       "      <td>1612</td>\n",
       "      <td>38</td>\n",
       "      <td>4</td>\n",
       "      <td>0</td>\n",
       "    </tr>\n",
       "    <tr>\n",
       "      <th>4</th>\n",
       "      <td>1611</td>\n",
       "      <td>1644</td>\n",
       "      <td>1611</td>\n",
       "      <td>38</td>\n",
       "      <td>1</td>\n",
       "      <td>0</td>\n",
       "    </tr>\n",
       "    <tr>\n",
       "      <th>8</th>\n",
       "      <td>1624</td>\n",
       "      <td>1631</td>\n",
       "      <td>1624</td>\n",
       "      <td>38</td>\n",
       "      <td>5</td>\n",
       "      <td>4</td>\n",
       "    </tr>\n",
       "    <tr>\n",
       "      <th>6</th>\n",
       "      <td>1619</td>\n",
       "      <td>1625</td>\n",
       "      <td>1625</td>\n",
       "      <td>38</td>\n",
       "      <td>0</td>\n",
       "      <td>1</td>\n",
       "    </tr>\n",
       "    <tr>\n",
       "      <th>7</th>\n",
       "      <td>10531</td>\n",
       "      <td>1639</td>\n",
       "      <td>1639</td>\n",
       "      <td>38</td>\n",
       "      <td>1</td>\n",
       "      <td>2</td>\n",
       "    </tr>\n",
       "    <tr>\n",
       "      <th>9</th>\n",
       "      <td>1633</td>\n",
       "      <td>1623</td>\n",
       "      <td>1633</td>\n",
       "      <td>38</td>\n",
       "      <td>3</td>\n",
       "      <td>1</td>\n",
       "    </tr>\n",
       "    <tr>\n",
       "      <th>5</th>\n",
       "      <td>1613</td>\n",
       "      <td>1610</td>\n",
       "      <td>1613</td>\n",
       "      <td>38</td>\n",
       "      <td>3</td>\n",
       "      <td>0</td>\n",
       "    </tr>\n",
       "    <tr>\n",
       "      <th>0</th>\n",
       "      <td>1646</td>\n",
       "      <td>1659</td>\n",
       "      <td>1659</td>\n",
       "      <td>38</td>\n",
       "      <td>1</td>\n",
       "      <td>2</td>\n",
       "    </tr>\n",
       "  </tbody>\n",
       "</table>\n",
       "</div>"
      ],
      "text/plain": [
       "    casa trasferta  winner  week  home_goal  away_goal\n",
       "1   1628      1627    1628    38          2          0\n",
       "2   1673      1609    1609    38          0          1\n",
       "3   1612      1651    1612    38          4          0\n",
       "4   1611      1644    1611    38          1          0\n",
       "8   1624      1631    1624    38          5          4\n",
       "6   1619      1625    1625    38          0          1\n",
       "7  10531      1639    1639    38          1          2\n",
       "9   1633      1623    1633    38          3          1\n",
       "5   1613      1610    1613    38          3          0\n",
       "0   1646      1659    1659    38          1          2"
      ]
     },
     "execution_count": 47,
     "metadata": {},
     "output_type": "execute_result"
    }
   ],
   "source": [
    "WL['home_goal'] = a_list2\n",
    "WL['away_goal'] = b_list2\n",
    "WL[-10:]"
   ]
  },
  {
   "cell_type": "code",
   "execution_count": 48,
   "metadata": {},
   "outputs": [
    {
     "data": {
      "text/plain": [
       "0                Burnley - AFC Bournemouth, 1 - 2\n",
       "1    Crystal Palace - West Bromwich Albion, 2 - 0\n",
       "2              Huddersfield Town - Arsenal, 0 - 1\n",
       "3       Liverpool - Brighton & Hove Albion, 4 - 0\n",
       "4              Manchester United - Watford, 1 - 0\n",
       "5               Newcastle United - Chelsea, 3 - 0\n",
       "6            Southampton - Manchester City, 0 - 1\n",
       "7                Swansea City - Stoke City, 1 - 2\n",
       "8       Tottenham Hotspur - Leicester City, 5 - 4\n",
       "9                West Ham United - Everton, 3 - 1\n",
       "Name: label, dtype: object"
      ]
     },
     "execution_count": 48,
     "metadata": {},
     "output_type": "execute_result"
    }
   ],
   "source": [
    "Matches['label'][:10]"
   ]
  },
  {
   "cell_type": "code",
   "execution_count": 136,
   "metadata": {},
   "outputs": [],
   "source": [
    "#aa and bb 2.0\n",
    "#tutte le partite giocate dalla squadra 1609 => Arsenal\n",
    "aa_2= WL[WL['casa']=='1609']\n",
    "bb_2= WL[WL['trasferta']=='1609']\n",
    "result=(pd.concat([aa, bb])).sort_values('week')"
   ]
  },
  {
   "cell_type": "code",
   "execution_count": 137,
   "metadata": {},
   "outputs": [
    {
     "data": {
      "text/plain": [
       "74"
      ]
     },
     "execution_count": 137,
     "metadata": {},
     "output_type": "execute_result"
    }
   ],
   "source": [
    "contaGol= sum(aa_2['home_goal'])+sum(bb_2['away_goal'])\n",
    "contaGol\n",
    "#it s correct checked one by one"
   ]
  },
  {
   "cell_type": "code",
   "execution_count": 155,
   "metadata": {},
   "outputs": [],
   "source": [
    "#funzione generica per estrarre i totali di ogni squadra\n",
    "def Funzione(codice):\n",
    "    aaa= WL[WL['casa']==str(codice)]\n",
    "    bbb= WL[WL['trasferta']==str(codice)]\n",
    "    TG = sum(aaa['home_goal'])+sum(bbb['away_goal'])\n",
    "    TGR= sum(aaa['away_goal'])+sum(bbb['home_goal'])\n",
    "    return([TG,TGR])"
   ]
  },
  {
   "cell_type": "code",
   "execution_count": 156,
   "metadata": {},
   "outputs": [
    {
     "data": {
      "text/plain": [
       "[74, 51]"
      ]
     },
     "execution_count": 156,
     "metadata": {},
     "output_type": "execute_result"
    }
   ],
   "source": [
    "#funzione applicata all'Arsenal\n",
    "Funzione(1609)"
   ]
  },
  {
   "cell_type": "code",
   "execution_count": 157,
   "metadata": {},
   "outputs": [],
   "source": [
    "d=[]\n",
    "d2=[]\n",
    "for i in range(20):\n",
    "    d.append(Funzione(squadre_en[i])[0])\n",
    "    d2.append(Funzione(squadre_en[i])[1])\n"
   ]
  },
  {
   "cell_type": "code",
   "execution_count": 158,
   "metadata": {},
   "outputs": [
    {
     "name": "stdout",
     "output_type": "stream",
     "text": [
      "[(36,), (45,), (45,), (31,), (28,), (74,), (84,), (34,), (68,), (44,), (39,), (62,), (37,), (106,), (28,), (35,), (74,), (56,), (48,), (44,)]\n"
     ]
    }
   ],
   "source": [
    "print(list(zip(d)))"
   ]
  },
  {
   "cell_type": "code",
   "execution_count": 186,
   "metadata": {
    "scrolled": true
   },
   "outputs": [
    {
     "data": {
      "text/html": [
       "<div>\n",
       "<style scoped>\n",
       "    .dataframe tbody tr th:only-of-type {\n",
       "        vertical-align: middle;\n",
       "    }\n",
       "\n",
       "    .dataframe tbody tr th {\n",
       "        vertical-align: top;\n",
       "    }\n",
       "\n",
       "    .dataframe thead th {\n",
       "        text-align: right;\n",
       "    }\n",
       "</style>\n",
       "<table border=\"1\" class=\"dataframe\">\n",
       "  <thead>\n",
       "    <tr style=\"text-align: right;\">\n",
       "      <th></th>\n",
       "      <th>wyId</th>\n",
       "      <th>officialName</th>\n",
       "      <th>gf</th>\n",
       "      <th>gs</th>\n",
       "    </tr>\n",
       "  </thead>\n",
       "  <tbody>\n",
       "    <tr>\n",
       "      <th>0</th>\n",
       "      <td>1646</td>\n",
       "      <td>Burnley FC</td>\n",
       "      <td>36</td>\n",
       "      <td>39</td>\n",
       "    </tr>\n",
       "    <tr>\n",
       "      <th>1</th>\n",
       "      <td>1659</td>\n",
       "      <td>AFC Bournemouth</td>\n",
       "      <td>45</td>\n",
       "      <td>61</td>\n",
       "    </tr>\n",
       "    <tr>\n",
       "      <th>2</th>\n",
       "      <td>1628</td>\n",
       "      <td>Crystal Palace FC</td>\n",
       "      <td>45</td>\n",
       "      <td>55</td>\n",
       "    </tr>\n",
       "    <tr>\n",
       "      <th>3</th>\n",
       "      <td>1627</td>\n",
       "      <td>West Bromwich Albion FC</td>\n",
       "      <td>31</td>\n",
       "      <td>56</td>\n",
       "    </tr>\n",
       "    <tr>\n",
       "      <th>4</th>\n",
       "      <td>1673</td>\n",
       "      <td>Huddersfield Town FC</td>\n",
       "      <td>28</td>\n",
       "      <td>58</td>\n",
       "    </tr>\n",
       "  </tbody>\n",
       "</table>\n",
       "</div>"
      ],
      "text/plain": [
       "   wyId             officialName  gf  gs\n",
       "0  1646               Burnley FC  36  39\n",
       "1  1659          AFC Bournemouth  45  61\n",
       "2  1628        Crystal Palace FC  45  55\n",
       "3  1627  West Bromwich Albion FC  31  56\n",
       "4  1673     Huddersfield Town FC  28  58"
      ]
     },
     "execution_count": 186,
     "metadata": {},
     "output_type": "execute_result"
    }
   ],
   "source": [
    "classificaGol= pd.DataFrame(list(zip(squadre_en,d,d2)))\n",
    "classificaGol.columns = [0, 'gf','gs']\n",
    "classificaGol[0] = pd.to_numeric(classificaGol[0])\n",
    "classificaGol = pd.merge(classificaGol,teams[['officialName','wyId']], left_on = 0, right_on = 'wyId')\n",
    "classificaGol = classificaGol[['wyId', 'officialName', 'gf', 'gs']]\n",
    "classificaGol.head()"
   ]
  },
  {
   "cell_type": "code",
   "execution_count": 130,
   "metadata": {},
   "outputs": [],
   "source": [
    "#Figure 1 \n",
    "# ordino in base alla classifica \n",
    "# "
   ]
  },
  {
   "cell_type": "code",
   "execution_count": 282,
   "metadata": {},
   "outputs": [
    {
     "data": {
      "text/html": [
       "<div>\n",
       "<style scoped>\n",
       "    .dataframe tbody tr th:only-of-type {\n",
       "        vertical-align: middle;\n",
       "    }\n",
       "\n",
       "    .dataframe tbody tr th {\n",
       "        vertical-align: top;\n",
       "    }\n",
       "\n",
       "    .dataframe thead th {\n",
       "        text-align: right;\n",
       "    }\n",
       "</style>\n",
       "<table border=\"1\" class=\"dataframe\">\n",
       "  <thead>\n",
       "    <tr style=\"text-align: right;\">\n",
       "      <th></th>\n",
       "      <th>wyId</th>\n",
       "      <th>officialName</th>\n",
       "      <th>gf</th>\n",
       "      <th>gs</th>\n",
       "    </tr>\n",
       "  </thead>\n",
       "  <tbody>\n",
       "    <tr>\n",
       "      <th>13</th>\n",
       "      <td>1625</td>\n",
       "      <td>Manchester City FC</td>\n",
       "      <td>106</td>\n",
       "      <td>27</td>\n",
       "    </tr>\n",
       "    <tr>\n",
       "      <th>6</th>\n",
       "      <td>1612</td>\n",
       "      <td>Liverpool FC</td>\n",
       "      <td>84</td>\n",
       "      <td>38</td>\n",
       "    </tr>\n",
       "    <tr>\n",
       "      <th>5</th>\n",
       "      <td>1609</td>\n",
       "      <td>Arsenal FC</td>\n",
       "      <td>74</td>\n",
       "      <td>51</td>\n",
       "    </tr>\n",
       "    <tr>\n",
       "      <th>16</th>\n",
       "      <td>1624</td>\n",
       "      <td>Tottenham Hotspur FC</td>\n",
       "      <td>74</td>\n",
       "      <td>36</td>\n",
       "    </tr>\n",
       "    <tr>\n",
       "      <th>8</th>\n",
       "      <td>1611</td>\n",
       "      <td>Manchester United FC</td>\n",
       "      <td>68</td>\n",
       "      <td>28</td>\n",
       "    </tr>\n",
       "    <tr>\n",
       "      <th>11</th>\n",
       "      <td>1610</td>\n",
       "      <td>Chelsea FC</td>\n",
       "      <td>62</td>\n",
       "      <td>38</td>\n",
       "    </tr>\n",
       "    <tr>\n",
       "      <th>17</th>\n",
       "      <td>1631</td>\n",
       "      <td>Leicester City FC</td>\n",
       "      <td>56</td>\n",
       "      <td>60</td>\n",
       "    </tr>\n",
       "    <tr>\n",
       "      <th>18</th>\n",
       "      <td>1633</td>\n",
       "      <td>West Ham United FC</td>\n",
       "      <td>48</td>\n",
       "      <td>68</td>\n",
       "    </tr>\n",
       "    <tr>\n",
       "      <th>2</th>\n",
       "      <td>1628</td>\n",
       "      <td>Crystal Palace FC</td>\n",
       "      <td>45</td>\n",
       "      <td>55</td>\n",
       "    </tr>\n",
       "    <tr>\n",
       "      <th>1</th>\n",
       "      <td>1659</td>\n",
       "      <td>AFC Bournemouth</td>\n",
       "      <td>45</td>\n",
       "      <td>61</td>\n",
       "    </tr>\n",
       "    <tr>\n",
       "      <th>19</th>\n",
       "      <td>1623</td>\n",
       "      <td>Everton FC</td>\n",
       "      <td>44</td>\n",
       "      <td>58</td>\n",
       "    </tr>\n",
       "    <tr>\n",
       "      <th>9</th>\n",
       "      <td>1644</td>\n",
       "      <td>Watford FC</td>\n",
       "      <td>44</td>\n",
       "      <td>64</td>\n",
       "    </tr>\n",
       "    <tr>\n",
       "      <th>10</th>\n",
       "      <td>1613</td>\n",
       "      <td>Newcastle United FC</td>\n",
       "      <td>39</td>\n",
       "      <td>47</td>\n",
       "    </tr>\n",
       "    <tr>\n",
       "      <th>12</th>\n",
       "      <td>1619</td>\n",
       "      <td>Southampton FC</td>\n",
       "      <td>37</td>\n",
       "      <td>56</td>\n",
       "    </tr>\n",
       "    <tr>\n",
       "      <th>0</th>\n",
       "      <td>1646</td>\n",
       "      <td>Burnley FC</td>\n",
       "      <td>36</td>\n",
       "      <td>39</td>\n",
       "    </tr>\n",
       "    <tr>\n",
       "      <th>15</th>\n",
       "      <td>1639</td>\n",
       "      <td>Stoke City FC</td>\n",
       "      <td>35</td>\n",
       "      <td>68</td>\n",
       "    </tr>\n",
       "    <tr>\n",
       "      <th>7</th>\n",
       "      <td>1651</td>\n",
       "      <td>Brighton &amp; Hove Albion FC</td>\n",
       "      <td>34</td>\n",
       "      <td>54</td>\n",
       "    </tr>\n",
       "    <tr>\n",
       "      <th>3</th>\n",
       "      <td>1627</td>\n",
       "      <td>West Bromwich Albion FC</td>\n",
       "      <td>31</td>\n",
       "      <td>56</td>\n",
       "    </tr>\n",
       "    <tr>\n",
       "      <th>14</th>\n",
       "      <td>10531</td>\n",
       "      <td>Swansea City AFC</td>\n",
       "      <td>28</td>\n",
       "      <td>56</td>\n",
       "    </tr>\n",
       "    <tr>\n",
       "      <th>4</th>\n",
       "      <td>1673</td>\n",
       "      <td>Huddersfield Town FC</td>\n",
       "      <td>28</td>\n",
       "      <td>58</td>\n",
       "    </tr>\n",
       "  </tbody>\n",
       "</table>\n",
       "</div>"
      ],
      "text/plain": [
       "     wyId               officialName   gf  gs\n",
       "13   1625         Manchester City FC  106  27\n",
       "6    1612               Liverpool FC   84  38\n",
       "5    1609                 Arsenal FC   74  51\n",
       "16   1624       Tottenham Hotspur FC   74  36\n",
       "8    1611       Manchester United FC   68  28\n",
       "11   1610                 Chelsea FC   62  38\n",
       "17   1631          Leicester City FC   56  60\n",
       "18   1633         West Ham United FC   48  68\n",
       "2    1628          Crystal Palace FC   45  55\n",
       "1    1659            AFC Bournemouth   45  61\n",
       "19   1623                 Everton FC   44  58\n",
       "9    1644                 Watford FC   44  64\n",
       "10   1613        Newcastle United FC   39  47\n",
       "12   1619             Southampton FC   37  56\n",
       "0    1646                 Burnley FC   36  39\n",
       "15   1639              Stoke City FC   35  68\n",
       "7    1651  Brighton & Hove Albion FC   34  54\n",
       "3    1627    West Bromwich Albion FC   31  56\n",
       "14  10531           Swansea City AFC   28  56\n",
       "4    1673       Huddersfield Town FC   28  58"
      ]
     },
     "execution_count": 282,
     "metadata": {},
     "output_type": "execute_result"
    }
   ],
   "source": [
    "cp1=classificaGol.sort_values('gf', ascending= False)\n",
    "cp1"
   ]
  },
  {
   "cell_type": "code",
   "execution_count": 283,
   "metadata": {},
   "outputs": [
    {
     "data": {
      "text/html": [
       "<div>\n",
       "<style scoped>\n",
       "    .dataframe tbody tr th:only-of-type {\n",
       "        vertical-align: middle;\n",
       "    }\n",
       "\n",
       "    .dataframe tbody tr th {\n",
       "        vertical-align: top;\n",
       "    }\n",
       "\n",
       "    .dataframe thead th {\n",
       "        text-align: right;\n",
       "    }\n",
       "</style>\n",
       "<table border=\"1\" class=\"dataframe\">\n",
       "  <thead>\n",
       "    <tr style=\"text-align: right;\">\n",
       "      <th></th>\n",
       "      <th>wyId</th>\n",
       "      <th>officialName</th>\n",
       "      <th>gf</th>\n",
       "      <th>gs</th>\n",
       "    </tr>\n",
       "  </thead>\n",
       "  <tbody>\n",
       "    <tr>\n",
       "      <th>13</th>\n",
       "      <td>1625</td>\n",
       "      <td>Manchester City FC</td>\n",
       "      <td>106</td>\n",
       "      <td>27</td>\n",
       "    </tr>\n",
       "    <tr>\n",
       "      <th>8</th>\n",
       "      <td>1611</td>\n",
       "      <td>Manchester United FC</td>\n",
       "      <td>68</td>\n",
       "      <td>28</td>\n",
       "    </tr>\n",
       "    <tr>\n",
       "      <th>16</th>\n",
       "      <td>1624</td>\n",
       "      <td>Tottenham Hotspur FC</td>\n",
       "      <td>74</td>\n",
       "      <td>36</td>\n",
       "    </tr>\n",
       "    <tr>\n",
       "      <th>6</th>\n",
       "      <td>1612</td>\n",
       "      <td>Liverpool FC</td>\n",
       "      <td>84</td>\n",
       "      <td>38</td>\n",
       "    </tr>\n",
       "    <tr>\n",
       "      <th>11</th>\n",
       "      <td>1610</td>\n",
       "      <td>Chelsea FC</td>\n",
       "      <td>62</td>\n",
       "      <td>38</td>\n",
       "    </tr>\n",
       "  </tbody>\n",
       "</table>\n",
       "</div>"
      ],
      "text/plain": [
       "    wyId          officialName   gf  gs\n",
       "13  1625    Manchester City FC  106  27\n",
       "8   1611  Manchester United FC   68  28\n",
       "16  1624  Tottenham Hotspur FC   74  36\n",
       "6   1612          Liverpool FC   84  38\n",
       "11  1610            Chelsea FC   62  38"
      ]
     },
     "execution_count": 283,
     "metadata": {},
     "output_type": "execute_result"
    }
   ],
   "source": [
    "cp2=classificaGol.sort_values('gs')\n",
    "cp2.head()"
   ]
  },
  {
   "cell_type": "code",
   "execution_count": 194,
   "metadata": {},
   "outputs": [],
   "source": [
    "# create a pandas dataframe with the teams playing at home/away\n",
    "home_away = {}\n",
    "for i in range(len(Matches['teamsData'])):\n",
    "    home_away[i] = {}\n",
    "    for x in Matches['teamsData'][i]:\n",
    "        if Matches['teamsData'][i][x]['side'] == 'home':\n",
    "            home_away[i].update({'home': x})\n",
    "        else:\n",
    "            home_away[i].update({'away': x})\n",
    "home_away = pd.DataFrame(home_away).transpose()"
   ]
  },
  {
   "cell_type": "code",
   "execution_count": 195,
   "metadata": {},
   "outputs": [],
   "source": [
    "# add home_away dataframe to Matches and select the columns for problem 1:\n",
    "Matches = Matches.join(home_away)\n",
    "RQ1_df = Matches[['gameweek', 'winner', 'home', 'away']]\n",
    "RQ1_df = RQ1_df.sort_values(by=['gameweek'])"
   ]
  },
  {
   "cell_type": "code",
   "execution_count": 196,
   "metadata": {},
   "outputs": [],
   "source": [
    "# inizialize scores\n",
    "game_weeks = set(RQ1_df['gameweek'])\n",
    "teams_playing = set(RQ1_df['home'])\n",
    "scores = {}\n",
    "for i in game_weeks:\n",
    "    scores[i] = {}\n",
    "    for x in teams_playing:\n",
    "        scores[i].update({x:0})\n",
    "\n",
    "# calculate scores\n",
    "for i in range(len(Matches['gameweek'])):\n",
    "    if int(Matches['winner'][i]) != 0:\n",
    "        scores[Matches['gameweek'][i]][str(Matches['winner'][i])] += 3\n",
    "    else:\n",
    "        scores[Matches['gameweek'][i]][str(Matches['home'][i])] += 1\n",
    "        scores[Matches['gameweek'][i]][str(Matches['away'][i])] += 1\n",
    "partial_scores = pd.DataFrame(scores)\n",
    "#\n",
    "for x in range(2, len(scores)+1):\n",
    "    for y in scores[x]:\n",
    "        scores[x][y] += scores[x-1][y]\n",
    "\n",
    "#\n",
    "scores = pd.DataFrame(scores)"
   ]
  },
  {
   "cell_type": "code",
   "execution_count": 212,
   "metadata": {},
   "outputs": [
    {
     "data": {
      "text/html": [
       "<div>\n",
       "<style scoped>\n",
       "    .dataframe tbody tr th:only-of-type {\n",
       "        vertical-align: middle;\n",
       "    }\n",
       "\n",
       "    .dataframe tbody tr th {\n",
       "        vertical-align: top;\n",
       "    }\n",
       "\n",
       "    .dataframe thead th {\n",
       "        text-align: right;\n",
       "    }\n",
       "</style>\n",
       "<table border=\"1\" class=\"dataframe\">\n",
       "  <thead>\n",
       "    <tr style=\"text-align: right;\">\n",
       "      <th></th>\n",
       "      <th>0</th>\n",
       "    </tr>\n",
       "  </thead>\n",
       "  <tbody>\n",
       "    <tr>\n",
       "      <th>1625</th>\n",
       "      <td>100</td>\n",
       "    </tr>\n",
       "    <tr>\n",
       "      <th>1611</th>\n",
       "      <td>81</td>\n",
       "    </tr>\n",
       "    <tr>\n",
       "      <th>1624</th>\n",
       "      <td>77</td>\n",
       "    </tr>\n",
       "    <tr>\n",
       "      <th>1612</th>\n",
       "      <td>75</td>\n",
       "    </tr>\n",
       "    <tr>\n",
       "      <th>1610</th>\n",
       "      <td>70</td>\n",
       "    </tr>\n",
       "  </tbody>\n",
       "</table>\n",
       "</div>"
      ],
      "text/plain": [
       "        0\n",
       "1625  100\n",
       "1611   81\n",
       "1624   77\n",
       "1612   75\n",
       "1610   70"
      ]
     },
     "execution_count": 212,
     "metadata": {},
     "output_type": "execute_result"
    }
   ],
   "source": [
    "#we have the final ranking of Premier League\n",
    "scores1= pd.DataFrame(scores[38])\n",
    "scores1.columns = [0]\n",
    "scores1= scores1.sort_values(0, ascending=False)\n",
    "scores1.head()"
   ]
  },
  {
   "cell_type": "code",
   "execution_count": 217,
   "metadata": {},
   "outputs": [
    {
     "data": {
      "text/plain": [
       "pandas.core.indexes.base.Index"
      ]
     },
     "execution_count": 217,
     "metadata": {},
     "output_type": "execute_result"
    }
   ],
   "source": []
  },
  {
   "cell_type": "code",
   "execution_count": null,
   "metadata": {},
   "outputs": [],
   "source": []
  },
  {
   "cell_type": "code",
   "execution_count": 245,
   "metadata": {},
   "outputs": [
    {
     "data": {
      "text/plain": [
       "Index(['1625', '1611', '1624', '1612', '1610', '1609', '1646', '1623', '1631',\n",
       "       '1613', '1628', '1659', '1633', '1651', '1644', '1673', '1619', '10531',\n",
       "       '1639', '1627'],\n",
       "      dtype='object')"
      ]
     },
     "execution_count": 245,
     "metadata": {},
     "output_type": "execute_result"
    }
   ],
   "source": [
    "#fare un merge tra score1 e cp1\n",
    "listain=scores1.index\n",
    "listain #lista con valori dell'indice"
   ]
  },
  {
   "cell_type": "code",
   "execution_count": 247,
   "metadata": {},
   "outputs": [
    {
     "data": {
      "text/html": [
       "<div>\n",
       "<style scoped>\n",
       "    .dataframe tbody tr th:only-of-type {\n",
       "        vertical-align: middle;\n",
       "    }\n",
       "\n",
       "    .dataframe tbody tr th {\n",
       "        vertical-align: top;\n",
       "    }\n",
       "\n",
       "    .dataframe thead th {\n",
       "        text-align: right;\n",
       "    }\n",
       "</style>\n",
       "<table border=\"1\" class=\"dataframe\">\n",
       "  <thead>\n",
       "    <tr style=\"text-align: right;\">\n",
       "      <th></th>\n",
       "      <th>0</th>\n",
       "      <th>Codice</th>\n",
       "    </tr>\n",
       "  </thead>\n",
       "  <tbody>\n",
       "    <tr>\n",
       "      <th>1625</th>\n",
       "      <td>100</td>\n",
       "      <td>1625</td>\n",
       "    </tr>\n",
       "    <tr>\n",
       "      <th>1611</th>\n",
       "      <td>81</td>\n",
       "      <td>1611</td>\n",
       "    </tr>\n",
       "    <tr>\n",
       "      <th>1624</th>\n",
       "      <td>77</td>\n",
       "      <td>1624</td>\n",
       "    </tr>\n",
       "    <tr>\n",
       "      <th>1612</th>\n",
       "      <td>75</td>\n",
       "      <td>1612</td>\n",
       "    </tr>\n",
       "    <tr>\n",
       "      <th>1610</th>\n",
       "      <td>70</td>\n",
       "      <td>1610</td>\n",
       "    </tr>\n",
       "  </tbody>\n",
       "</table>\n",
       "</div>"
      ],
      "text/plain": [
       "        0 Codice\n",
       "1625  100   1625\n",
       "1611   81   1611\n",
       "1624   77   1624\n",
       "1612   75   1612\n",
       "1610   70   1610"
      ]
     },
     "execution_count": 247,
     "metadata": {},
     "output_type": "execute_result"
    }
   ],
   "source": [
    "scores1['Codice']=listain\n",
    "scores1.head()"
   ]
  },
  {
   "cell_type": "code",
   "execution_count": null,
   "metadata": {},
   "outputs": [],
   "source": []
  },
  {
   "cell_type": "code",
   "execution_count": 324,
   "metadata": {},
   "outputs": [
    {
     "data": {
      "text/html": [
       "<div>\n",
       "<style scoped>\n",
       "    .dataframe tbody tr th:only-of-type {\n",
       "        vertical-align: middle;\n",
       "    }\n",
       "\n",
       "    .dataframe tbody tr th {\n",
       "        vertical-align: top;\n",
       "    }\n",
       "\n",
       "    .dataframe thead th {\n",
       "        text-align: right;\n",
       "    }\n",
       "</style>\n",
       "<table border=\"1\" class=\"dataframe\">\n",
       "  <thead>\n",
       "    <tr style=\"text-align: right;\">\n",
       "      <th></th>\n",
       "      <th>wyId</th>\n",
       "      <th>officialName</th>\n",
       "      <th>gf</th>\n",
       "      <th>gs</th>\n",
       "      <th>Points</th>\n",
       "    </tr>\n",
       "  </thead>\n",
       "  <tbody>\n",
       "    <tr>\n",
       "      <th>0</th>\n",
       "      <td>1625</td>\n",
       "      <td>Manchester City FC</td>\n",
       "      <td>106</td>\n",
       "      <td>27</td>\n",
       "      <td>100</td>\n",
       "    </tr>\n",
       "    <tr>\n",
       "      <th>1</th>\n",
       "      <td>1612</td>\n",
       "      <td>Liverpool FC</td>\n",
       "      <td>84</td>\n",
       "      <td>38</td>\n",
       "      <td>75</td>\n",
       "    </tr>\n",
       "    <tr>\n",
       "      <th>2</th>\n",
       "      <td>1609</td>\n",
       "      <td>Arsenal FC</td>\n",
       "      <td>74</td>\n",
       "      <td>51</td>\n",
       "      <td>63</td>\n",
       "    </tr>\n",
       "    <tr>\n",
       "      <th>3</th>\n",
       "      <td>1624</td>\n",
       "      <td>Tottenham Hotspur FC</td>\n",
       "      <td>74</td>\n",
       "      <td>36</td>\n",
       "      <td>77</td>\n",
       "    </tr>\n",
       "    <tr>\n",
       "      <th>4</th>\n",
       "      <td>1611</td>\n",
       "      <td>Manchester United FC</td>\n",
       "      <td>68</td>\n",
       "      <td>28</td>\n",
       "      <td>81</td>\n",
       "    </tr>\n",
       "    <tr>\n",
       "      <th>5</th>\n",
       "      <td>1610</td>\n",
       "      <td>Chelsea FC</td>\n",
       "      <td>62</td>\n",
       "      <td>38</td>\n",
       "      <td>70</td>\n",
       "    </tr>\n",
       "    <tr>\n",
       "      <th>6</th>\n",
       "      <td>1631</td>\n",
       "      <td>Leicester City FC</td>\n",
       "      <td>56</td>\n",
       "      <td>60</td>\n",
       "      <td>47</td>\n",
       "    </tr>\n",
       "    <tr>\n",
       "      <th>7</th>\n",
       "      <td>1633</td>\n",
       "      <td>West Ham United FC</td>\n",
       "      <td>48</td>\n",
       "      <td>68</td>\n",
       "      <td>42</td>\n",
       "    </tr>\n",
       "    <tr>\n",
       "      <th>8</th>\n",
       "      <td>1628</td>\n",
       "      <td>Crystal Palace FC</td>\n",
       "      <td>45</td>\n",
       "      <td>55</td>\n",
       "      <td>44</td>\n",
       "    </tr>\n",
       "    <tr>\n",
       "      <th>9</th>\n",
       "      <td>1659</td>\n",
       "      <td>AFC Bournemouth</td>\n",
       "      <td>45</td>\n",
       "      <td>61</td>\n",
       "      <td>44</td>\n",
       "    </tr>\n",
       "    <tr>\n",
       "      <th>10</th>\n",
       "      <td>1623</td>\n",
       "      <td>Everton FC</td>\n",
       "      <td>44</td>\n",
       "      <td>58</td>\n",
       "      <td>48</td>\n",
       "    </tr>\n",
       "    <tr>\n",
       "      <th>11</th>\n",
       "      <td>1644</td>\n",
       "      <td>Watford FC</td>\n",
       "      <td>44</td>\n",
       "      <td>64</td>\n",
       "      <td>39</td>\n",
       "    </tr>\n",
       "    <tr>\n",
       "      <th>12</th>\n",
       "      <td>1613</td>\n",
       "      <td>Newcastle United FC</td>\n",
       "      <td>39</td>\n",
       "      <td>47</td>\n",
       "      <td>44</td>\n",
       "    </tr>\n",
       "    <tr>\n",
       "      <th>13</th>\n",
       "      <td>1619</td>\n",
       "      <td>Southampton FC</td>\n",
       "      <td>37</td>\n",
       "      <td>56</td>\n",
       "      <td>36</td>\n",
       "    </tr>\n",
       "    <tr>\n",
       "      <th>14</th>\n",
       "      <td>1646</td>\n",
       "      <td>Burnley FC</td>\n",
       "      <td>36</td>\n",
       "      <td>39</td>\n",
       "      <td>54</td>\n",
       "    </tr>\n",
       "    <tr>\n",
       "      <th>15</th>\n",
       "      <td>1639</td>\n",
       "      <td>Stoke City FC</td>\n",
       "      <td>35</td>\n",
       "      <td>68</td>\n",
       "      <td>33</td>\n",
       "    </tr>\n",
       "    <tr>\n",
       "      <th>16</th>\n",
       "      <td>1651</td>\n",
       "      <td>Brighton &amp; Hove Albion FC</td>\n",
       "      <td>34</td>\n",
       "      <td>54</td>\n",
       "      <td>41</td>\n",
       "    </tr>\n",
       "    <tr>\n",
       "      <th>17</th>\n",
       "      <td>1627</td>\n",
       "      <td>West Bromwich Albion FC</td>\n",
       "      <td>31</td>\n",
       "      <td>56</td>\n",
       "      <td>31</td>\n",
       "    </tr>\n",
       "    <tr>\n",
       "      <th>18</th>\n",
       "      <td>10531</td>\n",
       "      <td>Swansea City AFC</td>\n",
       "      <td>28</td>\n",
       "      <td>56</td>\n",
       "      <td>33</td>\n",
       "    </tr>\n",
       "    <tr>\n",
       "      <th>19</th>\n",
       "      <td>1673</td>\n",
       "      <td>Huddersfield Town FC</td>\n",
       "      <td>28</td>\n",
       "      <td>58</td>\n",
       "      <td>37</td>\n",
       "    </tr>\n",
       "  </tbody>\n",
       "</table>\n",
       "</div>"
      ],
      "text/plain": [
       "     wyId               officialName   gf  gs  Points\n",
       "0    1625         Manchester City FC  106  27     100\n",
       "1    1612               Liverpool FC   84  38      75\n",
       "2    1609                 Arsenal FC   74  51      63\n",
       "3    1624       Tottenham Hotspur FC   74  36      77\n",
       "4    1611       Manchester United FC   68  28      81\n",
       "5    1610                 Chelsea FC   62  38      70\n",
       "6    1631          Leicester City FC   56  60      47\n",
       "7    1633         West Ham United FC   48  68      42\n",
       "8    1628          Crystal Palace FC   45  55      44\n",
       "9    1659            AFC Bournemouth   45  61      44\n",
       "10   1623                 Everton FC   44  58      48\n",
       "11   1644                 Watford FC   44  64      39\n",
       "12   1613        Newcastle United FC   39  47      44\n",
       "13   1619             Southampton FC   37  56      36\n",
       "14   1646                 Burnley FC   36  39      54\n",
       "15   1639              Stoke City FC   35  68      33\n",
       "16   1651  Brighton & Hove Albion FC   34  54      41\n",
       "17   1627    West Bromwich Albion FC   31  56      31\n",
       "18  10531           Swansea City AFC   28  56      33\n",
       "19   1673       Huddersfield Town FC   28  58      37"
      ]
     },
     "execution_count": 324,
     "metadata": {},
     "output_type": "execute_result"
    }
   ],
   "source": [
    "scores1['Codice'] = pd.to_numeric(scores1['Codice'])\n",
    "P1 = pd.merge(cp1,scores1,left_on='wyId', right_on='Codice')\n",
    "P1 = P1[['wyId','officialName','gf','gs',0]]\n",
    "P1.columns= ['wyId','officialName','gf','gs','Points']\n",
    "P1\n"
   ]
  },
  {
   "cell_type": "code",
   "execution_count": 335,
   "metadata": {},
   "outputs": [
    {
     "data": {
      "text/html": [
       "<div>\n",
       "<style scoped>\n",
       "    .dataframe tbody tr th:only-of-type {\n",
       "        vertical-align: middle;\n",
       "    }\n",
       "\n",
       "    .dataframe tbody tr th {\n",
       "        vertical-align: top;\n",
       "    }\n",
       "\n",
       "    .dataframe thead th {\n",
       "        text-align: right;\n",
       "    }\n",
       "</style>\n",
       "<table border=\"1\" class=\"dataframe\">\n",
       "  <thead>\n",
       "    <tr style=\"text-align: right;\">\n",
       "      <th></th>\n",
       "      <th>wyId</th>\n",
       "      <th>officialName</th>\n",
       "      <th>gf</th>\n",
       "      <th>gs</th>\n",
       "      <th>Rank</th>\n",
       "    </tr>\n",
       "  </thead>\n",
       "  <tbody>\n",
       "    <tr>\n",
       "      <th>0</th>\n",
       "      <td>1625</td>\n",
       "      <td>Manchester City FC</td>\n",
       "      <td>106</td>\n",
       "      <td>27</td>\n",
       "      <td>1</td>\n",
       "    </tr>\n",
       "    <tr>\n",
       "      <th>4</th>\n",
       "      <td>1611</td>\n",
       "      <td>Manchester United FC</td>\n",
       "      <td>68</td>\n",
       "      <td>28</td>\n",
       "      <td>2</td>\n",
       "    </tr>\n",
       "    <tr>\n",
       "      <th>3</th>\n",
       "      <td>1624</td>\n",
       "      <td>Tottenham Hotspur FC</td>\n",
       "      <td>74</td>\n",
       "      <td>36</td>\n",
       "      <td>3</td>\n",
       "    </tr>\n",
       "    <tr>\n",
       "      <th>1</th>\n",
       "      <td>1612</td>\n",
       "      <td>Liverpool FC</td>\n",
       "      <td>84</td>\n",
       "      <td>38</td>\n",
       "      <td>4</td>\n",
       "    </tr>\n",
       "    <tr>\n",
       "      <th>5</th>\n",
       "      <td>1610</td>\n",
       "      <td>Chelsea FC</td>\n",
       "      <td>62</td>\n",
       "      <td>38</td>\n",
       "      <td>5</td>\n",
       "    </tr>\n",
       "    <tr>\n",
       "      <th>2</th>\n",
       "      <td>1609</td>\n",
       "      <td>Arsenal FC</td>\n",
       "      <td>74</td>\n",
       "      <td>51</td>\n",
       "      <td>6</td>\n",
       "    </tr>\n",
       "    <tr>\n",
       "      <th>14</th>\n",
       "      <td>1646</td>\n",
       "      <td>Burnley FC</td>\n",
       "      <td>36</td>\n",
       "      <td>39</td>\n",
       "      <td>7</td>\n",
       "    </tr>\n",
       "    <tr>\n",
       "      <th>10</th>\n",
       "      <td>1623</td>\n",
       "      <td>Everton FC</td>\n",
       "      <td>44</td>\n",
       "      <td>58</td>\n",
       "      <td>8</td>\n",
       "    </tr>\n",
       "    <tr>\n",
       "      <th>6</th>\n",
       "      <td>1631</td>\n",
       "      <td>Leicester City FC</td>\n",
       "      <td>56</td>\n",
       "      <td>60</td>\n",
       "      <td>9</td>\n",
       "    </tr>\n",
       "    <tr>\n",
       "      <th>8</th>\n",
       "      <td>1628</td>\n",
       "      <td>Crystal Palace FC</td>\n",
       "      <td>45</td>\n",
       "      <td>55</td>\n",
       "      <td>10</td>\n",
       "    </tr>\n",
       "    <tr>\n",
       "      <th>9</th>\n",
       "      <td>1659</td>\n",
       "      <td>AFC Bournemouth</td>\n",
       "      <td>45</td>\n",
       "      <td>61</td>\n",
       "      <td>11</td>\n",
       "    </tr>\n",
       "    <tr>\n",
       "      <th>12</th>\n",
       "      <td>1613</td>\n",
       "      <td>Newcastle United FC</td>\n",
       "      <td>39</td>\n",
       "      <td>47</td>\n",
       "      <td>12</td>\n",
       "    </tr>\n",
       "    <tr>\n",
       "      <th>7</th>\n",
       "      <td>1633</td>\n",
       "      <td>West Ham United FC</td>\n",
       "      <td>48</td>\n",
       "      <td>68</td>\n",
       "      <td>13</td>\n",
       "    </tr>\n",
       "    <tr>\n",
       "      <th>16</th>\n",
       "      <td>1651</td>\n",
       "      <td>Brighton &amp; Hove Albion FC</td>\n",
       "      <td>34</td>\n",
       "      <td>54</td>\n",
       "      <td>14</td>\n",
       "    </tr>\n",
       "    <tr>\n",
       "      <th>11</th>\n",
       "      <td>1644</td>\n",
       "      <td>Watford FC</td>\n",
       "      <td>44</td>\n",
       "      <td>64</td>\n",
       "      <td>15</td>\n",
       "    </tr>\n",
       "    <tr>\n",
       "      <th>19</th>\n",
       "      <td>1673</td>\n",
       "      <td>Huddersfield Town FC</td>\n",
       "      <td>28</td>\n",
       "      <td>58</td>\n",
       "      <td>16</td>\n",
       "    </tr>\n",
       "    <tr>\n",
       "      <th>13</th>\n",
       "      <td>1619</td>\n",
       "      <td>Southampton FC</td>\n",
       "      <td>37</td>\n",
       "      <td>56</td>\n",
       "      <td>17</td>\n",
       "    </tr>\n",
       "    <tr>\n",
       "      <th>18</th>\n",
       "      <td>10531</td>\n",
       "      <td>Swansea City AFC</td>\n",
       "      <td>28</td>\n",
       "      <td>56</td>\n",
       "      <td>18</td>\n",
       "    </tr>\n",
       "    <tr>\n",
       "      <th>15</th>\n",
       "      <td>1639</td>\n",
       "      <td>Stoke City FC</td>\n",
       "      <td>35</td>\n",
       "      <td>68</td>\n",
       "      <td>19</td>\n",
       "    </tr>\n",
       "    <tr>\n",
       "      <th>17</th>\n",
       "      <td>1627</td>\n",
       "      <td>West Bromwich Albion FC</td>\n",
       "      <td>31</td>\n",
       "      <td>56</td>\n",
       "      <td>20</td>\n",
       "    </tr>\n",
       "  </tbody>\n",
       "</table>\n",
       "</div>"
      ],
      "text/plain": [
       "     wyId               officialName   gf  gs  Rank\n",
       "0    1625         Manchester City FC  106  27     1\n",
       "4    1611       Manchester United FC   68  28     2\n",
       "3    1624       Tottenham Hotspur FC   74  36     3\n",
       "1    1612               Liverpool FC   84  38     4\n",
       "5    1610                 Chelsea FC   62  38     5\n",
       "2    1609                 Arsenal FC   74  51     6\n",
       "14   1646                 Burnley FC   36  39     7\n",
       "10   1623                 Everton FC   44  58     8\n",
       "6    1631          Leicester City FC   56  60     9\n",
       "8    1628          Crystal Palace FC   45  55    10\n",
       "9    1659            AFC Bournemouth   45  61    11\n",
       "12   1613        Newcastle United FC   39  47    12\n",
       "7    1633         West Ham United FC   48  68    13\n",
       "16   1651  Brighton & Hove Albion FC   34  54    14\n",
       "11   1644                 Watford FC   44  64    15\n",
       "19   1673       Huddersfield Town FC   28  58    16\n",
       "13   1619             Southampton FC   37  56    17\n",
       "18  10531           Swansea City AFC   28  56    18\n",
       "15   1639              Stoke City FC   35  68    19\n",
       "17   1627    West Bromwich Albion FC   31  56    20"
      ]
     },
     "execution_count": 335,
     "metadata": {},
     "output_type": "execute_result"
    }
   ],
   "source": [
    "P2 = P1.sort_values('Points')\n",
    "P2.Points = range(20,0,-1)\n",
    "P2.columns= ['wyId','officialName','gf','gs','Rank']\n",
    "P2=P2.sort_values('Rank')\n",
    "P2"
   ]
  },
  {
   "cell_type": "code",
   "execution_count": 336,
   "metadata": {},
   "outputs": [],
   "source": [
    "gf=list(P2['gf'])\n",
    "gs=list(P2['gs'])\n"
   ]
  },
  {
   "cell_type": "code",
   "execution_count": 339,
   "metadata": {},
   "outputs": [
    {
     "data": {
      "text/plain": [
       "[106,\n",
       " 68,\n",
       " 74,\n",
       " 84,\n",
       " 62,\n",
       " 74,\n",
       " 36,\n",
       " 44,\n",
       " 56,\n",
       " 45,\n",
       " 45,\n",
       " 39,\n",
       " 48,\n",
       " 34,\n",
       " 44,\n",
       " 28,\n",
       " 37,\n",
       " 28,\n",
       " 35,\n",
       " 31]"
      ]
     },
     "execution_count": 339,
     "metadata": {},
     "output_type": "execute_result"
    }
   ],
   "source": [
    "gf"
   ]
  },
  {
   "cell_type": "code",
   "execution_count": 340,
   "metadata": {},
   "outputs": [
    {
     "data": {
      "text/plain": [
       "[27,\n",
       " 28,\n",
       " 36,\n",
       " 38,\n",
       " 38,\n",
       " 51,\n",
       " 39,\n",
       " 58,\n",
       " 60,\n",
       " 55,\n",
       " 61,\n",
       " 47,\n",
       " 68,\n",
       " 54,\n",
       " 64,\n",
       " 58,\n",
       " 56,\n",
       " 56,\n",
       " 68,\n",
       " 56]"
      ]
     },
     "execution_count": 340,
     "metadata": {},
     "output_type": "execute_result"
    }
   ],
   "source": [
    "gs"
   ]
  },
  {
   "cell_type": "code",
   "execution_count": 341,
   "metadata": {},
   "outputs": [
    {
     "data": {
      "text/plain": [
       "[1627,\n",
       " 1639,\n",
       " 10531,\n",
       " 1619,\n",
       " 1673,\n",
       " 1644,\n",
       " 1651,\n",
       " 1633,\n",
       " 1613,\n",
       " 1659,\n",
       " 1628,\n",
       " 1631,\n",
       " 1623,\n",
       " 1646,\n",
       " 1609,\n",
       " 1610,\n",
       " 1612,\n",
       " 1624,\n",
       " 1611,\n",
       " 1625]"
      ]
     },
     "execution_count": 341,
     "metadata": {},
     "output_type": "execute_result"
    }
   ],
   "source": [
    "clas = list(P2['wyId'])\n",
    "clas.reverse()\n",
    "clas"
   ]
  },
  {
   "cell_type": "code",
   "execution_count": 342,
   "metadata": {},
   "outputs": [],
   "source": [
    "import matplotlib.pyplot as plt "
   ]
  },
  {
   "cell_type": "code",
   "execution_count": 343,
   "metadata": {},
   "outputs": [
    {
     "data": {
      "text/plain": [
       "[1, 2, 3, 4, 5, 6, 7, 8, 9, 10, 11, 12, 13, 14, 15, 16, 17, 18, 19, 20]"
      ]
     },
     "execution_count": 343,
     "metadata": {},
     "output_type": "execute_result"
    }
   ],
   "source": [
    "prova= list(range(1,21))\n",
    "prova"
   ]
  },
  {
   "cell_type": "code",
   "execution_count": null,
   "metadata": {},
   "outputs": [],
   "source": []
  },
  {
   "cell_type": "code",
   "execution_count": 346,
   "metadata": {},
   "outputs": [
    {
     "data": {
      "image/png": "[encoded data removed]",
      "text/plain": [
       "<Figure size 432x288 with 1 Axes>"
      ]
     },
     "metadata": {
      "needs_background": "light"
     },
     "output_type": "display_data"
    }
   ],
   "source": [
    "my_xticks = prova\n",
    "plt.xticks(x, my_xticks)\n",
    "plt.plot(prova,gf,'r*')\n",
    "plt.show()"
   ]
  },
  {
   "cell_type": "code",
   "execution_count": 347,
   "metadata": {},
   "outputs": [
    {
     "data": {
      "image/png": "[encoded data removed]",
      "text/plain": [
       "<Figure size 432x288 with 1 Axes>"
      ]
     },
     "metadata": {
      "needs_background": "light"
     },
     "output_type": "display_data"
    }
   ],
   "source": [
    "my_xticks = prova\n",
    "plt.xticks(x, my_xticks)\n",
    "plt.plot(prova,gs,'g*')\n",
    "plt.show()"
   ]
  },
  {
   "cell_type": "code",
   "execution_count": 348,
   "metadata": {},
   "outputs": [
    {
     "data": {
      "image/png": "[encoded data removed]",
      "text/plain": [
       "<Figure size 432x288 with 1 Axes>"
      ]
     },
     "metadata": {
      "needs_background": "light"
     },
     "output_type": "display_data"
    }
   ],
   "source": [
    "#creare la lista da mettere sulle X\n",
    "#my_xticks = ['a', 'b', 'c', 'd']\n",
    "#plt.plot(prova,gs,'g*')\n",
    "#plt.xticks(x, clas)\n",
    "#plt.yticks(np.arange(y.min(), y.max()))\n",
    "\n",
    "my_xticks = clas #lista delle squadre ordinate in base al ranking\n",
    "plt.xticks(x, my_xticks)\n",
    "plt.plot(x, y, 'g*')\n",
    "plt.grid(axis='y', linestyle='-')\n",
    "plt.show()"
   ]
  },
  {
   "cell_type": "code",
   "execution_count": 349,
   "metadata": {},
   "outputs": [],
   "source": [
    "import statsmodels.api as sm\n",
    "import numpy as np\n",
    "import matplotlib.pyplot as plt"
   ]
  },
  {
   "cell_type": "code",
   "execution_count": 350,
   "metadata": {},
   "outputs": [
    {
     "data": {
      "text/plain": [
       "[27,\n",
       " 28,\n",
       " 36,\n",
       " 38,\n",
       " 38,\n",
       " 51,\n",
       " 39,\n",
       " 58,\n",
       " 60,\n",
       " 55,\n",
       " 61,\n",
       " 47,\n",
       " 68,\n",
       " 54,\n",
       " 64,\n",
       " 58,\n",
       " 56,\n",
       " 56,\n",
       " 68,\n",
       " 56]"
      ]
     },
     "execution_count": 350,
     "metadata": {},
     "output_type": "execute_result"
    }
   ],
   "source": [
    "gs"
   ]
  },
  {
   "cell_type": "code",
   "execution_count": 351,
   "metadata": {},
   "outputs": [
    {
     "name": "stdout",
     "output_type": "stream",
     "text": [
      "                            OLS Regression Results                            \n",
      "==============================================================================\n",
      "Dep. Variable:                      y   R-squared:                       0.630\n",
      "Model:                            OLS   Adj. R-squared:                  0.609\n",
      "Method:                 Least Squares   F-statistic:                     30.59\n",
      "Date:                Tue, 22 Oct 2019   Prob (F-statistic):           2.99e-05\n",
      "Time:                        15:46:08   Log-Likelihood:                -68.400\n",
      "No. Observations:                  20   AIC:                             140.8\n",
      "Df Residuals:                      18   BIC:                             142.8\n",
      "Df Model:                           1                                         \n",
      "Covariance Type:            nonrobust                                         \n",
      "==============================================================================\n",
      "                 coef    std err          t      P>|t|      [0.025      0.975]\n",
      "------------------------------------------------------------------------------\n",
      "const         33.3421      3.622      9.205      0.000      25.732      40.952\n",
      "x1             1.6722      0.302      5.530      0.000       1.037       2.307\n",
      "==============================================================================\n",
      "Omnibus:                        4.006   Durbin-Watson:                   1.851\n",
      "Prob(Omnibus):                  0.135   Jarque-Bera (JB):                1.767\n",
      "Skew:                           0.383   Prob(JB):                        0.413\n",
      "Kurtosis:                       1.761   Cond. No.                         25.0\n",
      "==============================================================================\n",
      "\n",
      "Warnings:\n",
      "[1] Standard Errors assume that the covariance matrix of the errors is correctly specified.\n"
     ]
    },
    {
     "data": {
      "image/png": "[encoded data removed]",
      "text/plain": [
       "<Figure size 1080x720 with 1 Axes>"
      ]
     },
     "metadata": {
      "needs_background": "light"
     },
     "output_type": "display_data"
    }
   ],
   "source": [
    "fig, ax = plt.subplots(1, 1, figsize=(15, 10))\n",
    "x = prova\n",
    "y = gs\n",
    "results1 = sm.OLS(y,sm.add_constant(x)).fit()\n",
    "\n",
    "print(results1.summary())\n",
    "\n",
    "my_xticks = clas #lista delle squadre ordinate in base al ranking\n",
    "plt.xticks(x, my_xticks)\n",
    "plt.plot(x, y, 'g*')\n",
    "plt.grid(axis='y', linestyle='-')\n",
    "\n",
    "plt.plot(np.unique(x), np.poly1d(np.polyfit(x, y, 1))(np.unique(x)))\n",
    "plt.show()"
   ]
  },
  {
   "cell_type": "code",
   "execution_count": 352,
   "metadata": {},
   "outputs": [
    {
     "name": "stdout",
     "output_type": "stream",
     "text": [
      "                            OLS Regression Results                            \n",
      "==============================================================================\n",
      "Dep. Variable:                      y   R-squared:                       0.711\n",
      "Model:                            OLS   Adj. R-squared:                  0.695\n",
      "Method:                 Least Squares   F-statistic:                     44.37\n",
      "Date:                Tue, 22 Oct 2019   Prob (F-statistic):           2.99e-06\n",
      "Time:                        15:46:09   Log-Likelihood:                -76.298\n",
      "No. Observations:                  20   AIC:                             156.6\n",
      "Df Residuals:                      18   BIC:                             158.6\n",
      "Df Model:                           1                                         \n",
      "Covariance Type:            nonrobust                                         \n",
      "==============================================================================\n",
      "                 coef    std err          t      P>|t|      [0.025      0.975]\n",
      "------------------------------------------------------------------------------\n",
      "const         82.2895      5.376     15.307      0.000      70.995      93.584\n",
      "x1            -2.9895      0.449     -6.661      0.000      -3.932      -2.047\n",
      "==============================================================================\n",
      "Omnibus:                        1.523   Durbin-Watson:                   1.907\n",
      "Prob(Omnibus):                  0.467   Jarque-Bera (JB):                0.325\n",
      "Skew:                           0.116   Prob(JB):                        0.850\n",
      "Kurtosis:                       3.580   Cond. No.                         25.0\n",
      "==============================================================================\n",
      "\n",
      "Warnings:\n",
      "[1] Standard Errors assume that the covariance matrix of the errors is correctly specified.\n"
     ]
    },
    {
     "data": {
      "image/png": "[encoded data removed]",
      "text/plain": [
       "<Figure size 1080x720 with 1 Axes>"
      ]
     },
     "metadata": {
      "needs_background": "light"
     },
     "output_type": "display_data"
    }
   ],
   "source": [
    "fig, ax = plt.subplots(1, 1, figsize=(15, 10))\n",
    "x = prova\n",
    "y1 = gf\n",
    "results2 = sm.OLS(y1,sm.add_constant(x)).fit()\n",
    "\n",
    "print(results2.summary())\n",
    "\n",
    "my_xticks = clas #lista delle squadre ordinate in base al ranking\n",
    "plt.xticks(x, my_xticks)\n",
    "plt.plot(x, y1, 'r*')\n",
    "plt.grid(axis='y', linestyle='-')\n",
    "\n",
    "plt.plot(np.unique(x), np.poly1d(np.polyfit(x, y1, 1))(np.unique(x)))\n",
    "plt.show()"
   ]
  },
  {
   "cell_type": "code",
   "execution_count": null,
   "metadata": {},
   "outputs": [],
   "source": []
  },
  {
   "cell_type": "code",
   "execution_count": null,
   "metadata": {},
   "outputs": [],
   "source": []
  }
 ],
 "metadata": {
  "kernelspec": {
   "display_name": "Python 3",
   "language": "python",
   "name": "python3"
  },
  "language_info": {
   "codemirror_mode": {
    "name": "ipython",
    "version": 3
   },
   "file_extension": ".py",
   "mimetype": "text/x-python",
   "name": "python",
   "nbconvert_exporter": "python",
   "pygments_lexer": "ipython3",
   "version": "3.7.3"
  }
 },
 "nbformat": 4,
 "nbformat_minor": 4
}
