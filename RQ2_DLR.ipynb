{
 "cells": [
  {
   "cell_type": "code",
   "execution_count": null,
   "metadata": {},
   "outputs": [],
   "source": [
    "import pandas as pd\n",
    "import numpy as np\n",
    "from datetime import datetime\n",
    "Coaches = pd.read_json('coaches/coaches.json')\n",
    "Players = pd.read_json('players/players.json')\n",
    "Events = pd.read_json('events/events_England.json')\n",
    "Teams = pd.read_json('teams/teams.json')\n",
    "Matches = pd.read_json('matches/matches_England.json')"
   ]
  },
  {
   "cell_type": "code",
   "execution_count": null,
   "metadata": {},
   "outputs": [],
   "source": [
    "#Matches"
   ]
  },
  {
   "cell_type": "code",
   "execution_count": null,
   "metadata": {},
   "outputs": [],
   "source": [
    "# create a pandas dataframe with the teams playing at home/away\n",
    "home_away = {}\n",
    "for i in range(len(Matches['teamsData'])):\n",
    "    home_away[i] = {}\n",
    "    for x in Matches['teamsData'][i]:\n",
    "        if Matches['teamsData'][i][x]['side'] == 'home':\n",
    "            home_away[i].update({'home': x})\n",
    "        else:\n",
    "            home_away[i].update({'away': x})\n",
    "home_away = pd.DataFrame(home_away).transpose()"
   ]
  },
  {
   "cell_type": "code",
   "execution_count": null,
   "metadata": {},
   "outputs": [],
   "source": [
    "# add home_away dataframe to Matches and select the columns for problem 1:\n",
    "Matches = Matches.join(home_away)\n",
    "subMatches = Matches[[ 'winner', 'home', 'away']]\n"
   ]
  },
  {
   "cell_type": "code",
   "execution_count": null,
   "metadata": {},
   "outputs": [],
   "source": [
    "TeamL=list(set(subMatches['home']))\n",
    "#TeamL"
   ]
  },
  {
   "cell_type": "code",
   "execution_count": null,
   "metadata": {},
   "outputs": [],
   "source": [
    "codeTeam  = '1609\n",
    "homeM = subMatches[(subMatches['home']==codeTeam)]\n",
    "awayM = subMatches[(subMatches['home']==codeTeam)]\n",
    "homeM_list=[]\n",
    "\n",
    "for i in range(len(homeM)):\n",
    "    if(homeM.iloc[i]['winner']==int(homeM.iloc[i]['home'])):\n",
    "        homeM_list.append('home_win')\n",
    "    elif(homeM.iloc[i]['winner']==0):\n",
    "        homeM_list.append('home_draw')\n",
    "    else:\n",
    "        homeM_list.append('home_lost')\n",
    "for i in range(len(awayM)):\n",
    "    if(awayM.iloc[i]['winner']==int(awayM.iloc[i]['away'])):\n",
    "        homeM_list.append('away_win')\n",
    "    elif(awayM.iloc[i]['winner']==0):\n",
    "        homeM_list.append('away_draw')\n",
    "    else:\n",
    "        homeM_list.append('away_lost')\n",
    "name = [codeTeam for i in range(38)]\n",
    "gggindex= list(range(38))\n",
    "TeamFrame = pd.DataFrame(zip(name,homeM_list), columns = ['Team', 'Info'])\n"
   ]
  },
  {
   "cell_type": "code",
   "execution_count": null,
   "metadata": {},
   "outputs": [],
   "source": [
    "#TeamFrame"
   ]
  },
  {
   "cell_type": "code",
   "execution_count": null,
   "metadata": {},
   "outputs": [],
   "source": [
    "pd.crosstab(TeamFrame.Team,TeamFrame.Info)"
   ]
  },
  {
   "cell_type": "code",
   "execution_count": null,
   "metadata": {},
   "outputs": [],
   "source": [
    "TeamL=list(set(subMatches['home']))\n",
    "\n",
    "def TeamFrame(codeTeam):\n",
    "    homeM = subMatches[(subMatches['home']==codeTeam)]\n",
    "    awayM = subMatches[(subMatches['home']==codeTeam)]\n",
    "    homeM_list=[]\n",
    "\n",
    "    for i in range(len(homeM)):\n",
    "        if(homeM.iloc[i]['winner']==int(homeM.iloc[i]['home'])):\n",
    "            homeM_list.append('home_win')\n",
    "        elif(homeM.iloc[i]['winner']==0):\n",
    "            homeM_list.append('home_draw')\n",
    "        else:\n",
    "            homeM_list.append('home_lost')\n",
    "    for i in range(len(awayM)):\n",
    "        if(awayM.iloc[i]['winner']==int(awayM.iloc[i]['away'])):\n",
    "            homeM_list.append('away_win')\n",
    "        elif(awayM.iloc[i]['winner']==0):\n",
    "            homeM_list.append('away_draw')\n",
    "        else:\n",
    "            homeM_list.append('away_lost')\n",
    "    name = [codeTeam for i in range(38)]\n",
    "    gggindex= list(range(38))\n",
    "    TeamFrame = pd.DataFrame(zip(name,homeM_list), columns = ['Team', 'Info'])\n",
    "    \n",
    "    return TeamFrame\n",
    "\n",
    "Final = pd.concat([TeamFrame(codeTeam) for codeTeam in TeamL[-5:]])"
   ]
  },
  {
   "cell_type": "code",
   "execution_count": null,
   "metadata": {},
   "outputs": [],
   "source": []
  },
  {
   "cell_type": "code",
   "execution_count": null,
   "metadata": {},
   "outputs": [],
   "source": []
  },
  {
   "cell_type": "code",
   "execution_count": null,
   "metadata": {},
   "outputs": [],
   "source": []
  },
  {
   "cell_type": "code",
   "execution_count": null,
   "metadata": {},
   "outputs": [],
   "source": [
    "#Final"
   ]
  },
  {
   "cell_type": "code",
   "execution_count": null,
   "metadata": {},
   "outputs": [],
   "source": [
    "P = pd.DataFrame(data=Teams['officialName'], index= Teams['wyId'])"
   ]
  },
  {
   "cell_type": "code",
   "execution_count": null,
   "metadata": {},
   "outputs": [],
   "source": [
    "Final['Team'] = pd.to_numeric(Final['Team'])"
   ]
  },
  {
   "cell_type": "code",
   "execution_count": null,
   "metadata": {},
   "outputs": [],
   "source": [
    "Final = pd.merge(Final,Teams[['wyId','officialName']], left_on='Team', right_on='wyId')"
   ]
  },
  {
   "cell_type": "code",
   "execution_count": null,
   "metadata": {},
   "outputs": [],
   "source": [
    "#Final"
   ]
  },
  {
   "cell_type": "code",
   "execution_count": null,
   "metadata": {},
   "outputs": [],
   "source": [
    "Final = pd.crosstab(Final.officialName,Final.Info)"
   ]
  },
  {
   "cell_type": "code",
   "execution_count": null,
   "metadata": {},
   "outputs": [],
   "source": [
    "#Final"
   ]
  },
  {
   "cell_type": "code",
   "execution_count": null,
   "metadata": {},
   "outputs": [],
   "source": [
    "from scipy.stats import chisquare"
   ]
  },
  {
   "cell_type": "code",
   "execution_count": null,
   "metadata": {},
   "outputs": [],
   "source": [
    "chisquare(Final)"
   ]
  },
  {
   "cell_type": "code",
   "execution_count": null,
   "metadata": {},
   "outputs": [],
   "source": []
  }
 ],
 "metadata": {
  "kernelspec": {
   "display_name": "Python 3",
   "language": "python",
   "name": "python3"
  },
  "language_info": {
   "codemirror_mode": {
    "name": "ipython",
    "version": 3
   },
   "file_extension": ".py",
   "mimetype": "text/x-python",
   "name": "python",
   "nbconvert_exporter": "python",
   "pygments_lexer": "ipython3",
   "version": "3.7.4"
  }
 },
 "nbformat": 4,
 "nbformat_minor": 4
}
