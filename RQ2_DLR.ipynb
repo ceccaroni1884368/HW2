{
 "cells": [
  {
   "cell_type": "code",
   "execution_count": 1,
   "metadata": {},
   "outputs": [],
   "source": [
    "import pandas as pd\n",
    "import numpy as np\n",
    "from datetime import datetime\n",
    "Coaches = pd.read_json('coaches/coaches.json')\n",
    "Players = pd.read_json('players/players.json')\n",
    "Events = pd.read_json('events/events_England.json')\n",
    "Teams = pd.read_json('teams/teams.json')\n",
    "Matches = pd.read_json('matches/matches_England.json')"
   ]
  },
  {
   "cell_type": "code",
   "execution_count": 3,
   "metadata": {},
   "outputs": [],
   "source": [
    "# create a pandas dataframe with the teams playing at home/away\n",
    "home_away = {}\n",
    "for i in range(len(Matches['teamsData'])):\n",
    "    home_away[i] = {}\n",
    "    for x in Matches['teamsData'][i]:\n",
    "        if Matches['teamsData'][i][x]['side'] == 'home':\n",
    "            home_away[i].update({'home': x})\n",
    "        else:\n",
    "            home_away[i].update({'away': x})\n",
    "home_away = pd.DataFrame(home_away).transpose()"
   ]
  },
  {
   "cell_type": "code",
   "execution_count": 4,
   "metadata": {},
   "outputs": [],
   "source": [
    "# add home_away dataframe to Matches and select the columns for problem 1:\n",
    "Matches = Matches.join(home_away)\n",
    "subMatches = Matches[[ 'winner', 'home', 'away']]\n"
   ]
  },
  {
   "cell_type": "code",
   "execution_count": 5,
   "metadata": {},
   "outputs": [],
   "source": [
    "TeamL=list(set(subMatches['home']))\n",
    "#TeamL"
   ]
  },
  {
   "cell_type": "code",
   "execution_count": 6,
   "metadata": {},
   "outputs": [],
   "source": [
    "TeamL=list(set(subMatches['home']))\n",
    "\n",
    "def TeamFrame(codeTeam):\n",
    "    homeM = subMatches[(subMatches['home']==codeTeam)]\n",
    "    awayM = subMatches[(subMatches['home']==codeTeam)]\n",
    "    homeM_list=[]\n",
    "\n",
    "    for i in range(len(homeM)):\n",
    "        if(homeM.iloc[i]['winner']==int(homeM.iloc[i]['home'])):\n",
    "            homeM_list.append('home_win')\n",
    "        elif(homeM.iloc[i]['winner']==0):\n",
    "            homeM_list.append('home_draw')\n",
    "        else:\n",
    "            homeM_list.append('home_lost')\n",
    "    for i in range(len(awayM)):\n",
    "        if(awayM.iloc[i]['winner']==int(awayM.iloc[i]['away'])):\n",
    "            homeM_list.append('away_win')\n",
    "        elif(awayM.iloc[i]['winner']==0):\n",
    "            homeM_list.append('away_draw')\n",
    "        else:\n",
    "            homeM_list.append('away_lost')\n",
    "    name = [codeTeam for i in range(38)]\n",
    "    gggindex= list(range(38))\n",
    "    TeamFrame = pd.DataFrame(zip(name,homeM_list), columns = ['Team', 'Info'])\n",
    "    \n",
    "    return TeamFrame\n",
    "\n",
    "Final = pd.concat([TeamFrame(codeTeam) for codeTeam in TeamL[-5:]])"
   ]
  },
  {
   "cell_type": "code",
   "execution_count": 8,
   "metadata": {},
   "outputs": [],
   "source": [
    "P = pd.DataFrame(data=Teams['officialName'], index= Teams['wyId'])"
   ]
  },
  {
   "cell_type": "code",
   "execution_count": 9,
   "metadata": {},
   "outputs": [],
   "source": [
    "Final['Team'] = pd.to_numeric(Final['Team'])"
   ]
  },
  {
   "cell_type": "code",
   "execution_count": 10,
   "metadata": {},
   "outputs": [],
   "source": [
    "Final = pd.merge(Final,Teams[['wyId','officialName']], left_on='Team', right_on='wyId')"
   ]
  },
  {
   "cell_type": "code",
   "execution_count": 12,
   "metadata": {},
   "outputs": [],
   "source": [
    "Final = pd.crosstab(Final.officialName,Final.Info)"
   ]
  },
  {
   "cell_type": "code",
   "execution_count": 13,
   "metadata": {},
   "outputs": [
    {
     "data": {
      "text/html": [
       "<div>\n",
       "<style scoped>\n",
       "    .dataframe tbody tr th:only-of-type {\n",
       "        vertical-align: middle;\n",
       "    }\n",
       "\n",
       "    .dataframe tbody tr th {\n",
       "        vertical-align: top;\n",
       "    }\n",
       "\n",
       "    .dataframe thead th {\n",
       "        text-align: right;\n",
       "    }\n",
       "</style>\n",
       "<table border=\"1\" class=\"dataframe\">\n",
       "  <thead>\n",
       "    <tr style=\"text-align: right;\">\n",
       "      <th>Info</th>\n",
       "      <th>away_draw</th>\n",
       "      <th>away_lost</th>\n",
       "      <th>away_win</th>\n",
       "      <th>home_draw</th>\n",
       "      <th>home_lost</th>\n",
       "      <th>home_win</th>\n",
       "    </tr>\n",
       "    <tr>\n",
       "      <th>officialName</th>\n",
       "      <th></th>\n",
       "      <th></th>\n",
       "      <th></th>\n",
       "      <th></th>\n",
       "      <th></th>\n",
       "      <th></th>\n",
       "    </tr>\n",
       "  </thead>\n",
       "  <tbody>\n",
       "    <tr>\n",
       "      <td>Huddersfield Town FC</td>\n",
       "      <td>5</td>\n",
       "      <td>6</td>\n",
       "      <td>8</td>\n",
       "      <td>5</td>\n",
       "      <td>8</td>\n",
       "      <td>6</td>\n",
       "    </tr>\n",
       "    <tr>\n",
       "      <td>Leicester City FC</td>\n",
       "      <td>6</td>\n",
       "      <td>7</td>\n",
       "      <td>6</td>\n",
       "      <td>6</td>\n",
       "      <td>6</td>\n",
       "      <td>7</td>\n",
       "    </tr>\n",
       "    <tr>\n",
       "      <td>Liverpool FC</td>\n",
       "      <td>7</td>\n",
       "      <td>12</td>\n",
       "      <td>0</td>\n",
       "      <td>7</td>\n",
       "      <td>0</td>\n",
       "      <td>12</td>\n",
       "    </tr>\n",
       "    <tr>\n",
       "      <td>Swansea City AFC</td>\n",
       "      <td>3</td>\n",
       "      <td>6</td>\n",
       "      <td>10</td>\n",
       "      <td>3</td>\n",
       "      <td>10</td>\n",
       "      <td>6</td>\n",
       "    </tr>\n",
       "    <tr>\n",
       "      <td>West Bromwich Albion FC</td>\n",
       "      <td>9</td>\n",
       "      <td>3</td>\n",
       "      <td>7</td>\n",
       "      <td>9</td>\n",
       "      <td>7</td>\n",
       "      <td>3</td>\n",
       "    </tr>\n",
       "  </tbody>\n",
       "</table>\n",
       "</div>"
      ],
      "text/plain": [
       "Info                     away_draw  away_lost  away_win  home_draw  home_lost  \\\n",
       "officialName                                                                    \n",
       "Huddersfield Town FC             5          6         8          5          8   \n",
       "Leicester City FC                6          7         6          6          6   \n",
       "Liverpool FC                     7         12         0          7          0   \n",
       "Swansea City AFC                 3          6        10          3         10   \n",
       "West Bromwich Albion FC          9          3         7          9          7   \n",
       "\n",
       "Info                     home_win  \n",
       "officialName                       \n",
       "Huddersfield Town FC            6  \n",
       "Leicester City FC               7  \n",
       "Liverpool FC                   12  \n",
       "Swansea City AFC                6  \n",
       "West Bromwich Albion FC         3  "
      ]
     },
     "execution_count": 13,
     "metadata": {},
     "output_type": "execute_result"
    }
   ],
   "source": [
    "Final"
   ]
  },
  {
   "cell_type": "code",
   "execution_count": 14,
   "metadata": {},
   "outputs": [],
   "source": [
    "from scipy.stats import chisquare"
   ]
  },
  {
   "cell_type": "code",
   "execution_count": 15,
   "metadata": {},
   "outputs": [
    {
     "data": {
      "text/plain": [
       "Power_divergenceResult(statistic=array([3.33333333, 6.29411765, 9.16129032, 3.33333333, 9.16129032,\n",
       "       6.29411765]), pvalue=array([0.50366827, 0.17823374, 0.05719203, 0.50366827, 0.05719203,\n",
       "       0.17823374]))"
      ]
     },
     "execution_count": 15,
     "metadata": {},
     "output_type": "execute_result"
    }
   ],
   "source": [
    "chisquare(Final)"
   ]
  }
 ],
 "metadata": {
  "kernelspec": {
   "display_name": "Python 3",
   "language": "python",
   "name": "python3"
  },
  "language_info": {
   "codemirror_mode": {
    "name": "ipython",
    "version": 3
   },
   "file_extension": ".py",
   "mimetype": "text/x-python",
   "name": "python",
   "nbconvert_exporter": "python",
   "pygments_lexer": "ipython3",
   "version": "3.7.4"
  }
 },
 "nbformat": 4,
 "nbformat_minor": 4
}
