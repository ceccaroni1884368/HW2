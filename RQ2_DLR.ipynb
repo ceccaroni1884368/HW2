{
 "cells": [
  {
   "cell_type": "code",
   "execution_count": 1,
   "metadata": {},
   "outputs": [],
   "source": [
    "import pandas as pd\n",
    "import numpy as np\n",
    "from datetime import datetime\n",
    "Coaches = pd.read_json('coaches/coaches.json')\n",
    "Players = pd.read_json('players/players.json')\n",
    "Events = pd.read_json('events/events_England.json')\n",
    "Teams = pd.read_json('teams/teams.json')\n",
    "Matches = pd.read_json('matches/matches_England.json')"
   ]
  },
  {
   "cell_type": "code",
   "execution_count": 2,
   "metadata": {},
   "outputs": [],
   "source": [
    "# create a pandas dataframe with the teams playing at home/away\n",
    "home_away = {}\n",
    "for i in range(len(Matches['teamsData'])):\n",
    "    home_away[i] = {}\n",
    "    for x in Matches['teamsData'][i]:\n",
    "        if Matches['teamsData'][i][x]['side'] == 'home':\n",
    "            home_away[i].update({'home': x})\n",
    "        else:\n",
    "            home_away[i].update({'away': x})\n",
    "home_away = pd.DataFrame(home_away).transpose()"
   ]
  },
  {
   "cell_type": "code",
   "execution_count": 3,
   "metadata": {},
   "outputs": [],
   "source": [
    "# add home_away dataframe to Matches and select the columns for problem 1:\n",
    "Matches = Matches.join(home_away)\n",
    "subMatches = Matches[[ 'winner', 'home', 'away']]\n"
   ]
  },
  {
   "cell_type": "code",
   "execution_count": 4,
   "metadata": {},
   "outputs": [],
   "source": [
    "TeamL=list(set(subMatches['home']))\n",
    "#TeamL"
   ]
  },
  {
   "cell_type": "code",
   "execution_count": 5,
   "metadata": {},
   "outputs": [],
   "source": [
    "TeamL=list(set(subMatches['home']))\n",
    "\n",
    "def TeamFrame(codeTeam):\n",
    "    homeM = subMatches[(subMatches['home']==codeTeam)]\n",
    "    awayM = subMatches[(subMatches['home']==codeTeam)]\n",
    "    homeM_list=[]\n",
    "\n",
    "    for i in range(len(homeM)):\n",
    "        if(homeM.iloc[i]['winner']==int(homeM.iloc[i]['home'])):\n",
    "            homeM_list.append('home_win')\n",
    "        elif(homeM.iloc[i]['winner']==0):\n",
    "            homeM_list.append('home_draw')\n",
    "        else:\n",
    "            homeM_list.append('home_lost')\n",
    "    for i in range(len(awayM)):\n",
    "        if(awayM.iloc[i]['winner']==int(awayM.iloc[i]['away'])):\n",
    "            homeM_list.append('away_win')\n",
    "        elif(awayM.iloc[i]['winner']==0):\n",
    "            homeM_list.append('away_draw')\n",
    "        else:\n",
    "            homeM_list.append('away_lost')\n",
    "    name = [codeTeam for i in range(38)]\n",
    "    TeamFrame = pd.DataFrame(zip(name,homeM_list), columns = ['Team', 'Info'])\n",
    "    \n",
    "    return TeamFrame\n",
    "\n",
    "Final = pd.concat([TeamFrame(codeTeam) for codeTeam in TeamL[-5:]])"
   ]
  },
  {
   "cell_type": "code",
   "execution_count": 6,
   "metadata": {},
   "outputs": [],
   "source": [
    "P = pd.DataFrame(data=Teams['officialName'], index= Teams['wyId'])"
   ]
  },
  {
   "cell_type": "code",
   "execution_count": 7,
   "metadata": {},
   "outputs": [],
   "source": [
    "Final['Team'] = pd.to_numeric(Final['Team'])"
   ]
  },
  {
   "cell_type": "code",
   "execution_count": 8,
   "metadata": {},
   "outputs": [],
   "source": [
    "Final = pd.merge(Final,Teams[['wyId','officialName']], left_on='Team', right_on='wyId')"
   ]
  },
  {
   "cell_type": "code",
   "execution_count": 9,
   "metadata": {},
   "outputs": [],
   "source": [
    "Final = pd.crosstab(Final.officialName,Final.Info)"
   ]
  },
  {
   "cell_type": "code",
   "execution_count": 10,
   "metadata": {},
   "outputs": [
    {
     "data": {
      "text/html": [
       "<div>\n",
       "<style scoped>\n",
       "    .dataframe tbody tr th:only-of-type {\n",
       "        vertical-align: middle;\n",
       "    }\n",
       "\n",
       "    .dataframe tbody tr th {\n",
       "        vertical-align: top;\n",
       "    }\n",
       "\n",
       "    .dataframe thead th {\n",
       "        text-align: right;\n",
       "    }\n",
       "</style>\n",
       "<table border=\"1\" class=\"dataframe\">\n",
       "  <thead>\n",
       "    <tr style=\"text-align: right;\">\n",
       "      <th>Info</th>\n",
       "      <th>away_draw</th>\n",
       "      <th>away_lost</th>\n",
       "      <th>away_win</th>\n",
       "      <th>home_draw</th>\n",
       "      <th>home_lost</th>\n",
       "      <th>home_win</th>\n",
       "    </tr>\n",
       "    <tr>\n",
       "      <th>officialName</th>\n",
       "      <th></th>\n",
       "      <th></th>\n",
       "      <th></th>\n",
       "      <th></th>\n",
       "      <th></th>\n",
       "      <th></th>\n",
       "    </tr>\n",
       "  </thead>\n",
       "  <tbody>\n",
       "    <tr>\n",
       "      <td>Arsenal FC</td>\n",
       "      <td>2</td>\n",
       "      <td>15</td>\n",
       "      <td>2</td>\n",
       "      <td>2</td>\n",
       "      <td>2</td>\n",
       "      <td>15</td>\n",
       "    </tr>\n",
       "    <tr>\n",
       "      <td>Manchester United FC</td>\n",
       "      <td>2</td>\n",
       "      <td>15</td>\n",
       "      <td>2</td>\n",
       "      <td>2</td>\n",
       "      <td>2</td>\n",
       "      <td>15</td>\n",
       "    </tr>\n",
       "    <tr>\n",
       "      <td>Newcastle United FC</td>\n",
       "      <td>4</td>\n",
       "      <td>8</td>\n",
       "      <td>7</td>\n",
       "      <td>4</td>\n",
       "      <td>7</td>\n",
       "      <td>8</td>\n",
       "    </tr>\n",
       "    <tr>\n",
       "      <td>Stoke City FC</td>\n",
       "      <td>5</td>\n",
       "      <td>5</td>\n",
       "      <td>9</td>\n",
       "      <td>5</td>\n",
       "      <td>9</td>\n",
       "      <td>5</td>\n",
       "    </tr>\n",
       "    <tr>\n",
       "      <td>West Ham United FC</td>\n",
       "      <td>6</td>\n",
       "      <td>7</td>\n",
       "      <td>6</td>\n",
       "      <td>6</td>\n",
       "      <td>6</td>\n",
       "      <td>7</td>\n",
       "    </tr>\n",
       "  </tbody>\n",
       "</table>\n",
       "</div>"
      ],
      "text/plain": [
       "Info                  away_draw  away_lost  away_win  home_draw  home_lost  \\\n",
       "officialName                                                                 \n",
       "Arsenal FC                    2         15         2          2          2   \n",
       "Manchester United FC          2         15         2          2          2   \n",
       "Newcastle United FC           4          8         7          4          7   \n",
       "Stoke City FC                 5          5         9          5          9   \n",
       "West Ham United FC            6          7         6          6          6   \n",
       "\n",
       "Info                  home_win  \n",
       "officialName                    \n",
       "Arsenal FC                  15  \n",
       "Manchester United FC        15  \n",
       "Newcastle United FC          8  \n",
       "Stoke City FC                5  \n",
       "West Ham United FC           7  "
      ]
     },
     "execution_count": 10,
     "metadata": {},
     "output_type": "execute_result"
    }
   ],
   "source": [
    "Final"
   ]
  },
  {
   "cell_type": "code",
   "execution_count": 11,
   "metadata": {},
   "outputs": [],
   "source": [
    "from scipy.stats import chi2_contingency"
   ]
  },
  {
   "cell_type": "code",
   "execution_count": 12,
   "metadata": {},
   "outputs": [
    {
     "data": {
      "text/plain": [
       "(39.259919028340086,\n",
       " 0.006188228508621631,\n",
       " 20,\n",
       " array([[ 3.8, 10. ,  5.2,  3.8,  5.2, 10. ],\n",
       "        [ 3.8, 10. ,  5.2,  3.8,  5.2, 10. ],\n",
       "        [ 3.8, 10. ,  5.2,  3.8,  5.2, 10. ],\n",
       "        [ 3.8, 10. ,  5.2,  3.8,  5.2, 10. ],\n",
       "        [ 3.8, 10. ,  5.2,  3.8,  5.2, 10. ]]))"
      ]
     },
     "execution_count": 12,
     "metadata": {},
     "output_type": "execute_result"
    }
   ],
   "source": [
    "chi2_contingency(Final)"
   ]
  },
  {
   "cell_type": "code",
   "execution_count": null,
   "metadata": {},
   "outputs": [],
   "source": []
  }
 ],
 "metadata": {
  "kernelspec": {
   "display_name": "Python 3",
   "language": "python",
   "name": "python3"
  },
  "language_info": {
   "codemirror_mode": {
    "name": "ipython",
    "version": 3
   },
   "file_extension": ".py",
   "mimetype": "text/x-python",
   "name": "python",
   "nbconvert_exporter": "python",
   "pygments_lexer": "ipython3",
   "version": "3.7.4"
  }
 },
 "nbformat": 4,
 "nbformat_minor": 4
}
