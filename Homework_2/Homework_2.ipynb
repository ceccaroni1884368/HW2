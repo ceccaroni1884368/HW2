{
 "cells": [
  {
   "cell_type": "markdown",
   "metadata": {},
   "source": [
    "# Homework 2"
   ]
  },
  {
   "cell_type": "markdown",
   "metadata": {},
   "source": [
    "## #Group16 :\n",
    "+ **Dilara Isikli**\n",
    "+ **Luca Avitabile**\n",
    "+ **Riccardo Ceccaroni**"
   ]
  },
  {
   "cell_type": "markdown",
   "metadata": {},
   "source": [
    "----"
   ]
  },
  {
   "cell_type": "markdown",
   "metadata": {},
   "source": [
    "**Import Library:**"
   ]
  },
  {
   "cell_type": "code",
   "execution_count": 1,
   "metadata": {},
   "outputs": [],
   "source": [
    "import json\n",
    "import pandas as pd\n",
    "from matplotlib.font_manager import FontProperties \n",
    "import numpy as np\n",
    "import matplotlib.pyplot as plt\n",
    "from datetime import datetime, date\n",
    "from scipy.stats import chi2_contingency\n",
    "import matplotlib.cm as cm\n",
    "import matplotlib as mpl\n",
    "import statsmodels.api as sm\n",
    "import matplotlib.pyplot as plt; plt.rcdefaults()\n",
    "import matplotlib.pyplot as plt\n",
    "import operator\n",
    "from matplotlib.patches import Rectangle, ConnectionPatch, Arc\n",
    "import seaborn"
   ]
  },
  {
   "cell_type": "markdown",
   "metadata": {},
   "source": [
    "**Import Dataset:**"
   ]
  },
  {
   "cell_type": "code",
   "execution_count": 2,
   "metadata": {},
   "outputs": [],
   "source": [
    "players = pd.read_json(r\"players.json\", orient = 'record')\n",
    "teams = pd.read_json(r\"teams.json\", orient = 'record')\n",
    "coaches = pd.read_json(r\"coaches.json\", orient = 'record')\n",
    "premier_league_events = pd.read_json(r\"events_England.json\", orient = 'record')\n",
    "premier_league_matches = pd.read_json(r\"matches_England.json\", orient = 'record')\n",
    "\n",
    "laliga_events = pd.read_json(r'events_Spain.json', orient = 'record')\n",
    "laliga_matches = pd.read_json(r'matches_Spain.json', orient = 'record')\n",
    "\n",
    "serie_a_events = pd.read_json(r'events_Italy.json', orient = 'record')\n",
    "serie_a_matches = pd.read_json(r'matches_Italy.json', orient = 'record')"
   ]
  },
  {
   "cell_type": "markdown",
   "metadata": {},
   "source": [
    "----"
   ]
  },
  {
   "cell_type": "markdown",
   "metadata": {},
   "source": [
    "## RQ1"
   ]
  },
  {
   "cell_type": "code",
   "execution_count": null,
   "metadata": {},
   "outputs": [],
   "source": [
    "premier_league_matches_sorted_by_week = premier_league_matches.sort_values(by=['gameweek'], ascending=True) #sort matches by number of week \n",
    "#it is a pandas dataFrame\n",
    "premier_league_by_week1 = {}\n",
    "premier_league_by_week = {}\n",
    "\n",
    "teams_list = []\n",
    "\n",
    "gameweek_list = []\n",
    "for index, match in premier_league_matches_sorted_by_week.iterrows():# premier_league_matches has two main row --> index and match\n",
    "    \n",
    "    gameweek = match['gameweek'] #create gameweek (int) from match\n",
    "    teamsData = match['teamsData'] #create teamsData dic from match\n",
    "    \n",
    "    \n",
    "    home_id, away_id, home_score, away_score, home_points, away_points = '', '', 0,0,0,0\n",
    "   \n",
    "    previous_points_home, previous_points_away = 0,0\n",
    "    \n",
    "    for key in teamsData: #iterate key in teamsdata\n",
    "        \n",
    "        if teamsData[key]['side'] == 'home': #if side of the key is home, home_id is equal to key\n",
    "            home_id = int(key)\n",
    "            home_score = teamsData[key]['score'] #home_score(number of goal) is equal to score of key\n",
    "        else: #if side of the key is away, home_id is equal to key\n",
    "            away_id = int(key)\n",
    "            away_score = teamsData[key]['score'] #home_score(number of goal) is equal to score of key\n",
    "  \n",
    "\n",
    "    #calculate previous points for teams of home and away\n",
    "    if gameweek > 1: \n",
    "        previous_points_home = premier_league_by_week[gameweek-1][home_id]['points']\n",
    "        previous_points_away = premier_league_by_week[gameweek-1][away_id]['points']\n",
    "   \n",
    "    #compare score to decide gaing points for teams of home and away\n",
    "    if home_score > away_score: \n",
    "        home_points = 3\n",
    "        away_points = 0\n",
    "    elif away_score > home_score:\n",
    "        home_points = 0\n",
    "        away_points = 3\n",
    "    else:\n",
    "        home_points = 1\n",
    "        away_points = 1\n",
    "        \n",
    "    home_name = teams[teams[\"wyId\"] == home_id].name.values[0]  #make equale wyId to home_id and take home name\n",
    "    away_name = teams[teams[\"wyId\"] == away_id].name.values[0]  #make equale wyId to home_id and take away name\n",
    "    \n",
    "    if home_name not in teams_list:\n",
    "        teams_list.append(home_name)\n",
    "    if gameweek not in gameweek_list:\n",
    "        gameweek_list.append(gameweek)\n",
    "    if gameweek in premier_league_by_week:\n",
    "        premier_league_by_week[gameweek][home_id] = {'team_name' : home_name, 'points' : home_points + previous_points_home }\n",
    "        premier_league_by_week1[gameweek][home_name] = {'points' : home_points  }\n",
    "    else:\n",
    "        premier_league_by_week[gameweek] = {home_id: {'team_name' : home_name, 'points' : home_points + previous_points_home}}\n",
    "        premier_league_by_week1[gameweek] = {home_name: {'points' : home_points}}\n",
    "    premier_league_by_week[gameweek][away_id] = {'team_name' : away_name, 'points' : away_points + previous_points_away }\n",
    "    premier_league_by_week1[gameweek][away_name] = {'points' : away_points  }\n",
    "    "
   ]
  },
  {
   "cell_type": "markdown",
   "metadata": {},
   "source": [
    "+ **Find first two longest winning streaks:**"
   ]
  },
  {
   "cell_type": "code",
   "execution_count": null,
   "metadata": {},
   "outputs": [],
   "source": [
    "def longestWinningStreak(teamname):\n",
    "    points_list= []\n",
    "    localmax =2\n",
    "    totalmax= 1\n",
    "    dic_name_points = {}\n",
    "\n",
    "    for key in premier_league_by_week1:\n",
    "        \n",
    "        points_list.append(premier_league_by_week1[key][teamname]['points'] )\n",
    "\n",
    "    for z in range(1,39):\n",
    "\n",
    "\n",
    "        if (z<=36) and (points_list[z-1] == points_list[z] == points_list[z+1]==3):\n",
    "            localmax = localmax +1\n",
    "        else:\n",
    "            localmax = 2\n",
    "        #print('local ' , localmax)\n",
    "\n",
    "        if localmax > totalmax:\n",
    "            totalmax = localmax\n",
    "\n",
    "        \n",
    "        dic_name_points[teamname] = totalmax\n",
    "    return(dic_name_points)\n",
    "\n",
    "WinningStreakAllTeam = {}\n",
    "var1 = ''\n",
    "List_WinningStreakAllTeam = []\n",
    "for j in range(len(teams_list)):\n",
    "    WinningStreakAllTeam =longestWinningStreak(teams_list[j])\n",
    "    var1 = WinningStreakAllTeam[teams_list[j]]\n",
    "    #print(var1)\n",
    "    List_WinningStreakAllTeam.append(str(var1))\n",
    "\n",
    "firstMax = 0\n",
    "secondMax = 0\n",
    "for i in range(20):\n",
    "    if (    int(List_WinningStreakAllTeam[i]) > int(firstMax) ):\n",
    "        firstMax = int(List_WinningStreakAllTeam[i])\n",
    "        #print(firstMax)\n",
    "    elif (int(List_WinningStreakAllTeam[i]) > secondMax and int(List_WinningStreakAllTeam[i]) != firstMax ):\n",
    "        secondMax = int(List_WinningStreakAllTeam[i])\n",
    "        #print(secondMax)\n",
    "        \n",
    "#print(secondMax)\n",
    "#print(firstMax)\n",
    "print('First Team/Teams Of Longest Winning Streak')\n",
    "for m in range(len(teams_list)):\n",
    "    if(int(List_WinningStreakAllTeam[m]) == int(firstMax)):\n",
    "        print(teams_list[m], firstMax)\n",
    "\n",
    "print('Second Team/Teams Of Longest Winning Streak')\n",
    "for m in range(len(teams_list)):\n",
    "    if(int(List_WinningStreakAllTeam[m]) == int(secondMax)):\n",
    "        print(teams_list[m], secondMax)\n",
    "   "
   ]
  },
  {
   "cell_type": "markdown",
   "metadata": {},
   "source": [
    "+ **Find first two longest losing streaks:**"
   ]
  },
  {
   "cell_type": "code",
   "execution_count": null,
   "metadata": {},
   "outputs": [],
   "source": [
    "def longestLosingStreak(teamname):\n",
    "    points_list= []\n",
    "    localmax =2\n",
    "    totalmax= 1\n",
    "    dic_name_points = {}\n",
    "\n",
    "    for key in premier_league_by_week1:\n",
    "        \n",
    "        points_list.append(premier_league_by_week1[key][teamname]['points'] )\n",
    "\n",
    "    for z in range(1,39):\n",
    "\n",
    "\n",
    "        if (z<=36) and (points_list[z-1] == points_list[z] == points_list[z+1]==0):\n",
    "            localmax = localmax +1\n",
    "        else:\n",
    "            localmax = 2\n",
    "        #print('local ' , localmax)\n",
    "\n",
    "        if localmax > totalmax:\n",
    "            totalmax = localmax\n",
    "\n",
    "        \n",
    "        dic_name_points[teamname] = totalmax\n",
    "    return(dic_name_points)\n",
    "\n",
    "\n",
    "LosingStreakAllTeam = {}\n",
    "var2 = ''\n",
    "List_LosingStreakAllTeam = []\n",
    "for k in range(len(teams_list)):\n",
    "    LosingStreakAllTeam =longestLosingStreak(teams_list[k])\n",
    "    var2 = LosingStreakAllTeam[teams_list[k]]\n",
    "    List_LosingStreakAllTeam.append(str(var2))\n",
    "    \n",
    "firstMin = 0\n",
    "secondMin = 0\n",
    "for i in range(20):\n",
    "    if (    int(List_LosingStreakAllTeam[i]) > int(firstMin) ):\n",
    "        firstMin = int(List_LosingStreakAllTeam[i])\n",
    "        #print(firstMax)\n",
    "    elif (int(List_LosingStreakAllTeam[i]) > secondMin and int(List_LosingStreakAllTeam[i]) != firstMin ):\n",
    "        secondMin = int(List_LosingStreakAllTeam[i])\n",
    "\n",
    "print('First Team/Teams Of Longest Losing Streak')\n",
    "for m in range(len(teams_list)):\n",
    "    if(int(List_LosingStreakAllTeam[m]) == int(firstMin)):\n",
    "        print(teams_list[m], firstMin)\n",
    "\n",
    "print('Second Team/Teams Of Longest Losing Streak')\n",
    "for m in range(len(teams_list)):\n",
    "    if(int(List_LosingStreakAllTeam[m]) == int(secondMin)):\n",
    "        print(teams_list[m], secondMin)"
   ]
  },
  {
   "cell_type": "markdown",
   "metadata": {},
   "source": [
    "+ **Create A Dictionary With All Teams And Points For All Gameweeks And Create Plot:**"
   ]
  },
  {
   "cell_type": "code",
   "execution_count": null,
   "metadata": {},
   "outputs": [],
   "source": [
    "#create a dictionary with all teams and points for all gameweeks (we need these because of show values on plot)\n",
    "dict_points = {}\n",
    "for index,week in premier_league_by_week.items(): #premier_league_by_week is a dic \n",
    "    for key, team in week.items():\n",
    "        if index == 1:\n",
    "            dict_points[team['team_name']] = [] #define key for points dic\n",
    "            dict_points[team['team_name']].append(team['points']) #append points for the team\n",
    "        else:\n",
    "            dict_points[team['team_name']].append(team['points']) #append points for the team"
   ]
  },
  {
   "cell_type": "code",
   "execution_count": null,
   "metadata": {},
   "outputs": [],
   "source": [
    "color_names = ['blue', 'darkblue','gold', 'orange','red','rosybrown','royalblue','saddlebrown','salmon','sandybrown',\n",
    "               'seagreen','sienna','silver','skyblue','slateblue','slategray','steelblue','tan','teal','thistle',\n",
    "               'tomato','turquoise','violet','wheat','white','whitesmoke','yellow','yellowgreen']\n",
    "\n",
    "\n",
    "fontP = FontProperties()\n",
    "fontP.set_size('medium')\n",
    "fig=plt.figure(figsize=(12,12))\n",
    "ax=fig.add_subplot(111)\n",
    "i = 0\n",
    "for key,element in dict_points.items():\n",
    "    ax.plot(gameweek_list,list(element) ,c= color_names[i],ls='-',label=key, linewidth=2)\n",
    "    i +=1\n",
    "plt.title('Premier League')\n",
    "plt.legend(prop=fontP)\n",
    "plt.show()"
   ]
  },
  {
   "cell_type": "markdown",
   "metadata": {},
   "source": [
    "---"
   ]
  },
  {
   "cell_type": "markdown",
   "metadata": {},
   "source": [
    "## RQ2"
   ]
  },
  {
   "cell_type": "code",
   "execution_count": 13,
   "metadata": {},
   "outputs": [],
   "source": [
    "# create a pandas dataframe with the teams playing at home/away\n",
    "home_away = {}\n",
    "for i in range(len(premier_league_matches['teamsData'])):\n",
    "    home_away[i] = {}\n",
    "    for x in premier_league_matches['teamsData'][i]:\n",
    "        if premier_league_matches['teamsData'][i][x]['side'] == 'home':\n",
    "            home_away[i].update({'home': x})\n",
    "        else:\n",
    "            home_away[i].update({'away': x})\n",
    "home_away = pd.DataFrame(home_away).transpose()"
   ]
  },
  {
   "cell_type": "code",
   "execution_count": 14,
   "metadata": {},
   "outputs": [],
   "source": [
    "# add home_away dataframe to Matches and select the columns for problem 1:\n",
    "premier_league_matches_home_away = premier_league_matches.join(home_away)\n",
    "subMatches = premier_league_matches_home_away[[ 'winner', 'home', 'away']]"
   ]
  },
  {
   "cell_type": "code",
   "execution_count": 15,
   "metadata": {},
   "outputs": [],
   "source": [
    "#TeamL=list(set(subMatches['home']))"
   ]
  },
  {
   "cell_type": "code",
   "execution_count": 16,
   "metadata": {},
   "outputs": [],
   "source": [
    "TeamL=list(set(subMatches['home']))\n",
    "\n",
    "def TeamFrame(codeTeam):\n",
    "    homeM = subMatches[(subMatches['home']==codeTeam)]\n",
    "    awayM = subMatches[(subMatches['away']==codeTeam)]\n",
    "    homeM_list=[]\n",
    "\n",
    "    for i in range(len(homeM)):\n",
    "        if(homeM.iloc[i]['winner']==int(homeM.iloc[i]['home'])):\n",
    "            homeM_list.append('home_win')\n",
    "        elif(homeM.iloc[i]['winner']==0):\n",
    "            homeM_list.append('home_draw')\n",
    "        else:\n",
    "            homeM_list.append('home_lost')\n",
    "    for i in range(len(awayM)):\n",
    "        if(awayM.iloc[i]['winner']==int(awayM.iloc[i]['away'])):\n",
    "            homeM_list.append('away_win')\n",
    "        elif(awayM.iloc[i]['winner']==0):\n",
    "            homeM_list.append('away_draw')\n",
    "        else:\n",
    "            homeM_list.append('away_lost')\n",
    "    name = [codeTeam for i in range(38)]\n",
    "    TeamFrame = pd.DataFrame(zip(name,homeM_list), columns = ['Team', 'Info'])\n",
    "    \n",
    "    return TeamFrame\n",
    "\n",
    "Final = pd.concat([TeamFrame(codeTeam) for codeTeam in TeamL[-5:]])"
   ]
  },
  {
   "cell_type": "code",
   "execution_count": 17,
   "metadata": {},
   "outputs": [],
   "source": [
    "Final['Team'] = pd.to_numeric(Final['Team'])"
   ]
  },
  {
   "cell_type": "code",
   "execution_count": 18,
   "metadata": {},
   "outputs": [],
   "source": [
    "Final = pd.merge(Final,teams[['wyId','officialName']], left_on='Team', right_on='wyId')"
   ]
  },
  {
   "cell_type": "code",
   "execution_count": 19,
   "metadata": {},
   "outputs": [
    {
     "data": {
      "text/html": [
       "<div>\n",
       "<style scoped>\n",
       "    .dataframe tbody tr th:only-of-type {\n",
       "        vertical-align: middle;\n",
       "    }\n",
       "\n",
       "    .dataframe tbody tr th {\n",
       "        vertical-align: top;\n",
       "    }\n",
       "\n",
       "    .dataframe thead th {\n",
       "        text-align: right;\n",
       "    }\n",
       "</style>\n",
       "<table border=\"1\" class=\"dataframe\">\n",
       "  <thead>\n",
       "    <tr style=\"text-align: right;\">\n",
       "      <th>officialName</th>\n",
       "      <th>AFC Bournemouth</th>\n",
       "      <th>Arsenal FC</th>\n",
       "      <th>Everton FC</th>\n",
       "      <th>Liverpool FC</th>\n",
       "      <th>Southampton FC</th>\n",
       "    </tr>\n",
       "    <tr>\n",
       "      <th>Info</th>\n",
       "      <th></th>\n",
       "      <th></th>\n",
       "      <th></th>\n",
       "      <th></th>\n",
       "      <th></th>\n",
       "    </tr>\n",
       "  </thead>\n",
       "  <tbody>\n",
       "    <tr>\n",
       "      <td>away_draw</td>\n",
       "      <td>6</td>\n",
       "      <td>4</td>\n",
       "      <td>7</td>\n",
       "      <td>5</td>\n",
       "      <td>8</td>\n",
       "    </tr>\n",
       "    <tr>\n",
       "      <td>away_lost</td>\n",
       "      <td>9</td>\n",
       "      <td>11</td>\n",
       "      <td>9</td>\n",
       "      <td>5</td>\n",
       "      <td>8</td>\n",
       "    </tr>\n",
       "    <tr>\n",
       "      <td>away_win</td>\n",
       "      <td>4</td>\n",
       "      <td>4</td>\n",
       "      <td>3</td>\n",
       "      <td>9</td>\n",
       "      <td>3</td>\n",
       "    </tr>\n",
       "    <tr>\n",
       "      <td>home_draw</td>\n",
       "      <td>5</td>\n",
       "      <td>2</td>\n",
       "      <td>5</td>\n",
       "      <td>7</td>\n",
       "      <td>7</td>\n",
       "    </tr>\n",
       "    <tr>\n",
       "      <td>home_lost</td>\n",
       "      <td>7</td>\n",
       "      <td>2</td>\n",
       "      <td>5</td>\n",
       "      <td>0</td>\n",
       "      <td>8</td>\n",
       "    </tr>\n",
       "    <tr>\n",
       "      <td>home_win</td>\n",
       "      <td>7</td>\n",
       "      <td>15</td>\n",
       "      <td>9</td>\n",
       "      <td>12</td>\n",
       "      <td>4</td>\n",
       "    </tr>\n",
       "  </tbody>\n",
       "</table>\n",
       "</div>"
      ],
      "text/plain": [
       "officialName  AFC Bournemouth  Arsenal FC  Everton FC  Liverpool FC  \\\n",
       "Info                                                                  \n",
       "away_draw                   6           4           7             5   \n",
       "away_lost                   9          11           9             5   \n",
       "away_win                    4           4           3             9   \n",
       "home_draw                   5           2           5             7   \n",
       "home_lost                   7           2           5             0   \n",
       "home_win                    7          15           9            12   \n",
       "\n",
       "officialName  Southampton FC  \n",
       "Info                          \n",
       "away_draw                  8  \n",
       "away_lost                  8  \n",
       "away_win                   3  \n",
       "home_draw                  7  \n",
       "home_lost                  8  \n",
       "home_win                   4  "
      ]
     },
     "execution_count": 19,
     "metadata": {},
     "output_type": "execute_result"
    }
   ],
   "source": [
    "Final = pd.crosstab(Final.officialName,Final.Info)\n",
    "Final.transpose()"
   ]
  },
  {
   "cell_type": "code",
   "execution_count": 11,
   "metadata": {},
   "outputs": [
    {
     "data": {
      "text/plain": [
       "(30.721372367995862,\n",
       " 0.058977900555461836,\n",
       " 20,\n",
       " array([[6. , 8.4, 4.6, 5.2, 4.4, 9.4],\n",
       "        [6. , 8.4, 4.6, 5.2, 4.4, 9.4],\n",
       "        [6. , 8.4, 4.6, 5.2, 4.4, 9.4],\n",
       "        [6. , 8.4, 4.6, 5.2, 4.4, 9.4],\n",
       "        [6. , 8.4, 4.6, 5.2, 4.4, 9.4]]))"
      ]
     },
     "execution_count": 11,
     "metadata": {},
     "output_type": "execute_result"
    }
   ],
   "source": [
    "chi2_contingency(Final)"
   ]
  },
  {
   "cell_type": "markdown",
   "metadata": {},
   "source": [
    "----"
   ]
  },
  {
   "cell_type": "markdown",
   "metadata": {},
   "source": [
    "## RQ3"
   ]
  },
  {
   "cell_type": "code",
   "execution_count": null,
   "metadata": {},
   "outputs": [],
   "source": [
    "# Add column 'Country' on Teams\n",
    "country = pd.DataFrame([x['name'] for x in teams['area']],columns=['Country'])\n",
    "teams_country = pd.merge(teams, country, left_index=True, right_index=True)\n",
    "teams_england = teams_country[((teams_country['Country'] == 'England') | \n",
    "                               (teams_country['Country'] == 'Wales')) & (teams_country['type'] == 'club')]"
   ]
  },
  {
   "cell_type": "code",
   "execution_count": null,
   "metadata": {},
   "outputs": [],
   "source": [
    "# Add column 'Age' on Coaches\n",
    "current_date = datetime.now().date()\n",
    "age = []\n",
    "for x in coaches['birthDate']:\n",
    "    # because some coach doesn't have the birthDate\n",
    "    try:\n",
    "        age.append(int((current_date - date.fromisoformat(x)).days // 365))\n",
    "    except:\n",
    "        age.append(0)\n",
    "age = pd.DataFrame(age, columns=['Age'], dtype=int)\n",
    "coaches_age = pd.merge(coaches, age, left_index=True, right_index=True)"
   ]
  },
  {
   "cell_type": "code",
   "execution_count": null,
   "metadata": {},
   "outputs": [],
   "source": [
    "# check teams coaches in Matches and create pandas dataframe Coaches_Teams_England\n",
    "teams_coaches = []\n",
    "# for every matches we take the coach and put it in teams_coaches\n",
    "for x in (premier_league_matches['teamsData']):\n",
    "    for y in x:\n",
    "        teams_coaches.append({'Team':x[y]['teamId'], 'Coach':x[y]['coachId']})\n",
    "teams_coaches = pd.DataFrame(teams_coaches)\n",
    "\n",
    "# merge coaches with teams_coaches\n",
    "coaches_teams_england = pd.merge(teams_coaches, coaches_age[['currentTeamId', 'birthDate','Age','wyId']], left_on='Coach', right_on='wyId')\n",
    "#merge Teams with Coaches_teams_England\n",
    "coaches_teams_england = pd.merge(coaches_teams_england, teams_england[['wyId', 'officialName']], left_on='Team', right_on='wyId' )\n",
    "\n",
    "'''\n",
    "Clean DataFrame:\n",
    "1) remove duplicate row\n",
    "2) sort by birthDate\n",
    "3) remove duplicate row with the same officialName and keep last == the youngest coach\n",
    "''' \n",
    "coaches_teams_england = coaches_teams_england.drop_duplicates()\n",
    "coaches_teams_england = coaches_teams_england.sort_values(by=['birthDate'])\n",
    "all_coaches_teams_england = coaches_teams_england\n",
    "coaches_teams_england = coaches_teams_england.drop_duplicates(subset='officialName', keep=\"last\")"
   ]
  },
  {
   "cell_type": "code",
   "execution_count": null,
   "metadata": {},
   "outputs": [],
   "source": [
    "# Print the 10 teams with the youngest coaches\n",
    "teams_young_coaches = coaches_teams_england.sort_values(by=['birthDate']).iloc[-10:]\n",
    "print('\\n'.join(list(teams_young_coaches['officialName'])))"
   ]
  },
  {
   "cell_type": "code",
   "execution_count": null,
   "metadata": {},
   "outputs": [],
   "source": [
    "#Print Age boxplot\n",
    "all_coaches_teams_england.boxplot(column=\"Age\")\n",
    "plt.show()"
   ]
  },
  {
   "cell_type": "markdown",
   "metadata": {},
   "source": [
    "---"
   ]
  },
  {
   "cell_type": "markdown",
   "metadata": {},
   "source": [
    "## RQ4"
   ]
  },
  {
   "cell_type": "code",
   "execution_count": null,
   "metadata": {},
   "outputs": [],
   "source": [
    "# Generate England_Players DataFrame\n",
    "england_teams_ID_list = list(teams_england['wyId']) # list teams Id\n",
    "player_list =[]\n",
    "for x in england_teams_ID_list:\n",
    "    player_list.append(players[players['currentTeamId'] ==x ])\n",
    "\n",
    "england_players = pd.concat(player_list) #DF with England Players info"
   ]
  },
  {
   "cell_type": "code",
   "execution_count": null,
   "metadata": {},
   "outputs": [],
   "source": [
    "# Generate England_Events DataFrame\n",
    "england_players_ID_list = list(england_players['wyId'])\n",
    "event_list =[]\n",
    "for x in england_players_ID_list:\n",
    "    event_list.append(premier_league_events[premier_league_events['playerId'] == x ])\n",
    "\n",
    "england_events = pd.concat(event_list) #DF with England Events info"
   ]
  },
  {
   "cell_type": "code",
   "execution_count": null,
   "metadata": {},
   "outputs": [],
   "source": [
    "england_events_pass = england_events[england_events['eventName']=='Pass'] # sub-DataFrame with player 'passes'"
   ]
  },
  {
   "cell_type": "code",
   "execution_count": null,
   "metadata": {},
   "outputs": [],
   "source": [
    "count_total_pass = {} # dict containing the sums of pass for each player initialized to 0\n",
    "count_accurate_pass = {} # dict containing the sums of accurate pass for each player initialized to 0\n",
    "count_ratio_pass = {} # dict containing the ratio = count_accurate_pass/count_total_pass\n",
    "\n",
    "# initialize\n",
    "for x in england_players_ID_list:\n",
    "    \n",
    "    count_total_pass.update({x:0})\n",
    "    count_accurate_pass.update({x:0})\n",
    "    count_ratio_pass.update({x:0})\n",
    "\n",
    "# count\n",
    "i = 0\n",
    "for x in england_events_pass['playerId']:\n",
    "\n",
    "    count_total_pass[x] += 1\n",
    "    if str(england_events_pass['tags'].iloc[i]).find('1801') > 0:\n",
    "        count_accurate_pass[x] += 1\n",
    "    i +=1    "
   ]
  },
  {
   "cell_type": "code",
   "execution_count": null,
   "metadata": {},
   "outputs": [],
   "source": [
    "n = 1000 # minimum threshold\n",
    "\n",
    "for x in england_players_ID_list: \n",
    "    if count_total_pass[x] < n:\n",
    "        del count_ratio_pass[x]\n",
    "    else:\n",
    "        count_ratio_pass[x] = count_accurate_pass[x] / count_total_pass[x]"
   ]
  },
  {
   "cell_type": "code",
   "execution_count": null,
   "metadata": {},
   "outputs": [],
   "source": [
    "player_pass =[x[1] for x in sorted((value,key) for (key,value) in count_ratio_pass.items())]"
   ]
  },
  {
   "cell_type": "code",
   "execution_count": null,
   "metadata": {},
   "outputs": [],
   "source": [
    "# PRINT\n",
    "player_pass =[x[1] for x in sorted((value,key) for (key,value) in count_ratio_pass.items())[-10:]] # list of id players to print\n",
    "for i in player_pass:\n",
    "    print(players[players['wyId']==i]['shortName'].iloc[0])"
   ]
  },
  {
   "cell_type": "markdown",
   "metadata": {},
   "source": [
    "---"
   ]
  },
  {
   "cell_type": "markdown",
   "metadata": {},
   "source": [
    "## RQ5"
   ]
  },
  {
   "cell_type": "code",
   "execution_count": null,
   "metadata": {},
   "outputs": [],
   "source": [
    "england_events_air_duel = england_events[england_events['subEventName']=='Air duel'] # sub-DataFrame with player 'passes'"
   ]
  },
  {
   "cell_type": "code",
   "execution_count": null,
   "metadata": {},
   "outputs": [],
   "source": [
    "count_total_air_duel = {} # dict containing the sums of air_duel for each player initialized to 0\n",
    "count_accurate_air_duel = {} # dict containing the sums of accurate air_duel for each player initialized to 0\n",
    "count_ratio_air_duel = {} # dict containing the ratio = count_accurate_air_duel/count_total_air_duel\n",
    "\n",
    "# initialize\n",
    "for x in england_players_ID_list:\n",
    "    count_total_air_duel.update({x:0})\n",
    "    count_accurate_air_duel.update({x:0})\n",
    "    count_ratio_air_duel.update({x:0})\n",
    "\n",
    "# count\n",
    "i = 0\n",
    "for x in england_events_air_duel['playerId']:\n",
    "    count_total_air_duel[x] += 1\n",
    "    if str(england_events_air_duel['tags'].iloc[i]).find('1801') > 0:\n",
    "        count_accurate_air_duel[x] += 1\n",
    "    i +=1    "
   ]
  },
  {
   "cell_type": "code",
   "execution_count": null,
   "metadata": {},
   "outputs": [],
   "source": [
    "n = 10 # minimum threshold\n",
    "\n",
    "for x in england_players_ID_list: \n",
    "    if count_total_air_duel[x] < n:\n",
    "        del count_ratio_air_duel[x]\n",
    "    else:\n",
    "        count_ratio_air_duel[x] = count_accurate_air_duel[x] / count_total_air_duel[x]"
   ]
  },
  {
   "cell_type": "code",
   "execution_count": null,
   "metadata": {},
   "outputs": [],
   "source": [
    "# Create player_ratio_air_duel DataFrame\n",
    "lst_player = []\n",
    "lst_ratio_air_duel = []\n",
    "for x in count_ratio_air_duel:\n",
    "    lst_player.append(x)\n",
    "    lst_ratio_air_duel.append(count_ratio_air_duel[x])\n",
    "player_ratio_air_duel = pd.DataFrame({'PlayersId':lst_player, 'Ratio air duel': lst_ratio_air_duel})"
   ]
  },
  {
   "cell_type": "code",
   "execution_count": null,
   "metadata": {},
   "outputs": [],
   "source": [
    "# Merge player_ratio_air_duel with England Players\n",
    "air_duel_height = pd.merge(player_ratio_air_duel, england_players[['height', 'wyId', 'shortName']], left_on='PlayersId', right_on='wyId' )"
   ]
  },
  {
   "cell_type": "code",
   "execution_count": null,
   "metadata": {},
   "outputs": [],
   "source": [
    "list_id = []\n",
    "list_class = []\n",
    "for i in range(len(players['height'])):\n",
    "    if players.iloc[i]['height'] < 160:\n",
    "        list_id.append(players.iloc[i]['wyId'])\n",
    "        list_class.append(150)\n",
    "    elif players.iloc[i]['height'] >= 160 and players.iloc[i]['height'] < 170:\n",
    "        list_id.append(players.iloc[i]['wyId'])\n",
    "        list_class.append(160)\n",
    "    elif players.iloc[i]['height'] >= 170 and players.iloc[i]['height'] < 175:\n",
    "        list_id.append(players.iloc[i]['wyId'])\n",
    "        list_class.append(170)\n",
    "    elif players.iloc[i]['height'] >= 175 and players.iloc[i]['height'] < 180:\n",
    "        list_id.append(players.iloc[i]['wyId'])\n",
    "        list_class.append(175)\n",
    "    elif players.iloc[i]['height'] >= 180 and players.iloc[i]['height'] < 185:\n",
    "        list_id.append(players.iloc[i]['wyId'])\n",
    "        list_class.append(180)\n",
    "    elif players.iloc[i]['height'] >= 185 and players.iloc[i]['height'] < 190:\n",
    "        list_id.append(players.iloc[i]['wyId'])\n",
    "        list_class.append(185)\n",
    "    elif players.iloc[i]['height'] >= 190 and players.iloc[i]['height'] < 195:\n",
    "        list_id.append(players.iloc[i]['wyId'])\n",
    "        list_class.append(190)\n",
    "    elif players.iloc[i]['height'] >= 195 and players.iloc[i]['height'] < 200:\n",
    "        list_id.append(players.iloc[i]['wyId'])\n",
    "        list_class.append(195)\n",
    "    else:\n",
    "        list_id.append(players.iloc[i]['wyId'])\n",
    "        list_class.append(205)\n",
    "\n",
    "clas = pd.DataFrame(data = list_class, index = list_id, columns=['Class'])\n",
    "air_duel_height_class = pd.merge(air_duel_height, clas, left_on='PlayersId', right_index=True )"
   ]
  },
  {
   "cell_type": "code",
   "execution_count": null,
   "metadata": {},
   "outputs": [],
   "source": [
    "fig, ax = plt.subplots(1, 1, figsize=(15, 10))  # setup the plot\n",
    "\n",
    "x = air_duel_height_class['height']  # define the data\n",
    "y = air_duel_height_class['Ratio air duel']  # define the data\n",
    "tag = air_duel_height_class['Class']\n",
    "#tag[10:12] = 0  # make sure there are some 0 values to show up as grey\n",
    "\n",
    "cmap = plt.cm.jet  # define the colormap\n",
    "# extract all colors from the .jet map\n",
    "#cmaplist = [cmap(i) for i in range(cmap.N)]\n",
    "# force the first color entry to be grey\n",
    "cmaplist=[0,1,2,3,4,5,6,7,8]\n",
    "cmaplist[0] = (0.267004, 0.004874, 0.329415, 1.)\n",
    "cmaplist[1] = (0.262138, 0.242286, 0.520837, 1.)\n",
    "cmaplist[2] = (0.177423, 0.437527, 0.557565, 1.)\n",
    "cmaplist[3] = (0.119512, 0.607464, 0.540218, 1.)\n",
    "cmaplist[4] = (0.119512, 0.607464, 0.540218, 1.)\n",
    "cmaplist[5] = (0.166383, 0.690856, 0.496502, 1.)\n",
    "cmaplist[6] = (0.525776, 0.833491, 0.288127, 1.)\n",
    "cmaplist[7] = (0.762373, 0.876424, 0.137064, 1.)\n",
    "cmaplist[8] = (0.993248, 0.906157, 0.143936, 1.)\n",
    "\n",
    "# create the new map\n",
    "cmap = mpl.colors.LinearSegmentedColormap.from_list(\n",
    "   'Custom cmap', cmaplist, cmap.N)\n",
    "\n",
    "# define the bins and normalize\n",
    "bounds =  np.array([150,160,170,175,180,185,190,195,205])#np.linspace(0, 5, 6)\n",
    "norm = mpl.colors.BoundaryNorm(bounds, cmap.N)\n",
    "\n",
    "# make the scatter\n",
    "scat = ax.scatter(x, y, c=tag, \n",
    "                  cmap=cmap, norm=norm)\n",
    "\n",
    "# create a second axes for the colorbar\n",
    "ax2 = fig.add_axes([0.95, 0.1, 0.03, 0.8])\n",
    "cb = mpl.colorbar.ColorbarBase(ax2, cmap=cmap, norm=norm,\n",
    "    spacing='proportional', ticks=bounds, boundaries=bounds, format='%1i')\n",
    "\n",
    "ax.set_title('Well defined discrete colors')\n",
    "ax2.set_ylabel('Height', size=12)\n",
    "plt.show()"
   ]
  },
  {
   "cell_type": "code",
   "execution_count": null,
   "metadata": {},
   "outputs": [],
   "source": [
    "X = air_duel_height_class['height']  # define the data\n",
    "Y = air_duel_height_class['Ratio air duel']  # define the data\n",
    "\n",
    "results = sm.OLS(Y,sm.add_constant(X)).fit()\n",
    "\n",
    "print(results.summary())\n",
    "\n",
    "plt.scatter(X,Y)\n",
    "\n",
    "X_plot = np.linspace(155,215,100)\n",
    "\n",
    "plt.plot(np.unique(X), np.poly1d(np.polyfit(X, Y, 1))(np.unique(X)))\n",
    "plt.show()"
   ]
  },
  {
   "cell_type": "markdown",
   "metadata": {},
   "source": [
    "---"
   ]
  },
  {
   "cell_type": "markdown",
   "metadata": {},
   "source": [
    "## RQ6"
   ]
  },
  {
   "cell_type": "code",
   "execution_count": null,
   "metadata": {},
   "outputs": [],
   "source": []
  },
  {
   "cell_type": "code",
   "execution_count": null,
   "metadata": {},
   "outputs": [],
   "source": []
  },
  {
   "cell_type": "markdown",
   "metadata": {},
   "source": [
    "---"
   ]
  },
  {
   "cell_type": "markdown",
   "metadata": {},
   "source": [
    "## CRQ1"
   ]
  },
  {
   "cell_type": "code",
   "execution_count": null,
   "metadata": {},
   "outputs": [],
   "source": [
    "# CREATE CRQ1_df DataFrame with only goals event with playerId,teamId, 'matchPeriod', 'eventSec'\n",
    "CRQ1_df = premier_league_events[['tags', 'playerId', 'teamId', 'matchPeriod', 'eventSec']]\n",
    "\n",
    "CRQ1_list = [] # list contain the row with 101 tag\n",
    "for x in range(len(premier_league_events['tags'])):\n",
    "    if {'id': 101} in CRQ1_df.tags[x]:\n",
    "        CRQ1_list.append(CRQ1_df.iloc[x]) # append row with 101 tag at CRQ1_list\n",
    "CRQ1_df = pd.DataFrame(CRQ1_list) # dataset with only goals event\n",
    "CRQ1_df.index = range(len(CRQ1_df.index)) # set index\n",
    "CRQ1_df = CRQ1_df[['playerId','teamId','matchPeriod', 'eventSec']] # remove column 'tag'"
   ]
  },
  {
   "cell_type": "code",
   "execution_count": null,
   "metadata": {},
   "outputs": [],
   "source": [
    "# Divide time to interval\n",
    "import intervals as I\n",
    "CRQ1_df['matchPeriod'].to_string\n",
    "pd.set_option('mode.chained_assignment', None)\n",
    "for x in range(len(CRQ1_df['eventSec'])):\n",
    "    if CRQ1_df['matchPeriod'][x] == '1H':\n",
    "        if (CRQ1_df['eventSec'].iloc[x]/60) in I.IntInterval.closed_open(0,9):\n",
    "            CRQ1_df['matchPeriod'].iloc[x] = '[0-09)'\n",
    "        elif (CRQ1_df['eventSec'].iloc[x]/60) in I.IntInterval.closed_open(9,18):\n",
    "            CRQ1_df['matchPeriod'].iloc[x] = '[09-18)'\n",
    "        elif (CRQ1_df['eventSec'].iloc[x]/60) in I.IntInterval.closed_open(18,27):\n",
    "            CRQ1_df['matchPeriod'].iloc[x] = '[18-27)'\n",
    "        elif (CRQ1_df['eventSec'].iloc[x]/60) in I.IntInterval.closed_open(27,36):\n",
    "            CRQ1_df['matchPeriod'].iloc[x] = '[27-36)'\n",
    "        elif (CRQ1_df['eventSec'].iloc[x]/60) in I.IntInterval.closed_open(36,45):\n",
    "            CRQ1_df['matchPeriod'].iloc[x] = '[36-45)'\n",
    "        elif (CRQ1_df['eventSec'].iloc[x]/60) >= 45:\n",
    "            CRQ1_df['matchPeriod'].iloc[x] = '[45+)'\n",
    "    elif CRQ1_df['matchPeriod'][x] == '2H':\n",
    "        if (CRQ1_df['eventSec'].iloc[x]/60) in I.IntInterval.closed_open(0,9):\n",
    "            CRQ1_df['matchPeriod'].iloc[x] = '[45-54)'\n",
    "        elif (CRQ1_df['eventSec'].iloc[x]/60) in I.IntInterval.closed_open(9,18):\n",
    "            CRQ1_df['matchPeriod'].iloc[x] = '[54-63)'\n",
    "        elif (CRQ1_df['eventSec'].iloc[x]/60) in I.IntInterval.closed_open(18,27):\n",
    "            CRQ1_df['matchPeriod'].iloc[x] = '[63-72)'\n",
    "        elif (CRQ1_df['eventSec'].iloc[x]/60) in I.IntInterval.closed_open(27,36):\n",
    "            CRQ1_df['matchPeriod'].iloc[x] = '[72-81)'\n",
    "        elif (CRQ1_df['eventSec'].iloc[x]/60) in I.IntInterval.closed_open(36,46):\n",
    "            CRQ1_df['matchPeriod'].iloc[x] = '[81-90)'\n",
    "        elif (CRQ1_df['eventSec'].iloc[x]/60) >= 45:\n",
    "            CRQ1_df['matchPeriod'].iloc[x] = '[90+)'\n",
    "    elif CRQ1_df['matchPeriod'][x] == 'E1':\n",
    "         CRQ1_df['matchPeriod'].iloc[x] = '[45+)'\n",
    "    elif CRQ1_df['matchPeriod'][x] == 'E2':\n",
    "         CRQ1_df['matchPeriod'].iloc[x] = '[90+)'\n",
    "    else:\n",
    "        pass\n",
    "CRQ1_df = CRQ1_df[['playerId','teamId','matchPeriod']] # delete 'eventSec'"
   ]
  },
  {
   "cell_type": "code",
   "execution_count": null,
   "metadata": {},
   "outputs": [],
   "source": [
    "# Sorted intervl period and count numbers of same interval\n",
    "interval = sorted(list(set(list(CRQ1_df['matchPeriod']))))\n",
    "count_interval = []\n",
    "for x in interval:\n",
    "    count_interval.append(len(CRQ1_df[CRQ1_df['matchPeriod']==x]))"
   ]
  },
  {
   "cell_type": "code",
   "execution_count": null,
   "metadata": {},
   "outputs": [],
   "source": [
    "# Show bar plot\n",
    "f, ax = plt.subplots(figsize=(18,5)) # set the size that you'd like (width, height)\n",
    "plt.bar(interval, count_interval, label = 'Goals')\n",
    "\n",
    "ax.legend(fontsize = 14)\n",
    "plt.show()"
   ]
  },
  {
   "cell_type": "code",
   "execution_count": null,
   "metadata": {},
   "outputs": [],
   "source": [
    "# Create DataFrame by interval of 81-90 and sorted it\n",
    "Team_81_90 =CRQ1_df[CRQ1_df['matchPeriod']=='[81-90)']\n",
    "team_81_90 = sorted(list(set(list(Team_81_90['teamId']))))"
   ]
  },
  {
   "cell_type": "code",
   "execution_count": null,
   "metadata": {},
   "outputs": [],
   "source": [
    "# count numbers of goals in interval of 81-90 for each team\n",
    "count_team_81_90 = {}\n",
    "for x in team_81_90:\n",
    "    count_team_81_90.update({x:len(Team_81_90[Team_81_90['teamId']==x])})"
   ]
  },
  {
   "cell_type": "code",
   "execution_count": null,
   "metadata": {},
   "outputs": [],
   "source": [
    "# sorted dictionary of teams and goals number by goal numbers\n",
    "count_team_81_90\n",
    "sorted_count_team_81_90 = sorted(count_team_81_90.items(), key=operator.itemgetter(1))"
   ]
  },
  {
   "cell_type": "code",
   "execution_count": null,
   "metadata": {},
   "outputs": [],
   "source": [
    "#create a list team for find the top 10 teams score the most in interval 81-90\n",
    "list_Teams=[]\n",
    "for x in sorted_count_team_81_90[-10:]:\n",
    "    list_Teams.append(x[0])"
   ]
  },
  {
   "cell_type": "code",
   "execution_count": null,
   "metadata": {},
   "outputs": [],
   "source": [
    "#top 10 teams score the most in interval 81-90\n",
    "for x in list_Teams:\n",
    "    print(teams[teams['wyId']==x]['officialName'].iloc[0])"
   ]
  },
  {
   "cell_type": "code",
   "execution_count": null,
   "metadata": {},
   "outputs": [],
   "source": [
    "#create a sorted list of player id and find players that were able to score at least one goal in 8 different intervals.\n",
    "list_player = sorted(list(set(list(CRQ1_df['playerId']))))\n",
    "player_8_different_interval=[]\n",
    "for x in list_player:\n",
    "    if len(set(list(CRQ1_df[CRQ1_df['playerId']==x]['matchPeriod'])))>=8:\n",
    "        player_8_different_interval.append(x)\n",
    "for x in player_8_different_interval:#range(len(Teams)):\n",
    "    print(players[players['wyId']==x]['shortName'].iloc[0])"
   ]
  },
  {
   "cell_type": "markdown",
   "metadata": {},
   "source": [
    "---"
   ]
  },
  {
   "cell_type": "markdown",
   "metadata": {},
   "source": [
    "## CRQ2"
   ]
  },
  {
   "cell_type": "markdown",
   "metadata": {},
   "source": [
    "+ **First Part:**"
   ]
  },
  {
   "cell_type": "code",
   "execution_count": null,
   "metadata": {},
   "outputs": [],
   "source": [
    "Match_Barcelona_RealMadrid = laliga_matches[laliga_matches['label'] == 'Barcelona - Real Madrid, 2 - 2'].iloc[0]\n",
    "id_Match_Barcelona_RealMadrid = Match_Barcelona_RealMadrid['wyId']\n",
    "\n",
    "Player_L_Messi = players[players['shortName']=='L. Messi'].iloc[0]\n",
    "id_L_Messi = Player_L_Messi['wyId']\n",
    "Player_C_Ronaldo = players[players['shortName']=='Cristiano Ronaldo'].iloc[0]\n",
    "id_C_Ronaldo = Player_C_Ronaldo['wyId']"
   ]
  },
  {
   "cell_type": "code",
   "execution_count": null,
   "metadata": {},
   "outputs": [],
   "source": [
    "Event_Ronaldo = laliga_events[(laliga_events['playerId']==id_C_Ronaldo)&(laliga_events['matchId']==id_Match_Barcelona_RealMadrid)]\n",
    "Event_Messi = laliga_events[(laliga_events['playerId']==id_L_Messi)&(laliga_events['matchId']==id_Match_Barcelona_RealMadrid)]"
   ]
  },
  {
   "cell_type": "code",
   "execution_count": null,
   "metadata": {},
   "outputs": [],
   "source": [
    "Event_Ronaldo = Event_Ronaldo[(Event_Ronaldo['eventName']=='Duel')|(Event_Ronaldo['eventName']=='Free Kick')|\n",
    "                              (Event_Ronaldo['eventName']=='Pass')|(Event_Ronaldo['eventName']=='Shot')]\n",
    "Event_Messi = Event_Messi[(Event_Messi['eventName']=='Duel')|(Event_Messi['eventName']=='Free Kick')|\n",
    "                          (Event_Messi['eventName']=='Pass')|(Event_Messi['eventName']=='Shot')]"
   ]
  },
  {
   "cell_type": "code",
   "execution_count": null,
   "metadata": {},
   "outputs": [],
   "source": [
    "Positions_Event_Ronaldo =  Event_Ronaldo['positions']\n",
    "Positions_Event_Messi = Event_Messi['positions']"
   ]
  },
  {
   "cell_type": "code",
   "execution_count": null,
   "metadata": {},
   "outputs": [],
   "source": [
    "def draw_pitch(ax):\n",
    "    # focus on only half of the pitch\n",
    "    #Pitch Outline & Centre Line\n",
    "    Pitch = Rectangle([0,0], width = 120, height = 80, fill = False)\n",
    "    #Left, Right Penalty Area and midline\n",
    "    LeftPenalty = Rectangle([0,22.3], width = 14.6, height = 35.3, fill = False)\n",
    "    RightPenalty = Rectangle([105.4,22.3], width = 14.6, height = 35.3, fill = False)\n",
    "    midline = ConnectionPatch([60,0], [60,80], \"data\", \"data\")\n",
    "\n",
    "    #Left, Right 6-yard Box\n",
    "    LeftSixYard = Rectangle([0,32], width = 4.9, height = 16, fill = False)\n",
    "    RightSixYard = Rectangle([115.1,32], width = 4.9, height = 16, fill = False)\n",
    "\n",
    "\n",
    "    #Prepare Circles\n",
    "    centreCircle = plt.Circle((60,40),8.1,color=\"black\", fill = False)\n",
    "    centreSpot = plt.Circle((60,40),0.71,color=\"black\")\n",
    "    #Penalty spots and Arcs around penalty boxes\n",
    "    leftPenSpot = plt.Circle((9.7,40),0.71,color=\"black\")\n",
    "    rightPenSpot = plt.Circle((110.3,40),0.71,color=\"black\")\n",
    "    leftArc = Arc((9.7,40),height=16.2,width=16.2,angle=0,theta1=310,theta2=50,color=\"black\")\n",
    "    rightArc = Arc((110.3,40),height=16.2,width=16.2,angle=0,theta1=130,theta2=230,color=\"black\")\n",
    "    \n",
    "    element = [Pitch, LeftPenalty, RightPenalty, midline, LeftSixYard, RightSixYard, centreCircle, \n",
    "               centreSpot, rightPenSpot, leftPenSpot, leftArc, rightArc]\n",
    "    for i in element:\n",
    "        ax.add_patch(i)"
   ]
  },
  {
   "cell_type": "code",
   "execution_count": null,
   "metadata": {},
   "outputs": [],
   "source": [
    "fig=plt.figure() #set up the figures\n",
    "#fig, ax = plt.subplots()\n",
    "fig.set_size_inches(7, 5)\n",
    "ax=fig.add_subplot(1,1,1)\n",
    "draw_pitch(ax) #overlay our different objects on the pitch\n",
    "plt.ylim(-2, 82)\n",
    "plt.xlim(-2, 122)\n",
    "plt.title('Cover Zone For Ronaldo')\n",
    "plt.axis('off')\n",
    "\n",
    "x_coord = [i[0]['x'] for i in Positions_Event_Ronaldo]\n",
    "y_coord = [i[0]['y'] for i in Positions_Event_Ronaldo]\n",
    "\n",
    "#shades: give us the heat map we desire\n",
    "# n_levels: draw more lines, the larger n, the more blurry it looks\n",
    "seaborn.kdeplot(x_coord, y_coord, shade = \"True\", color = \"green\", n_levels = 30)\n",
    "plt.show()\n",
    "\n",
    "\n",
    "fig=plt.figure() #set up the figures\n",
    "#fig, ax = plt.subplots()\n",
    "fig.set_size_inches(7, 5)\n",
    "ax=fig.add_subplot(1,1,1)\n",
    "draw_pitch(ax) #overlay our different objects on the pitch\n",
    "plt.ylim(-2, 82)\n",
    "plt.xlim(-2, 122)\n",
    "plt.title('Cover Zone For Messi')\n",
    "\n",
    "plt.axis('off')\n",
    "\n",
    "x_coord = [i[0]['x'] for i in Positions_Event_Messi]\n",
    "y_coord = [i[0]['y'] for i in Positions_Event_Messi]\n",
    "\n",
    "#shades: give us the heat map we desire\n",
    "# n_levels: draw more lines, the larger n, the more blurry it looks\n",
    "seaborn.kdeplot(x_coord, y_coord, shade = \"True\", color = \"green\", n_levels = 30)\n",
    "plt.show()"
   ]
  },
  {
   "cell_type": "markdown",
   "metadata": {},
   "source": [
    "**LUCA COMMENT:** [...]"
   ]
  },
  {
   "cell_type": "markdown",
   "metadata": {},
   "source": [
    "+ **Second Part:**"
   ]
  },
  {
   "cell_type": "code",
   "execution_count": null,
   "metadata": {},
   "outputs": [],
   "source": [
    "Match_Juventus_Napoli = serie_a_matches[serie_a_matches['label'] == 'Juventus - Napoli, 0 - 1'].iloc[0]\n",
    "id_Match_Juventus_Napoli = Match_Juventus_Napoli['wyId']\n",
    "\n",
    "Player_Jorginho = players[players['shortName']=='Jorginho'].iloc[0]\n",
    "id_Jorginho = Player_Jorginho['wyId']\n",
    "Player_Miralem_Pjanic = players[players['firstName']=='Miralem'].iloc[0]\n",
    "id_Miralem_Pjanic = Player_Miralem_Pjanic['wyId']"
   ]
  },
  {
   "cell_type": "code",
   "execution_count": null,
   "metadata": {},
   "outputs": [],
   "source": [
    "Event_Jorginho = serie_a_events[(serie_a_events['playerId']==id_Jorginho)&(serie_a_events['matchId']==id_Match_Juventus_Napoli)]\n",
    "Event_Miralem_Pjanic = serie_a_events[(serie_a_events['playerId']==id_Miralem_Pjanic)&(serie_a_events['matchId']==id_Match_Juventus_Napoli)]"
   ]
  },
  {
   "cell_type": "code",
   "execution_count": null,
   "metadata": {},
   "outputs": [],
   "source": [
    "Pass_Jorginho = Event_Jorginho[Event_Jorginho['eventName']=='Pass']\n",
    "Accurate_Pass_Jorginho_list = [] # list contain the row with 1801 tag\n",
    "for x in range(len(Pass_Jorginho['tags'])):\n",
    "    if {'id': 1801} in Pass_Jorginho.tags.iloc[x]:\n",
    "        Accurate_Pass_Jorginho_list.append(Pass_Jorginho.iloc[x])\n",
    "Accurate_Pass_Jorginho = pd.DataFrame(Accurate_Pass_Jorginho_list)\n",
    "Pass_Miralem_Pjanic = Event_Miralem_Pjanic[Event_Miralem_Pjanic['eventName']=='Pass']\n",
    "Accurate_Pass_Miralem_Pjanic_list = [] # list contain the row with 1801 tag\n",
    "for x in range(len(Pass_Miralem_Pjanic['tags'])):\n",
    "    if {'id': 1801} in Pass_Miralem_Pjanic.tags.iloc[x]:\n",
    "        Accurate_Pass_Miralem_Pjanic_list.append(Pass_Miralem_Pjanic.iloc[x])\n",
    "Accurate_Pass_Miralem_Pjanic = pd.DataFrame(Accurate_Pass_Miralem_Pjanic_list)"
   ]
  },
  {
   "cell_type": "code",
   "execution_count": null,
   "metadata": {},
   "outputs": [],
   "source": [
    "Positions_Pass_Jorginho = Pass_Jorginho['positions']\n",
    "Positions_Accurate_Pass_Jorginho = Accurate_Pass_Jorginho['positions']\n",
    "Positions_Pass_Miralem_Pjanic = Pass_Miralem_Pjanic['positions']\n",
    "Positions_Accurate_Pass_Miralem_Pjanic = Accurate_Pass_Miralem_Pjanic['positions']"
   ]
  },
  {
   "cell_type": "code",
   "execution_count": null,
   "metadata": {},
   "outputs": [],
   "source": [
    "fig=plt.figure() #set up the figures\n",
    "#fig, ax = plt.subplots()\n",
    "fig.set_size_inches(7, 5)\n",
    "ax=fig.add_subplot(1,1,1)\n",
    "draw_pitch(ax) #overlay our different objects on the pitch\n",
    "plt.ylim(-2, 82)\n",
    "plt.xlim(-2, 122)\n",
    "plt.title('Pass - Jorginho(blue),Pjanic(red)')\n",
    "plt.axis('off')\n",
    "for i in range(len(Positions_Pass_Jorginho)):\n",
    "    ax.annotate(\"\",xy=(Positions_Pass_Jorginho.iloc[i][1]['x'],Positions_Pass_Jorginho.iloc[i][1]['y']), xytext=(Positions_Pass_Jorginho.iloc[i][0]['x'],Positions_Pass_Jorginho.iloc[i][0]['y']), arrowprops=dict(arrowstyle=\"->\",connectionstyle=\"arc3\", color = \"blue\"))\n",
    "    \n",
    "for i in range(len(Positions_Pass_Miralem_Pjanic)):\n",
    "    ax.annotate(\"\",xy=(Positions_Pass_Miralem_Pjanic.iloc[i][1]['x'],Positions_Pass_Miralem_Pjanic.iloc[i][1]['y']), xytext=(Positions_Pass_Miralem_Pjanic.iloc[i][0]['x'],Positions_Pass_Miralem_Pjanic.iloc[i][0]['y']), arrowprops=dict(arrowstyle=\"->\",connectionstyle=\"arc3\", color = \"red\")) "
   ]
  },
  {
   "cell_type": "code",
   "execution_count": null,
   "metadata": {},
   "outputs": [],
   "source": [
    "fig=plt.figure() #set up the figures\n",
    "#fig, ax = plt.subplots()\n",
    "fig.set_size_inches(7, 5)\n",
    "ax=fig.add_subplot(1,1,1)\n",
    "draw_pitch(ax) #overlay our different objects on the pitch\n",
    "plt.ylim(-2, 82)\n",
    "plt.xlim(-2, 122)\n",
    "plt.title('Accurate Pass - Jorginho(blue),Pjanic(red)')\n",
    "plt.axis('off')\n",
    "for i in range(len(Positions_Accurate_Pass_Jorginho)):\n",
    "    ax.annotate(\"\",xy=(Positions_Accurate_Pass_Jorginho.iloc[i][1]['x'],Positions_Accurate_Pass_Jorginho.iloc[i][1]['y']), xytext=(Positions_Accurate_Pass_Jorginho.iloc[i][0]['x'],Positions_Accurate_Pass_Jorginho.iloc[i][0]['y']), arrowprops=dict(arrowstyle=\"->\",connectionstyle=\"arc3\", color = \"blue\"))\n",
    "    \n",
    "for i in range(len(Positions_Accurate_Pass_Miralem_Pjanic)):\n",
    "    ax.annotate(\"\",xy=(Positions_Accurate_Pass_Miralem_Pjanic.iloc[i][1]['x'],Positions_Accurate_Pass_Miralem_Pjanic.iloc[i][1]['y']), xytext=(Positions_Accurate_Pass_Miralem_Pjanic.iloc[i][0]['x'],Positions_Accurate_Pass_Miralem_Pjanic.iloc[i][0]['y']), arrowprops=dict(arrowstyle=\"->\",connectionstyle=\"arc3\", color = \"red\")) "
   ]
  },
  {
   "cell_type": "markdown",
   "metadata": {},
   "source": [
    "**LUCA COMMENT:** [...]"
   ]
  },
  {
   "cell_type": "markdown",
   "metadata": {},
   "source": [
    "---"
   ]
  },
  {
   "cell_type": "markdown",
   "metadata": {},
   "source": [
    "## Theoretical Question"
   ]
  },
  {
   "cell_type": "code",
   "execution_count": null,
   "metadata": {},
   "outputs": [],
   "source": []
  },
  {
   "cell_type": "code",
   "execution_count": null,
   "metadata": {},
   "outputs": [],
   "source": []
  }
 ],
 "metadata": {
  "kernelspec": {
   "display_name": "Python 3",
   "language": "python",
   "name": "python3"
  },
  "language_info": {
   "codemirror_mode": {
    "name": "ipython",
    "version": 3
   },
   "file_extension": ".py",
   "mimetype": "text/x-python",
   "name": "python",
   "nbconvert_exporter": "python",
   "pygments_lexer": "ipython3",
   "version": "3.7.4"
  }
 },
 "nbformat": 4,
 "nbformat_minor": 4
}
