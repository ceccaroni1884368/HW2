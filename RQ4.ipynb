{
 "cells": [
  {
   "cell_type": "code",
   "execution_count": 1,
   "metadata": {},
   "outputs": [],
   "source": [
    "import pandas as pd\n",
    "import numpy as np\n",
    "from datetime import datetime\n",
    "import matplotlib.pyplot as plt\n",
    "import matplotlib.cm as cm\n",
    "\n",
    "Coaches = pd.read_json('coaches/coaches.json')\n",
    "Players = pd.read_json('players/players.json')\n",
    "Events = pd.read_json('events/events_England.json')\n",
    "Teams = pd.read_json('teams/teams.json')\n",
    "Matches = pd.read_json('matches/matches_England.json')"
   ]
  },
  {
   "cell_type": "code",
   "execution_count": 2,
   "metadata": {},
   "outputs": [],
   "source": [
    "# Add column 'Nation' on Teams\n",
    "Nation = pd.DataFrame([x['name'] for x in Teams['area']],columns=['Nation'])\n",
    "Teams = pd.merge(Teams, Nation, left_index=True, right_index=True)\n",
    "Teams_England = Teams[((Teams['Nation'] == 'England') | (Teams['Nation'] == 'Wales')) & (Teams['type'] == 'club')]"
   ]
  },
  {
   "cell_type": "code",
   "execution_count": 3,
   "metadata": {},
   "outputs": [],
   "source": [
    "# Generate England_Players DataFrame\n",
    "England_Teams_ID_list = list(Teams_England['wyId']) # list teams Id\n",
    "player_list =[]\n",
    "for x in England_Teams_ID_list:\n",
    "    player_list.append(Players[Players['currentTeamId'] ==x ])\n",
    "\n",
    "England_Players = pd.concat(player_list) #DF with England Players info"
   ]
  },
  {
   "cell_type": "code",
   "execution_count": 4,
   "metadata": {},
   "outputs": [],
   "source": [
    "# Generate England_Events DataFrame\n",
    "England_Players_ID_list = list(England_Players['wyId'])\n",
    "event_list =[]\n",
    "for x in England_Players_ID_list:\n",
    "    event_list.append(Events[Events['playerId'] == x ])\n",
    "\n",
    "England_Events = pd.concat(event_list) #DF with England Events info"
   ]
  },
  {
   "cell_type": "code",
   "execution_count": 5,
   "metadata": {},
   "outputs": [],
   "source": [
    "England_Events_Pass = England_Events[England_Events['eventName']=='Pass'] # sub-DataFrame with player 'passes'"
   ]
  },
  {
   "cell_type": "code",
   "execution_count": 6,
   "metadata": {},
   "outputs": [],
   "source": [
    "count_total_pass = {} # dict containing the sums of pass for each player initialized to 0\n",
    "count_accurate_pass = {} # dict containing the sums of accurate pass for each player initialized to 0\n",
    "count_ratio_pass = {} # dict containing the ratio = count_accurate_pass/count_total_pass\n",
    "\n",
    "# initialize\n",
    "for x in England_Players_ID_list:\n",
    "    count_total_pass.update({x:0})\n",
    "    count_accurate_pass.update({x:0})\n",
    "    count_ratio_pass.update({x:0})\n",
    "\n",
    "# count\n",
    "i = 0\n",
    "for x in England_Events_Pass['playerId']:\n",
    "    count_total_pass[x] += 1\n",
    "    if str(England_Events_Pass['tags'].iloc[i]).find('1801') > 0:\n",
    "        count_accurate_pass[x] += 1\n",
    "    i +=1    "
   ]
  },
  {
   "cell_type": "code",
   "execution_count": 7,
   "metadata": {},
   "outputs": [],
   "source": [
    "n = 100 # minimum threshold\n",
    "\n",
    "for x in England_Players_ID_list: \n",
    "    if count_total_pass[x] < n:\n",
    "        del count_ratio_pass[x]\n",
    "    else:\n",
    "        count_ratio_pass[x] = count_accurate_pass[x] / count_total_pass[x]"
   ]
  },
  {
   "cell_type": "code",
   "execution_count": 8,
   "metadata": {},
   "outputs": [
    {
     "name": "stdout",
     "output_type": "stream",
     "text": [
      "Moussa Sidi Yaya  Demb\\u00e9l\\u00e9\n",
      "Victor  Nilsson Lindel\\u00f6f\n",
      "\\u0130lkay  G\\u00fcndo\\u011fan\n",
      "Mohamed Naser  Elsayed Elneny\n",
      "Nicol\\u00e1s Hern\\u00e1n  Otamendi\n",
      "Phil  Jones\n",
      "Andreas  Christensen\n",
      "Vincent  Kompany\n",
      "Fabian  Delph\n",
      "John  Stones\n"
     ]
    }
   ],
   "source": [
    "# PRINT - problem!?!?\n",
    "player_pass =[x[1] for x in sorted((value,key) for (key,value) in count_ratio_pass.items())[-10:]]\n",
    "for i in player_pass:\n",
    "    lst_player = []\n",
    "    lst_player.append(list(Players[Players['wyId']==i]['firstName']))\n",
    "    lst_player.append(list(Players[Players['wyId']==i]['middleName']))\n",
    "    lst_player.append(list(Players[Players['wyId']==i]['lastName']))\n",
    "    \n",
    "    #print(dict(Players[Players['wyId']==i][['firstName', 'middleName', 'lastName']]))\n",
    "    print(u'{} {} {}'.format(lst_player[0][0],lst_player[1][0], lst_player[2][0]))"
   ]
  },
  {
   "cell_type": "code",
   "execution_count": null,
   "metadata": {},
   "outputs": [],
   "source": []
  },
  {
   "cell_type": "code",
   "execution_count": null,
   "metadata": {},
   "outputs": [],
   "source": []
  },
  {
   "cell_type": "code",
   "execution_count": null,
   "metadata": {},
   "outputs": [],
   "source": []
  },
  {
   "cell_type": "code",
   "execution_count": null,
   "metadata": {},
   "outputs": [],
   "source": []
  }
 ],
 "metadata": {
  "kernelspec": {
   "display_name": "Python 3",
   "language": "python",
   "name": "python3"
  },
  "language_info": {
   "codemirror_mode": {
    "name": "ipython",
    "version": 3
   },
   "file_extension": ".py",
   "mimetype": "text/x-python",
   "name": "python",
   "nbconvert_exporter": "python",
   "pygments_lexer": "ipython3",
   "version": "3.7.4"
  }
 },
 "nbformat": 4,
 "nbformat_minor": 4
}
