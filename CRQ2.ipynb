{
 "cells": [
  {
   "cell_type": "code",
   "execution_count": 9,
   "metadata": {},
   "outputs": [],
   "source": [
    "import pandas as pd\n",
    "import numpy as np\n",
    "from datetime import datetime\n",
    "import matplotlib.pyplot as plt\n",
    "import matplotlib.cm as cm\n",
    "from matplotlib.patches import Rectangle, ConnectionPatch, Arc\n",
    "import seaborn\n",
    "\n",
    "Players = pd.read_json('players/players.json',encoding = \"utf-8\")\n",
    "Events = pd.read_json('events/events_Spain.json')\n",
    "#Teams = pd.read_json('teams/teams.json')\n",
    "Matches = pd.read_json('matches/matches_Spain.json')"
   ]
  },
  {
   "cell_type": "code",
   "execution_count": 10,
   "metadata": {},
   "outputs": [],
   "source": [
    "Match_Barcelona_RealMadrid = Matches[Matches['label'] == 'Barcelona - Real Madrid, 2 - 2'].iloc[0]\n",
    "id_Match_Barcelona_RealMadrid = Match_Barcelona_RealMadrid['wyId']\n",
    "\n",
    "Player_L_Messi = Players[Players['shortName']=='L. Messi'].iloc[0]\n",
    "id_L_Messi = Player_L_Messi['wyId']\n",
    "Player_C_Ronaldo = Players[Players['shortName']=='Cristiano Ronaldo'].iloc[0]\n",
    "id_C_Ronaldo = Player_C_Ronaldo['wyId']"
   ]
  },
  {
   "cell_type": "code",
   "execution_count": 11,
   "metadata": {},
   "outputs": [],
   "source": [
    "Event_Ronaldo = Events[(Events['playerId']==id_C_Ronaldo)&(Events['matchId']==id_Match_Barcelona_RealMadrid)]\n",
    "Event_Messi = Events[(Events['playerId']==id_L_Messi)&(Events['matchId']==id_Match_Barcelona_RealMadrid)]"
   ]
  },
  {
   "cell_type": "code",
   "execution_count": 26,
   "metadata": {},
   "outputs": [
    {
     "data": {
      "text/html": [
       "<div>\n",
       "<style scoped>\n",
       "    .dataframe tbody tr th:only-of-type {\n",
       "        vertical-align: middle;\n",
       "    }\n",
       "\n",
       "    .dataframe tbody tr th {\n",
       "        vertical-align: top;\n",
       "    }\n",
       "\n",
       "    .dataframe thead th {\n",
       "        text-align: right;\n",
       "    }\n",
       "</style>\n",
       "<table border=\"1\" class=\"dataframe\">\n",
       "  <thead>\n",
       "    <tr style=\"text-align: right;\">\n",
       "      <th></th>\n",
       "      <th>eventId</th>\n",
       "      <th>subEventName</th>\n",
       "      <th>tags</th>\n",
       "      <th>playerId</th>\n",
       "      <th>positions</th>\n",
       "      <th>matchId</th>\n",
       "      <th>eventName</th>\n",
       "      <th>teamId</th>\n",
       "      <th>matchPeriod</th>\n",
       "      <th>eventSec</th>\n",
       "      <th>subEventId</th>\n",
       "      <th>id</th>\n",
       "    </tr>\n",
       "  </thead>\n",
       "  <tbody>\n",
       "    <tr>\n",
       "      <td>593485</td>\n",
       "      <td>8</td>\n",
       "      <td>Simple pass</td>\n",
       "      <td>[{'id': 1801}]</td>\n",
       "      <td>3359</td>\n",
       "      <td>[{'y': 87, 'x': 74}, {'y': 91, 'x': 80}]</td>\n",
       "      <td>2565907</td>\n",
       "      <td>Pass</td>\n",
       "      <td>676</td>\n",
       "      <td>1H</td>\n",
       "      <td>85.701277</td>\n",
       "      <td>85</td>\n",
       "      <td>249644574</td>\n",
       "    </tr>\n",
       "    <tr>\n",
       "      <td>593489</td>\n",
       "      <td>8</td>\n",
       "      <td>Simple pass</td>\n",
       "      <td>[{'id': 1801}]</td>\n",
       "      <td>3359</td>\n",
       "      <td>[{'y': 87, 'x': 67}, {'y': 71, 'x': 43}]</td>\n",
       "      <td>2565907</td>\n",
       "      <td>Pass</td>\n",
       "      <td>676</td>\n",
       "      <td>1H</td>\n",
       "      <td>92.114223</td>\n",
       "      <td>85</td>\n",
       "      <td>249644578</td>\n",
       "    </tr>\n",
       "    <tr>\n",
       "      <td>593499</td>\n",
       "      <td>8</td>\n",
       "      <td>Simple pass</td>\n",
       "      <td>[{'id': 1801}]</td>\n",
       "      <td>3359</td>\n",
       "      <td>[{'y': 66, 'x': 58}, {'y': 78, 'x': 75}]</td>\n",
       "      <td>2565907</td>\n",
       "      <td>Pass</td>\n",
       "      <td>676</td>\n",
       "      <td>1H</td>\n",
       "      <td>117.241765</td>\n",
       "      <td>85</td>\n",
       "      <td>249644587</td>\n",
       "    </tr>\n",
       "    <tr>\n",
       "      <td>593501</td>\n",
       "      <td>1</td>\n",
       "      <td>Ground attacking duel</td>\n",
       "      <td>[{'id': 702}, {'id': 1801}]</td>\n",
       "      <td>3359</td>\n",
       "      <td>[{'y': 67, 'x': 65}, {'y': 38, 'x': 63}]</td>\n",
       "      <td>2565907</td>\n",
       "      <td>Duel</td>\n",
       "      <td>676</td>\n",
       "      <td>1H</td>\n",
       "      <td>122.168204</td>\n",
       "      <td>11</td>\n",
       "      <td>249644589</td>\n",
       "    </tr>\n",
       "    <tr>\n",
       "      <td>593503</td>\n",
       "      <td>8</td>\n",
       "      <td>Simple pass</td>\n",
       "      <td>[{'id': 1801}]</td>\n",
       "      <td>3359</td>\n",
       "      <td>[{'y': 38, 'x': 63}, {'y': 43, 'x': 69}]</td>\n",
       "      <td>2565907</td>\n",
       "      <td>Pass</td>\n",
       "      <td>676</td>\n",
       "      <td>1H</td>\n",
       "      <td>124.686582</td>\n",
       "      <td>85</td>\n",
       "      <td>249644590</td>\n",
       "    </tr>\n",
       "    <tr>\n",
       "      <td>...</td>\n",
       "      <td>...</td>\n",
       "      <td>...</td>\n",
       "      <td>...</td>\n",
       "      <td>...</td>\n",
       "      <td>...</td>\n",
       "      <td>...</td>\n",
       "      <td>...</td>\n",
       "      <td>...</td>\n",
       "      <td>...</td>\n",
       "      <td>...</td>\n",
       "      <td>...</td>\n",
       "      <td>...</td>\n",
       "    </tr>\n",
       "    <tr>\n",
       "      <td>595053</td>\n",
       "      <td>1</td>\n",
       "      <td>Ground attacking duel</td>\n",
       "      <td>[{'id': 503}, {'id': 703}, {'id': 1801}]</td>\n",
       "      <td>3359</td>\n",
       "      <td>[{'y': 76, 'x': 84}, {'y': 72, 'x': 96}]</td>\n",
       "      <td>2565907</td>\n",
       "      <td>Duel</td>\n",
       "      <td>676</td>\n",
       "      <td>2H</td>\n",
       "      <td>2197.469246</td>\n",
       "      <td>11</td>\n",
       "      <td>249646165</td>\n",
       "    </tr>\n",
       "    <tr>\n",
       "      <td>595055</td>\n",
       "      <td>10</td>\n",
       "      <td>Shot</td>\n",
       "      <td>[{'id': 402}, {'id': 201}, {'id': 1206}, {'id'...</td>\n",
       "      <td>3359</td>\n",
       "      <td>[{'y': 72, 'x': 96}, {'y': 0, 'x': 0}]</td>\n",
       "      <td>2565907</td>\n",
       "      <td>Shot</td>\n",
       "      <td>676</td>\n",
       "      <td>2H</td>\n",
       "      <td>2199.766741</td>\n",
       "      <td>100</td>\n",
       "      <td>249646166</td>\n",
       "    </tr>\n",
       "    <tr>\n",
       "      <td>595106</td>\n",
       "      <td>1</td>\n",
       "      <td>Ground attacking duel</td>\n",
       "      <td>[{'id': 602}, {'id': 702}, {'id': 1801}]</td>\n",
       "      <td>3359</td>\n",
       "      <td>[{'y': 83, 'x': 44}, {'y': 93, 'x': 36}]</td>\n",
       "      <td>2565907</td>\n",
       "      <td>Duel</td>\n",
       "      <td>676</td>\n",
       "      <td>2H</td>\n",
       "      <td>2411.569686</td>\n",
       "      <td>11</td>\n",
       "      <td>249646184</td>\n",
       "    </tr>\n",
       "    <tr>\n",
       "      <td>595131</td>\n",
       "      <td>8</td>\n",
       "      <td>Launch</td>\n",
       "      <td>[{'id': 1802}]</td>\n",
       "      <td>3359</td>\n",
       "      <td>[{'y': 8, 'x': 44}, {'y': 42, 'x': 63}]</td>\n",
       "      <td>2565907</td>\n",
       "      <td>Pass</td>\n",
       "      <td>676</td>\n",
       "      <td>2H</td>\n",
       "      <td>2558.961654</td>\n",
       "      <td>84</td>\n",
       "      <td>249646196</td>\n",
       "    </tr>\n",
       "    <tr>\n",
       "      <td>595225</td>\n",
       "      <td>8</td>\n",
       "      <td>Simple pass</td>\n",
       "      <td>[{'id': 1901}, {'id': 1801}]</td>\n",
       "      <td>3359</td>\n",
       "      <td>[{'y': 47, 'x': 39}, {'y': 57, 'x': 46}]</td>\n",
       "      <td>2565907</td>\n",
       "      <td>Pass</td>\n",
       "      <td>676</td>\n",
       "      <td>2H</td>\n",
       "      <td>2922.896868</td>\n",
       "      <td>85</td>\n",
       "      <td>249646236</td>\n",
       "    </tr>\n",
       "  </tbody>\n",
       "</table>\n",
       "<p>92 rows × 12 columns</p>\n",
       "</div>"
      ],
      "text/plain": [
       "        eventId           subEventName  \\\n",
       "593485        8            Simple pass   \n",
       "593489        8            Simple pass   \n",
       "593499        8            Simple pass   \n",
       "593501        1  Ground attacking duel   \n",
       "593503        8            Simple pass   \n",
       "...         ...                    ...   \n",
       "595053        1  Ground attacking duel   \n",
       "595055       10                   Shot   \n",
       "595106        1  Ground attacking duel   \n",
       "595131        8                 Launch   \n",
       "595225        8            Simple pass   \n",
       "\n",
       "                                                     tags  playerId  \\\n",
       "593485                                     [{'id': 1801}]      3359   \n",
       "593489                                     [{'id': 1801}]      3359   \n",
       "593499                                     [{'id': 1801}]      3359   \n",
       "593501                        [{'id': 702}, {'id': 1801}]      3359   \n",
       "593503                                     [{'id': 1801}]      3359   \n",
       "...                                                   ...       ...   \n",
       "595053           [{'id': 503}, {'id': 703}, {'id': 1801}]      3359   \n",
       "595055  [{'id': 402}, {'id': 201}, {'id': 1206}, {'id'...      3359   \n",
       "595106           [{'id': 602}, {'id': 702}, {'id': 1801}]      3359   \n",
       "595131                                     [{'id': 1802}]      3359   \n",
       "595225                       [{'id': 1901}, {'id': 1801}]      3359   \n",
       "\n",
       "                                       positions  matchId eventName  teamId  \\\n",
       "593485  [{'y': 87, 'x': 74}, {'y': 91, 'x': 80}]  2565907      Pass     676   \n",
       "593489  [{'y': 87, 'x': 67}, {'y': 71, 'x': 43}]  2565907      Pass     676   \n",
       "593499  [{'y': 66, 'x': 58}, {'y': 78, 'x': 75}]  2565907      Pass     676   \n",
       "593501  [{'y': 67, 'x': 65}, {'y': 38, 'x': 63}]  2565907      Duel     676   \n",
       "593503  [{'y': 38, 'x': 63}, {'y': 43, 'x': 69}]  2565907      Pass     676   \n",
       "...                                          ...      ...       ...     ...   \n",
       "595053  [{'y': 76, 'x': 84}, {'y': 72, 'x': 96}]  2565907      Duel     676   \n",
       "595055    [{'y': 72, 'x': 96}, {'y': 0, 'x': 0}]  2565907      Shot     676   \n",
       "595106  [{'y': 83, 'x': 44}, {'y': 93, 'x': 36}]  2565907      Duel     676   \n",
       "595131   [{'y': 8, 'x': 44}, {'y': 42, 'x': 63}]  2565907      Pass     676   \n",
       "595225  [{'y': 47, 'x': 39}, {'y': 57, 'x': 46}]  2565907      Pass     676   \n",
       "\n",
       "       matchPeriod     eventSec subEventId         id  \n",
       "593485          1H    85.701277         85  249644574  \n",
       "593489          1H    92.114223         85  249644578  \n",
       "593499          1H   117.241765         85  249644587  \n",
       "593501          1H   122.168204         11  249644589  \n",
       "593503          1H   124.686582         85  249644590  \n",
       "...            ...          ...        ...        ...  \n",
       "595053          2H  2197.469246         11  249646165  \n",
       "595055          2H  2199.766741        100  249646166  \n",
       "595106          2H  2411.569686         11  249646184  \n",
       "595131          2H  2558.961654         84  249646196  \n",
       "595225          2H  2922.896868         85  249646236  \n",
       "\n",
       "[92 rows x 12 columns]"
      ]
     },
     "execution_count": 26,
     "metadata": {},
     "output_type": "execute_result"
    }
   ],
   "source": [
    "Event_Messi"
   ]
  },
  {
   "cell_type": "code",
   "execution_count": 13,
   "metadata": {},
   "outputs": [],
   "source": [
    "Event_Ronaldo = Event_Ronaldo[(Event_Ronaldo['eventName']=='Duel')|(Event_Ronaldo['eventName']=='Free Kick')|(Event_Ronaldo['eventName']=='Pass')|(Event_Ronaldo['eventName']=='Shot')]\n",
    "Event_Messi = Event_Messi[(Event_Messi['eventName']=='Duel')|(Event_Messi['eventName']=='Free Kick')|(Event_Messi['eventName']=='Pass')|(Event_Messi['eventName']=='Shot')]"
   ]
  },
  {
   "cell_type": "code",
   "execution_count": 14,
   "metadata": {},
   "outputs": [],
   "source": [
    "Positions_Event_Ronaldo =  Event_Ronaldo['positions']\n",
    "Positions_Event_Messi = Event_Messi['positions']"
   ]
  },
  {
   "cell_type": "code",
   "execution_count": 15,
   "metadata": {},
   "outputs": [
    {
     "data": {
      "text/plain": [
       "593473      [{'y': 19, 'x': 49}, {'y': 17, 'x': 49}]\n",
       "593475      [{'y': 17, 'x': 49}, {'y': 19, 'x': 38}]\n",
       "593497      [{'y': 13, 'x': 65}, {'y': 23, 'x': 53}]\n",
       "593552       [{'y': 12, 'x': 93}, {'y': 8, 'x': 97}]\n",
       "593554     [{'y': 8, 'x': 97}, {'y': 100, 'x': 100}]\n",
       "593600      [{'y': 57, 'x': 46}, {'y': 36, 'x': 42}]\n",
       "593601      [{'y': 36, 'x': 42}, {'y': 28, 'x': 42}]\n",
       "593605      [{'y': 14, 'x': 91}, {'y': 14, 'x': 88}]\n",
       "593607    [{'y': 14, 'x': 88}, {'y': 100, 'x': 100}]\n",
       "593628      [{'y': 51, 'x': 93}, {'y': 31, 'x': 90}]\n",
       "593707        [{'y': 8, 'x': 18}, {'y': 9, 'x': 21}]\n",
       "593743      [{'y': 25, 'x': 87}, {'y': 25, 'x': 86}]\n",
       "593745      [{'y': 25, 'x': 86}, {'y': 23, 'x': 90}]\n",
       "593748    [{'y': 51, 'x': 99}, {'y': 100, 'x': 100}]\n",
       "593774      [{'y': 22, 'x': 39}, {'y': 13, 'x': 58}]\n",
       "593789      [{'y': 57, 'x': 66}, {'y': 62, 'x': 57}]\n",
       "593793      [{'y': 63, 'x': 63}, {'y': 65, 'x': 61}]\n",
       "593891      [{'y': 88, 'x': 59}, {'y': 81, 'x': 60}]\n",
       "593931    [{'y': 55, 'x': 93}, {'y': 100, 'x': 100}]\n",
       "593942      [{'y': 97, 'x': 56}, {'y': 92, 'x': 39}]\n",
       "593982    [{'y': 66, 'x': 89}, {'y': 100, 'x': 100}]\n",
       "594007    [{'y': 31, 'x': 87}, {'y': 100, 'x': 100}]\n",
       "594087        [{'y': 7, 'x': 28}, {'y': 8, 'x': 10}]\n",
       "594109       [{'y': 10, 'x': 68}, {'y': 5, 'x': 74}]\n",
       "594112       [{'y': 13, 'x': 76}, {'y': 9, 'x': 68}]\n",
       "594136      [{'y': 60, 'x': 96}, {'y': 87, 'x': 89}]\n",
       "594171      [{'y': 33, 'x': 52}, {'y': 30, 'x': 43}]\n",
       "594180      [{'y': 20, 'x': 69}, {'y': 14, 'x': 68}]\n",
       "594182      [{'y': 26, 'x': 70}, {'y': 43, 'x': 65}]\n",
       "594194      [{'y': 63, 'x': 95}, {'y': 62, 'x': 95}]\n",
       "594195      [{'y': 62, 'x': 95}, {'y': 65, 'x': 96}]\n",
       "594198    [{'y': 65, 'x': 96}, {'y': 100, 'x': 100}]\n",
       "594231      [{'y': 99, 'x': 23}, {'y': 94, 'x': 21}]\n",
       "594265        [{'y': 0, 'x': 28}, {'y': 9, 'x': 42}]\n",
       "594336      [{'y': 44, 'x': 38}, {'y': 98, 'x': 75}]\n",
       "594349    [{'y': 28, 'x': 81}, {'y': 100, 'x': 100}]\n",
       "594353    [{'y': 24, 'x': 88}, {'y': 100, 'x': 100}]\n",
       "Name: positions, dtype: object"
      ]
     },
     "execution_count": 15,
     "metadata": {},
     "output_type": "execute_result"
    }
   ],
   "source": [
    "Positions_Event_Ronaldo"
   ]
  },
  {
   "cell_type": "code",
   "execution_count": 73,
   "metadata": {},
   "outputs": [
    {
     "data": {
      "text/plain": [
       "593485    [{'y': 87, 'x': 74}, {'y': 91, 'x': 80}]\n",
       "593489    [{'y': 87, 'x': 67}, {'y': 71, 'x': 43}]\n",
       "593499    [{'y': 66, 'x': 58}, {'y': 78, 'x': 75}]\n",
       "593501    [{'y': 67, 'x': 65}, {'y': 38, 'x': 63}]\n",
       "593503    [{'y': 38, 'x': 63}, {'y': 43, 'x': 69}]\n",
       "                            ...                   \n",
       "595053    [{'y': 76, 'x': 84}, {'y': 72, 'x': 96}]\n",
       "595055      [{'y': 72, 'x': 96}, {'y': 0, 'x': 0}]\n",
       "595106    [{'y': 83, 'x': 44}, {'y': 93, 'x': 36}]\n",
       "595131     [{'y': 8, 'x': 44}, {'y': 42, 'x': 63}]\n",
       "595225    [{'y': 47, 'x': 39}, {'y': 57, 'x': 46}]\n",
       "Name: positions, Length: 92, dtype: object"
      ]
     },
     "execution_count": 73,
     "metadata": {},
     "output_type": "execute_result"
    }
   ],
   "source": [
    "Positions_Event_Messi"
   ]
  },
  {
   "cell_type": "code",
   "execution_count": 17,
   "metadata": {},
   "outputs": [],
   "source": [
    "def draw_pitch(ax):\n",
    "    # focus on only half of the pitch\n",
    "    #Pitch Outline & Centre Line\n",
    "    Pitch = Rectangle([0,0], width = 120, height = 80, fill = False)\n",
    "    #Left, Right Penalty Area and midline\n",
    "    LeftPenalty = Rectangle([0,22.3], width = 14.6, height = 35.3, fill = False)\n",
    "    RightPenalty = Rectangle([105.4,22.3], width = 14.6, height = 35.3, fill = False)\n",
    "    midline = ConnectionPatch([60,0], [60,80], \"data\", \"data\")\n",
    "\n",
    "    #Left, Right 6-yard Box\n",
    "    LeftSixYard = Rectangle([0,32], width = 4.9, height = 16, fill = False)\n",
    "    RightSixYard = Rectangle([115.1,32], width = 4.9, height = 16, fill = False)\n",
    "\n",
    "\n",
    "    #Prepare Circles\n",
    "    centreCircle = plt.Circle((60,40),8.1,color=\"black\", fill = False)\n",
    "    centreSpot = plt.Circle((60,40),0.71,color=\"black\")\n",
    "    #Penalty spots and Arcs around penalty boxes\n",
    "    leftPenSpot = plt.Circle((9.7,40),0.71,color=\"black\")\n",
    "    rightPenSpot = plt.Circle((110.3,40),0.71,color=\"black\")\n",
    "    leftArc = Arc((9.7,40),height=16.2,width=16.2,angle=0,theta1=310,theta2=50,color=\"black\")\n",
    "    rightArc = Arc((110.3,40),height=16.2,width=16.2,angle=0,theta1=130,theta2=230,color=\"black\")\n",
    "    \n",
    "    element = [Pitch, LeftPenalty, RightPenalty, midline, LeftSixYard, RightSixYard, centreCircle, \n",
    "               centreSpot, rightPenSpot, leftPenSpot, leftArc, rightArc]\n",
    "    for i in element:\n",
    "        ax.add_patch(i)"
   ]
  },
  {
   "cell_type": "code",
   "execution_count": 34,
   "metadata": {},
   "outputs": [
    {
     "data": {
      "text/plain": [
       "<Figure size 432x288 with 0 Axes>"
      ]
     },
     "metadata": {},
     "output_type": "display_data"
    },
    {
     "data": {
      "image/png": "[encoded data removed]",
      "text/plain": [
       "<Figure size 504x360 with 2 Axes>"
      ]
     },
     "metadata": {
      "needs_background": "light"
     },
     "output_type": "display_data"
    },
    {
     "data": {
      "image/png": "[encoded data removed]",
      "text/plain": [
       "<Figure size 504x360 with 1 Axes>"
      ]
     },
     "metadata": {
      "needs_background": "light"
     },
     "output_type": "display_data"
    }
   ],
   "source": [
    "fig=plt.figure() #set up the figures\n",
    "fig, ax = plt.subplots()\n",
    "fig.set_size_inches(7, 5)\n",
    "ax=fig.add_subplot(1,1,1)\n",
    "draw_pitch(ax) #overlay our different objects on the pitch\n",
    "plt.ylim(-2, 82)\n",
    "plt.xlim(-2, 122)\n",
    "plt.axis('off')\n",
    "\n",
    "x_coord = [i[0]['x'] for i in Positions_Event_Ronaldo]\n",
    "y_coord = [i[0]['y'] for i in Positions_Event_Ronaldo]\n",
    "\n",
    "#shades: give us the heat map we desire\n",
    "# n_levels: draw more lines, the larger n, the more blurry it looks\n",
    "seaborn.kdeplot(x_coord, y_coord, shade = \"True\", color = \"green\", n_levels = 30)\n",
    "plt.show()\n",
    "\n",
    "\n",
    "fig=plt.figure() #set up the figures\n",
    "#fig, ax = plt.subplots()\n",
    "fig.set_size_inches(7, 5)\n",
    "ax=fig.add_subplot(1,1,1)\n",
    "draw_pitch(ax) #overlay our different objects on the pitch\n",
    "plt.ylim(-2, 82)\n",
    "plt.xlim(-2, 122)\n",
    "plt.axis('off')\n",
    "\n",
    "x_coord = [i[0]['x'] for i in Positions_Event_Messi]\n",
    "y_coord = [i[0]['y'] for i in Positions_Event_Messi]\n",
    "\n",
    "#shades: give us the heat map we desire\n",
    "# n_levels: draw more lines, the larger n, the more blurry it looks\n",
    "seaborn.kdeplot(x_coord, y_coord, shade = \"True\", color = \"green\", n_levels = 30)\n",
    "plt.show()"
   ]
  },
  {
   "cell_type": "code",
   "execution_count": 25,
   "metadata": {},
   "outputs": [
    {
     "data": {
      "text/plain": [
       "<Figure size 432x288 with 0 Axes>"
      ]
     },
     "metadata": {},
     "output_type": "display_data"
    },
    {
     "data": {
      "image/png": "[encoded data removed]",
      "text/plain": [
       "<Figure size 504x360 with 2 Axes>"
      ]
     },
     "metadata": {
      "needs_background": "light"
     },
     "output_type": "display_data"
    }
   ],
   "source": [
    "fig=plt.figure() #set up the figures\n",
    "fig, ax = plt.subplots()\n",
    "fig.set_size_inches(7, 5)\n",
    "ax=fig.add_subplot(1,1,1)\n",
    "draw_pitch(ax) #overlay our different objects on the pitch\n",
    "plt.ylim(-2, 82)\n",
    "plt.xlim(-2, 122)\n",
    "plt.axis('off')\n",
    "\n",
    "x_coord = [i[0]['x'] for i in Positions_Event_Ronaldo]\n",
    "y_coord = [i[0]['y'] for i in Positions_Event_Ronaldo]\n",
    "\n",
    "#shades: give us the heat map we desire\n",
    "# n_levels: draw more lines, the larger n, the more blurry it looks\n",
    "seaborn.kdeplot(x_coord, y_coord, shade = \"True\", color = \"green\", n_levels = 30)\n",
    "plt.show()"
   ]
  },
  {
   "cell_type": "code",
   "execution_count": 33,
   "metadata": {},
   "outputs": [
    {
     "data": {
      "image/png": "[encoded data removed]",
      "text/plain": [
       "<Figure size 432x288 with 1 Axes>"
      ]
     },
     "metadata": {
      "needs_background": "light"
     },
     "output_type": "display_data"
    },
    {
     "data": {
      "image/png": "[encoded data removed]",
      "text/plain": [
       "<Figure size 504x360 with 1 Axes>"
      ]
     },
     "metadata": {
      "needs_background": "light"
     },
     "output_type": "display_data"
    },
    {
     "data": {
      "image/png": "[encoded data removed]",
      "text/plain": [
       "<Figure size 504x360 with 1 Axes>"
      ]
     },
     "metadata": {
      "needs_background": "light"
     },
     "output_type": "display_data"
    }
   ],
   "source": [
    "plt.subplot(2,2,1)\n",
    "fig=plt.figure() #set up the figures\n",
    "#fig, ax = plt.subplots()\n",
    "fig.set_size_inches(7, 5)\n",
    "ax=fig.add_subplot(1,1,1)\n",
    "draw_pitch(ax) #overlay our different objects on the pitch\n",
    "plt.ylim(-2, 82)\n",
    "plt.xlim(-2, 122)\n",
    "plt.axis('off')\n",
    "\n",
    "x_coord = [i[0]['x'] for i in Positions_Event_Messi]\n",
    "y_coord = [i[0]['y'] for i in Positions_Event_Messi]\n",
    "\n",
    "#shades: give us the heat map we desire\n",
    "# n_levels: draw more lines, the larger n, the more blurry it looks\n",
    "seaborn.kdeplot(x_coord, y_coord, shade = \"True\", color = \"green\", n_levels = 30)\n",
    "plt.subplot(2,2,2)\n",
    "fig=plt.figure() #set up the figures\n",
    "#fig, ax = plt.subplots()\n",
    "fig.set_size_inches(7, 5)\n",
    "ax=fig.add_subplot(1,1,1)\n",
    "draw_pitch(ax) #overlay our different objects on the pitch\n",
    "plt.ylim(-2, 82)\n",
    "plt.xlim(-2, 122)\n",
    "plt.axis('off')\n",
    "\n",
    "x_coord = [i[0]['x'] for i in Positions_Event_Messi]\n",
    "y_coord = [i[0]['y'] for i in Positions_Event_Messi]\n",
    "\n",
    "#shades: give us the heat map we desire\n",
    "# n_levels: draw more lines, the larger n, the more blurry it looks\n",
    "seaborn.kdeplot(x_coord, y_coord, shade = \"True\", color = \"green\", n_levels = 30)\n",
    "plt.show()"
   ]
  },
  {
   "cell_type": "markdown",
   "metadata": {},
   "source": [
    "----"
   ]
  },
  {
   "cell_type": "code",
   "execution_count": 1,
   "metadata": {},
   "outputs": [],
   "source": [
    "import pandas as pd\n",
    "import numpy as np\n",
    "from datetime import datetime\n",
    "import matplotlib.pyplot as plt\n",
    "import matplotlib.cm as cm\n",
    "from matplotlib.patches import Rectangle, ConnectionPatch, Arc\n",
    "import seaborn\n",
    "\n",
    "Players = pd.read_json('players/players.json',encoding = \"utf-8\")\n",
    "Events = pd.read_json('events/events_Italy.json')\n",
    "#Teams = pd.read_json('teams/teams.json')\n",
    "Matches = pd.read_json('matches/matches_Italy.json')"
   ]
  },
  {
   "cell_type": "code",
   "execution_count": 14,
   "metadata": {},
   "outputs": [],
   "source": [
    "Match_Juventus_Napoli = Matches[Matches['label'] == 'Juventus - Napoli, 0 - 1'].iloc[0]\n",
    "id_Match_Juventus_Napoli = Match_Juventus_Napoli['wyId']\n",
    "\n",
    "Player_Jorginho = Players[Players['shortName']=='Jorginho'].iloc[0]\n",
    "id_Jorginho = Player_Jorginho['wyId']\n",
    "Player_Miralem_Pjanic = Players[Players['firstName']=='Miralem'].iloc[0]\n",
    "id_Miralem_Pjanic = Player_Miralem_Pjanic['wyId']"
   ]
  },
  {
   "cell_type": "code",
   "execution_count": 15,
   "metadata": {},
   "outputs": [],
   "source": [
    "Event_Jorginho = Events[(Events['playerId']==id_Jorginho)&(Events['matchId']==id_Match_Juventus_Napoli)]\n",
    "Event_Miralem_Pjanic = Events[(Events['playerId']==id_Miralem_Pjanic)&(Events['matchId']==id_Match_Juventus_Napoli)]"
   ]
  },
  {
   "cell_type": "code",
   "execution_count": 33,
   "metadata": {},
   "outputs": [],
   "source": [
    "Pass_Jorginho = Event_Jorginho[Event_Jorginho['eventName']=='Pass']\n",
    "Accurate_Pass_Jorginho_list = [] # list contain the row with 1801 tag\n",
    "for x in range(len(Pass_Jorginho['tags'])):\n",
    "    if {'id': 1801} in Pass_Jorginho.tags.iloc[x]:\n",
    "        Accurate_Pass_Jorginho_list.append(Pass_Jorginho.iloc[x])\n",
    "Accurate_Pass_Jorginho = pd.DataFrame(Accurate_Pass_Jorginho_list)\n",
    "Pass_Miralem_Pjanic = Event_Miralem_Pjanic[Event_Miralem_Pjanic['eventName']=='Pass']\n",
    "Accurate_Pass_Miralem_Pjanic_list = [] # list contain the row with 1801 tag\n",
    "for x in range(len(Pass_Miralem_Pjanic['tags'])):\n",
    "    if {'id': 1801} in Pass_Miralem_Pjanic.tags.iloc[x]:\n",
    "        Accurate_Pass_Miralem_Pjanic_list.append(Pass_Miralem_Pjanic.iloc[x])\n",
    "Accurate_Pass_Miralem_Pjanic = pd.DataFrame(Accurate_Pass_Miralem_Pjanic_list)"
   ]
  },
  {
   "cell_type": "code",
   "execution_count": 35,
   "metadata": {},
   "outputs": [],
   "source": [
    "Positions_Pass_Jorginho = Pass_Jorginho['positions']\n",
    "Positions_Accurate_Pass_Jorginho = Accurate_Pass_Jorginho['positions']\n",
    "Positions_Pass_Miralem_Pjanic = Pass_Miralem_Pjanic['positions']\n",
    "Positions_Accurate_Pass_Miralem_Pjanic = Accurate_Pass_Miralem_Pjanic['positions']"
   ]
  },
  {
   "cell_type": "code",
   "execution_count": 36,
   "metadata": {},
   "outputs": [
    {
     "data": {
      "text/plain": [
       "573145    [{'y': 75, 'x': 47}, {'y': 71, 'x': 62}]\n",
       "573164    [{'y': 44, 'x': 71}, {'y': 42, 'x': 69}]\n",
       "573188    [{'y': 72, 'x': 47}, {'y': 96, 'x': 61}]\n",
       "573231    [{'y': 28, 'x': 57}, {'y': 33, 'x': 77}]\n",
       "573237    [{'y': 25, 'x': 61}, {'y': 13, 'x': 74}]\n",
       "                            ...                   \n",
       "574658    [{'y': 26, 'x': 20}, {'y': 10, 'x': 31}]\n",
       "574736    [{'y': 17, 'x': 67}, {'y': 14, 'x': 77}]\n",
       "574738    [{'y': 23, 'x': 67}, {'y': 17, 'x': 69}]\n",
       "574742    [{'y': 28, 'x': 71}, {'y': 21, 'x': 71}]\n",
       "574769    [{'y': 45, 'x': 67}, {'y': 11, 'x': 80}]\n",
       "Name: positions, Length: 114, dtype: object"
      ]
     },
     "execution_count": 36,
     "metadata": {},
     "output_type": "execute_result"
    }
   ],
   "source": [
    "Positions_Pass_Jorginho"
   ]
  },
  {
   "cell_type": "code",
   "execution_count": 27,
   "metadata": {},
   "outputs": [
    {
     "data": {
      "text/plain": [
       "573105     [{'y': 55, 'x': 28}, {'y': 2, 'x': 39}]\n",
       "573107    [{'y': 30, 'x': 31}, {'y': 84, 'x': 31}]\n",
       "573126    [{'y': 62, 'x': 63}, {'y': 47, 'x': 63}]\n",
       "573220     [{'y': 26, 'x': 25}, {'y': 0, 'x': 31}]\n",
       "573225    [{'y': 51, 'x': 26}, {'y': 76, 'x': 13}]\n",
       "573234    [{'y': 62, 'x': 21}, {'y': 82, 'x': 30}]\n",
       "573247    [{'y': 36, 'x': 17}, {'y': 22, 'x': 13}]\n",
       "573256      [{'y': 7, 'x': 61}, {'y': 3, 'x': 71}]\n",
       "573258     [{'y': 5, 'x': 65}, {'y': 17, 'x': 65}]\n",
       "573267    [{'y': 44, 'x': 47}, {'y': 42, 'x': 51}]\n",
       "573268    [{'y': 42, 'x': 51}, {'y': 18, 'x': 41}]\n",
       "573291    [{'y': 81, 'x': 48}, {'y': 63, 'x': 46}]\n",
       "573293    [{'y': 76, 'x': 43}, {'y': 30, 'x': 37}]\n",
       "573302     [{'y': 77, 'x': 42}, {'y': 4, 'x': 91}]\n",
       "573317    [{'y': 44, 'x': 55}, {'y': 15, 'x': 47}]\n",
       "573334      [{'y': 2, 'x': 54}, {'y': 5, 'x': 64}]\n",
       "573342     [{'y': 26, 'x': 47}, {'y': 1, 'x': 66}]\n",
       "573449    [{'y': 48, 'x': 41}, {'y': 35, 'x': 53}]\n",
       "573586    [{'y': 59, 'x': 26}, {'y': 34, 'x': 38}]\n",
       "573617    [{'y': 14, 'x': 45}, {'y': 44, 'x': 27}]\n",
       "573660    [{'y': 86, 'x': 55}, {'y': 93, 'x': 61}]\n",
       "573662    [{'y': 83, 'x': 61}, {'y': 94, 'x': 63}]\n",
       "573665    [{'y': 88, 'x': 63}, {'y': 87, 'x': 66}]\n",
       "573774    [{'y': 46, 'x': 26}, {'y': 15, 'x': 31}]\n",
       "573923    [{'y': 24, 'x': 49}, {'y': 18, 'x': 43}]\n",
       "573953    [{'y': 50, 'x': 47}, {'y': 46, 'x': 37}]\n",
       "574005    [{'y': 47, 'x': 22}, {'y': 42, 'x': 27}]\n",
       "574015    [{'y': 24, 'x': 43}, {'y': 16, 'x': 62}]\n",
       "574107    [{'y': 30, 'x': 72}, {'y': 30, 'x': 82}]\n",
       "574160    [{'y': 46, 'x': 29}, {'y': 58, 'x': 29}]\n",
       "574327    [{'y': 23, 'x': 63}, {'y': 33, 'x': 47}]\n",
       "574354    [{'y': 67, 'x': 41}, {'y': 29, 'x': 32}]\n",
       "574382     [{'y': 74, 'x': 19}, {'y': 90, 'x': 1}]\n",
       "574420    [{'y': 28, 'x': 58}, {'y': 25, 'x': 63}]\n",
       "574496    [{'y': 64, 'x': 24}, {'y': 98, 'x': 25}]\n",
       "574505    [{'y': 23, 'x': 47}, {'y': 61, 'x': 36}]\n",
       "574516    [{'y': 39, 'x': 68}, {'y': 54, 'x': 64}]\n",
       "574566    [{'y': 39, 'x': 66}, {'y': 98, 'x': 66}]\n",
       "574642    [{'y': 20, 'x': 34}, {'y': 46, 'x': 49}]\n",
       "574704    [{'y': 35, 'x': 26}, {'y': 26, 'x': 17}]\n",
       "574723    [{'y': 57, 'x': 26}, {'y': 43, 'x': 29}]\n",
       "574778    [{'y': 50, 'x': 50}, {'y': 51, 'x': 34}]\n",
       "574794    [{'y': 44, 'x': 47}, {'y': 63, 'x': 45}]\n",
       "574820    [{'y': 64, 'x': 73}, {'y': 97, 'x': 72}]\n",
       "Name: positions, dtype: object"
      ]
     },
     "execution_count": 27,
     "metadata": {},
     "output_type": "execute_result"
    }
   ],
   "source": [
    "Positions_Pass_Miralem_Pjanic"
   ]
  },
  {
   "cell_type": "code",
   "execution_count": 37,
   "metadata": {},
   "outputs": [
    {
     "data": {
      "text/plain": [
       "573145    [{'y': 75, 'x': 47}, {'y': 71, 'x': 62}]\n",
       "573188    [{'y': 72, 'x': 47}, {'y': 96, 'x': 61}]\n",
       "573231    [{'y': 28, 'x': 57}, {'y': 33, 'x': 77}]\n",
       "573237    [{'y': 25, 'x': 61}, {'y': 13, 'x': 74}]\n",
       "573242    [{'y': 23, 'x': 64}, {'y': 20, 'x': 71}]\n",
       "                            ...                   \n",
       "574638    [{'y': 87, 'x': 43}, {'y': 83, 'x': 67}]\n",
       "574736    [{'y': 17, 'x': 67}, {'y': 14, 'x': 77}]\n",
       "574738    [{'y': 23, 'x': 67}, {'y': 17, 'x': 69}]\n",
       "574742    [{'y': 28, 'x': 71}, {'y': 21, 'x': 71}]\n",
       "574769    [{'y': 45, 'x': 67}, {'y': 11, 'x': 80}]\n",
       "Name: positions, Length: 98, dtype: object"
      ]
     },
     "execution_count": 37,
     "metadata": {},
     "output_type": "execute_result"
    }
   ],
   "source": [
    "Positions_Accurate_Pass_Jorginho"
   ]
  },
  {
   "cell_type": "code",
   "execution_count": 42,
   "metadata": {},
   "outputs": [
    {
     "data": {
      "text/plain": [
       "573105     [{'y': 55, 'x': 28}, {'y': 2, 'x': 39}]\n",
       "573107    [{'y': 30, 'x': 31}, {'y': 84, 'x': 31}]\n",
       "573126    [{'y': 62, 'x': 63}, {'y': 47, 'x': 63}]\n",
       "573225    [{'y': 51, 'x': 26}, {'y': 76, 'x': 13}]\n",
       "573234    [{'y': 62, 'x': 21}, {'y': 82, 'x': 30}]\n",
       "573247    [{'y': 36, 'x': 17}, {'y': 22, 'x': 13}]\n",
       "573256      [{'y': 7, 'x': 61}, {'y': 3, 'x': 71}]\n",
       "573258     [{'y': 5, 'x': 65}, {'y': 17, 'x': 65}]\n",
       "573267    [{'y': 44, 'x': 47}, {'y': 42, 'x': 51}]\n",
       "573268    [{'y': 42, 'x': 51}, {'y': 18, 'x': 41}]\n",
       "573291    [{'y': 81, 'x': 48}, {'y': 63, 'x': 46}]\n",
       "573293    [{'y': 76, 'x': 43}, {'y': 30, 'x': 37}]\n",
       "573302     [{'y': 77, 'x': 42}, {'y': 4, 'x': 91}]\n",
       "573317    [{'y': 44, 'x': 55}, {'y': 15, 'x': 47}]\n",
       "573334      [{'y': 2, 'x': 54}, {'y': 5, 'x': 64}]\n",
       "573342     [{'y': 26, 'x': 47}, {'y': 1, 'x': 66}]\n",
       "573449    [{'y': 48, 'x': 41}, {'y': 35, 'x': 53}]\n",
       "573586    [{'y': 59, 'x': 26}, {'y': 34, 'x': 38}]\n",
       "573617    [{'y': 14, 'x': 45}, {'y': 44, 'x': 27}]\n",
       "573660    [{'y': 86, 'x': 55}, {'y': 93, 'x': 61}]\n",
       "573662    [{'y': 83, 'x': 61}, {'y': 94, 'x': 63}]\n",
       "573665    [{'y': 88, 'x': 63}, {'y': 87, 'x': 66}]\n",
       "573774    [{'y': 46, 'x': 26}, {'y': 15, 'x': 31}]\n",
       "573923    [{'y': 24, 'x': 49}, {'y': 18, 'x': 43}]\n",
       "573953    [{'y': 50, 'x': 47}, {'y': 46, 'x': 37}]\n",
       "574005    [{'y': 47, 'x': 22}, {'y': 42, 'x': 27}]\n",
       "574015    [{'y': 24, 'x': 43}, {'y': 16, 'x': 62}]\n",
       "574107    [{'y': 30, 'x': 72}, {'y': 30, 'x': 82}]\n",
       "574160    [{'y': 46, 'x': 29}, {'y': 58, 'x': 29}]\n",
       "574327    [{'y': 23, 'x': 63}, {'y': 33, 'x': 47}]\n",
       "574354    [{'y': 67, 'x': 41}, {'y': 29, 'x': 32}]\n",
       "574382     [{'y': 74, 'x': 19}, {'y': 90, 'x': 1}]\n",
       "574420    [{'y': 28, 'x': 58}, {'y': 25, 'x': 63}]\n",
       "574496    [{'y': 64, 'x': 24}, {'y': 98, 'x': 25}]\n",
       "574505    [{'y': 23, 'x': 47}, {'y': 61, 'x': 36}]\n",
       "574516    [{'y': 39, 'x': 68}, {'y': 54, 'x': 64}]\n",
       "574566    [{'y': 39, 'x': 66}, {'y': 98, 'x': 66}]\n",
       "574642    [{'y': 20, 'x': 34}, {'y': 46, 'x': 49}]\n",
       "574704    [{'y': 35, 'x': 26}, {'y': 26, 'x': 17}]\n",
       "574723    [{'y': 57, 'x': 26}, {'y': 43, 'x': 29}]\n",
       "574778    [{'y': 50, 'x': 50}, {'y': 51, 'x': 34}]\n",
       "574794    [{'y': 44, 'x': 47}, {'y': 63, 'x': 45}]\n",
       "574820    [{'y': 64, 'x': 73}, {'y': 97, 'x': 72}]\n",
       "Name: positions, dtype: object"
      ]
     },
     "execution_count": 42,
     "metadata": {},
     "output_type": "execute_result"
    }
   ],
   "source": [
    "Positions_Accurate_Pass_Miralem_Pjanic"
   ]
  },
  {
   "cell_type": "code",
   "execution_count": null,
   "metadata": {},
   "outputs": [],
   "source": []
  }
 ],
 "metadata": {
  "kernelspec": {
   "display_name": "Python 3",
   "language": "python",
   "name": "python3"
  },
  "language_info": {
   "codemirror_mode": {
    "name": "ipython",
    "version": 3
   },
   "file_extension": ".py",
   "mimetype": "text/x-python",
   "name": "python",
   "nbconvert_exporter": "python",
   "pygments_lexer": "ipython3",
   "version": "3.7.4"
  }
 },
 "nbformat": 4,
 "nbformat_minor": 4
}
