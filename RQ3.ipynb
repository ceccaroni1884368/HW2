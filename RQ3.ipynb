{
 "cells": [
  {
   "cell_type": "code",
   "execution_count": 1,
   "metadata": {},
   "outputs": [],
   "source": [
    "import pandas as pd\n",
    "import numpy as np\n",
    "from datetime import datetime, date\n",
    "import matplotlib.pyplot as plt\n",
    "import matplotlib.cm as cm\n",
    "\n",
    "Coaches = pd.read_json('coaches/coaches.json')\n",
    "Players = pd.read_json('players/players.json')\n",
    "Events = pd.read_json('events/events_England.json')\n",
    "Teams = pd.read_json('teams/teams.json')\n",
    "Matches = pd.read_json('matches/matches_England.json')"
   ]
  },
  {
   "cell_type": "code",
   "execution_count": 2,
   "metadata": {},
   "outputs": [],
   "source": [
    "# Add column 'Nation' on Teams\n",
    "Nation = pd.DataFrame([x['name'] for x in Teams['area']],columns=['Nation'])\n",
    "Teams = pd.merge(Teams, Nation, left_index=True, right_index=True)\n",
    "Teams_England = Teams[((Teams['Nation'] == 'England') | (Teams['Nation'] == 'Wales')) & (Teams['type'] == 'club')]"
   ]
  },
  {
   "cell_type": "code",
   "execution_count": 3,
   "metadata": {},
   "outputs": [],
   "source": [
    "# Add column 'Age' on Coaches\n",
    "current_date = datetime.now().date()\n",
    "Age = []\n",
    "for x in Coaches['birthDate']:\n",
    "    # because some coach doesn't have the birthDate\n",
    "    try:\n",
    "        Age.append(int((current_date - date.fromisoformat(x)).days // 365))\n",
    "    except:\n",
    "        Age.append(0)\n",
    "Age = pd.DataFrame(Age, columns=['Age'], dtype=int)\n",
    "Coaches = pd.merge(Coaches, Age, left_index=True, right_index=True)"
   ]
  },
  {
   "cell_type": "code",
   "execution_count": 4,
   "metadata": {},
   "outputs": [],
   "source": [
    "# check teams coaches in Matches and create pandas dataframe Coaches_Teams_England\n",
    "teams_coaches = []\n",
    "# for every matches we take the coach and put it in teams_coaches\n",
    "for x in (Matches['teamsData']):\n",
    "    for y in x:\n",
    "        teams_coaches.append({'Team':x[y]['teamId'], 'Coach':x[y]['coachId']})\n",
    "teams_coaches = pd.DataFrame(teams_coaches)\n",
    "\n",
    "# merge coaches with teams_coaches\n",
    "Coaches_Teams_England = pd.merge(teams_coaches, Coaches[['currentTeamId', 'birthDate','Age','wyId']], left_on='Coach', right_on='wyId')\n",
    "#merge Teams with Coaches_teams_England\n",
    "Coaches_Teams_England = pd.merge(Coaches_Teams_England, Teams_England[['wyId', 'officialName']], left_on='Team', right_on='wyId' )\n",
    "\n",
    "'''\n",
    "Clean DataFrame:\n",
    "1) remove duplicate row\n",
    "2) sort by birthDate\n",
    "3) remove duplicate row with the same officialName and keep last == the youngest coach\n",
    "''' \n",
    "Coaches_Teams_England = Coaches_Teams_England.drop_duplicates()\n",
    "Coaches_Teams_England = Coaches_Teams_England.sort_values(by=['birthDate'])\n",
    "Coaches_Teams_England = Coaches_Teams_England.drop_duplicates(subset='officialName', keep=\"last\")"
   ]
  },
  {
   "cell_type": "code",
   "execution_count": 5,
   "metadata": {},
   "outputs": [
    {
     "name": "stdout",
     "output_type": "stream",
     "text": [
      "Burnley FC\n",
      "Southampton FC\n",
      "Huddersfield Town FC\n",
      "Swansea City AFC\n",
      "Tottenham Hotspur FC\n",
      "Newcastle United FC\n",
      "Everton FC\n",
      "Leicester City FC\n",
      "Watford FC\n",
      "AFC Bournemouth\n"
     ]
    }
   ],
   "source": [
    "# Print the 10 teams with the youngest coaches\n",
    "Teams_young_Coaches = Coaches_Teams_England.sort_values(by=['birthDate']).iloc[-10:]\n",
    "print('\\n'.join(list(Teams_young_Coaches['officialName'])))"
   ]
  },
  {
   "cell_type": "code",
   "execution_count": 6,
   "metadata": {},
   "outputs": [
    {
     "data": {
      "image/png": "[encoded data removed]",
      "text/plain": [
       "<Figure size 432x288 with 1 Axes>"
      ]
     },
     "metadata": {
      "needs_background": "light"
     },
     "output_type": "display_data"
    }
   ],
   "source": [
    "#Print Age boxplot\n",
    "Coaches_Teams_England.boxplot(column=\"Age\")\n",
    "plt.show()"
   ]
  },
  {
   "cell_type": "code",
   "execution_count": null,
   "metadata": {},
   "outputs": [],
   "source": []
  },
  {
   "cell_type": "code",
   "execution_count": null,
   "metadata": {},
   "outputs": [],
   "source": []
  },
  {
   "cell_type": "code",
   "execution_count": null,
   "metadata": {},
   "outputs": [],
   "source": []
  },
  {
   "cell_type": "code",
   "execution_count": null,
   "metadata": {},
   "outputs": [],
   "source": []
  }
 ],
 "metadata": {
  "kernelspec": {
   "display_name": "Python 3",
   "language": "python",
   "name": "python3"
  },
  "language_info": {
   "codemirror_mode": {
    "name": "ipython",
    "version": 3
   },
   "file_extension": ".py",
   "mimetype": "text/x-python",
   "name": "python",
   "nbconvert_exporter": "python",
   "pygments_lexer": "ipython3",
   "version": "3.7.4"
  }
 },
 "nbformat": 4,
 "nbformat_minor": 4
}
