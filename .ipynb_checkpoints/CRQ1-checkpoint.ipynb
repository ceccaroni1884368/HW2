{
 "cells": [
  {
   "cell_type": "code",
   "execution_count": 36,
   "metadata": {},
   "outputs": [],
   "source": [
    "import pandas as pd\n",
    "import numpy as np\n",
    "from datetime import datetime\n",
    "import matplotlib.pyplot as plt; plt.rcdefaults()\n",
    "import matplotlib.cm as cm\n",
    "import matplotlib.pyplot as plt\n",
    "import operator\n",
    "\n",
    "Coaches = pd.read_json('coaches/coaches.json')\n",
    "Players = pd.read_json('players/players.json',encoding = \"utf-8\")\n",
    "Events = pd.read_json('events/events_England.json')\n",
    "Teams = pd.read_json('teams/teams.json')\n",
    "Matches = pd.read_json('matches/matches_England.json')"
   ]
  },
  {
   "cell_type": "code",
   "execution_count": 37,
   "metadata": {},
   "outputs": [],
   "source": [
    "# CREATE CRQ1_df DataFrame with only goals event with playerId,teamId, 'matchPeriod', 'eventSec'\n",
    "CRQ1_df = Events[['tags', 'playerId', 'teamId', 'matchPeriod', 'eventSec']]\n",
    "\n",
    "CRQ1_list = [] # list contain the row with 101 tag\n",
    "for x in range(len(Events['tags'])):\n",
    "    if {'id': 101} in CRQ1_df.tags[x]:\n",
    "        CRQ1_list.append(CRQ1_df.iloc[x]) # append row with 101 tag at CRQ1_list\n",
    "CRQ1_df = pd.DataFrame(CRQ1_list) # dataset with only goals event\n",
    "CRQ1_df.index = range(len(CRQ1_df.index)) # set index\n",
    "CRQ1_df = CRQ1_df[['playerId','teamId','matchPeriod', 'eventSec']] # remove column 'tag'"
   ]
  },
  {
   "cell_type": "code",
   "execution_count": 41,
   "metadata": {},
   "outputs": [],
   "source": [
    "# Divide time to interval\n",
    "import intervals as I\n",
    "CRQ1_df['matchPeriod'].to_string\n",
    "pd.set_option('mode.chained_assignment', None)\n",
    "for x in range(len(CRQ1_df['eventSec'])):\n",
    "    if CRQ1_df['matchPeriod'][x] == '1H':\n",
    "        if (CRQ1_df['eventSec'].iloc[x]/60) in I.IntInterval.closed_open(0,9):\n",
    "            CRQ1_df['matchPeriod'].iloc[x] = '[0-09)'\n",
    "        elif (CRQ1_df['eventSec'].iloc[x]/60) in I.IntInterval.closed_open(9,18):\n",
    "            CRQ1_df['matchPeriod'].iloc[x] = '[09-18)'\n",
    "        elif (CRQ1_df['eventSec'].iloc[x]/60) in I.IntInterval.closed_open(18,27):\n",
    "            CRQ1_df['matchPeriod'].iloc[x] = '[18-27)'\n",
    "        elif (CRQ1_df['eventSec'].iloc[x]/60) in I.IntInterval.closed_open(27,36):\n",
    "            CRQ1_df['matchPeriod'].iloc[x] = '[27-36)'\n",
    "        elif (CRQ1_df['eventSec'].iloc[x]/60) in I.IntInterval.closed_open(36,45):\n",
    "            CRQ1_df['matchPeriod'].iloc[x] = '[36-45)'\n",
    "        elif (CRQ1_df['eventSec'].iloc[x]/60) >= 45:\n",
    "            CRQ1_df['matchPeriod'].iloc[x] = '[45+)'\n",
    "    elif CRQ1_df['matchPeriod'][x] == '2H':\n",
    "        if (CRQ1_df['eventSec'].iloc[x]/60) in I.IntInterval.closed_open(0,9):\n",
    "            CRQ1_df['matchPeriod'].iloc[x] = '[45-54)'\n",
    "        elif (CRQ1_df['eventSec'].iloc[x]/60) in I.IntInterval.closed_open(9,18):\n",
    "            CRQ1_df['matchPeriod'].iloc[x] = '[54-63)'\n",
    "        elif (CRQ1_df['eventSec'].iloc[x]/60) in I.IntInterval.closed_open(18,27):\n",
    "            CRQ1_df['matchPeriod'].iloc[x] = '[63-72)'\n",
    "        elif (CRQ1_df['eventSec'].iloc[x]/60) in I.IntInterval.closed_open(27,36):\n",
    "            CRQ1_df['matchPeriod'].iloc[x] = '[72-81)'\n",
    "        elif (CRQ1_df['eventSec'].iloc[x]/60) in I.IntInterval.closed_open(36,46):\n",
    "            CRQ1_df['matchPeriod'].iloc[x] = '[81-90)'\n",
    "        elif (CRQ1_df['eventSec'].iloc[x]/60) >= 45:\n",
    "            CRQ1_df['matchPeriod'].iloc[x] = '[90+)'\n",
    "    elif CRQ1_df['matchPeriod'][x] == 'E1':\n",
    "         CRQ1_df['matchPeriod'].iloc[x] = '[45+)'\n",
    "    elif CRQ1_df['matchPeriod'][x] == 'E2':\n",
    "         CRQ1_df['matchPeriod'].iloc[x] = '[90+)'\n",
    "    else:\n",
    "        pass\n"
   ]
  },
  {
   "cell_type": "code",
   "execution_count": 42,
   "metadata": {},
   "outputs": [],
   "source": [
    "CRQ1_df = CRQ1_df[['playerId','teamId','matchPeriod']] # delete 'eventSec'"
   ]
  },
  {
   "cell_type": "code",
   "execution_count": 49,
   "metadata": {},
   "outputs": [],
   "source": [
    "# Sorted intervl period and count numbers of same interval\n",
    "interval = sorted(list(set(list(CRQ1_df['matchPeriod']))))\n",
    "count_interval = []\n",
    "for x in interval:\n",
    "    count_interval.append(len(CRQ1_df[CRQ1_df['matchPeriod']==x]))"
   ]
  },
  {
   "cell_type": "code",
   "execution_count": 111,
   "metadata": {},
   "outputs": [
    {
     "data": {
      "image/png": "[encoded data removed]",
      "text/plain": [
       "<Figure size 1800x500 with 1 Axes>"
      ]
     },
     "metadata": {},
     "output_type": "display_data"
    }
   ],
   "source": [
    "# Show bar plot\n",
    "f, ax = plt.subplots(figsize=(18,5)) # set the size that you'd like (width, height)\n",
    "plt.bar(interval, count_interval, label = 'Goals')\n",
    "\n",
    "ax.legend(fontsize = 14)\n",
    "plt.show()"
   ]
  },
  {
   "cell_type": "code",
   "execution_count": 76,
   "metadata": {},
   "outputs": [],
   "source": [
    "# Create DataFrame by interval of 81-90 and sorted it\n",
    "Team_81_90 =CRQ1_df[CRQ1_df['matchPeriod']=='[81-90)']\n",
    "team_81_90 = sorted(list(set(list(Team_81_90['teamId']))))"
   ]
  },
  {
   "cell_type": "code",
   "execution_count": 81,
   "metadata": {},
   "outputs": [],
   "source": [
    "# count numbers of goals in interval of 81-90 for each team\n",
    "count_team_81_90 = {}\n",
    "for x in team_81_90:\n",
    "    count_team_81_90.update({x:len(Team_81_90[Team_81_90['teamId']==x])})"
   ]
  },
  {
   "cell_type": "code",
   "execution_count": 115,
   "metadata": {},
   "outputs": [],
   "source": [
    "# sorted dictionary of teams and goals number by goal numbers\n",
    "count_team_81_90\n",
    "sorted_count_team_81_90 = sorted(count_team_81_90.items(), key=operator.itemgetter(1))"
   ]
  },
  {
   "cell_type": "code",
   "execution_count": 114,
   "metadata": {},
   "outputs": [],
   "source": [
    "#create a list team for find the top 10 teams score the most in interval 81-90\n",
    "list_Teams=[]\n",
    "for x in sorted_count_team_81_90[-10:]:\n",
    "    list_Teams.append(x[0])"
   ]
  },
  {
   "cell_type": "code",
   "execution_count": 116,
   "metadata": {},
   "outputs": [
    {
     "name": "stdout",
     "output_type": "stream",
     "text": [
      "Manchester United FC\n",
      "Everton FC\n",
      "AFC Bournemouth\n",
      "Chelsea FC\n",
      "Liverpool FC\n",
      "Crystal Palace FC\n",
      "West Ham United FC\n",
      "Arsenal FC\n",
      "Manchester City FC\n",
      "Watford FC\n"
     ]
    }
   ],
   "source": [
    "#top 10 teams score the most in interval 81-90\n",
    "for x in list_Teams:\n",
    "    print(Teams[Teams['wyId']==x]['officialName'].iloc[0])"
   ]
  },
  {
   "cell_type": "code",
   "execution_count": 117,
   "metadata": {},
   "outputs": [
    {
     "name": "stdout",
     "output_type": "stream",
     "text": [
      "\\u00c1lvaro Morata\n",
      "T. Courtois\n",
      "Adri\\u00e1n\n",
      "\\u0141. Fabia\\u0144ski\n",
      "P. \\u010cech\n",
      "R. Lukaku\n",
      "David de Gea\n",
      "R. Elliot\n",
      "J. Butland\n",
      "Gomes\n",
      "J. Hart\n",
      "B. Foster\n",
      "J. Speroni\n",
      "W. Zaha\n",
      "W. Hennessey\n",
      "K. Schmeichel\n",
      "S. Mignolet\n",
      "A. McCarthy\n",
      "H. Kane\n",
      "A. Begovi\\u0107\n",
      "J. Pickford\n",
      "R. Sterling\n",
      "N. Pope\n",
      "J. Vardy\n",
      "M. Arnautovi\\u0107\n",
      "L. Karius\n",
      "Roberto Firmino\n",
      "H. Lloris\n",
      "A. Lacazette\n",
      "R. Mahrez\n",
      "J. L\\u00f6ssl\n",
      "M. Ryan\n",
      "F. Forster\n",
      "Ederson\n",
      "O. Karnezis\n",
      "Mohamed Salah\n",
      "Gabriel Jesus\n"
     ]
    }
   ],
   "source": [
    "#create a sorted list of player id and find players that were able to score at least one goal in 8 different intervals.\n",
    "list_player = sorted(list(set(list(CRQ1_df['playerId']))))\n",
    "player_8_different_interval=[]\n",
    "for x in list_player:\n",
    "    if len(set(list(CRQ1_df[CRQ1_df['playerId']==x]['matchPeriod'])))>=8:\n",
    "        player_8_different_interval.append(x)\n",
    "for x in player_8_different_interval:#range(len(Teams)):\n",
    "    print(Players[Players['wyId']==x]['shortName'].iloc[0])"
   ]
  },
  {
   "cell_type": "code",
   "execution_count": null,
   "metadata": {},
   "outputs": [],
   "source": []
  },
  {
   "cell_type": "code",
   "execution_count": null,
   "metadata": {},
   "outputs": [],
   "source": []
  },
  {
   "cell_type": "code",
   "execution_count": 21,
   "metadata": {},
   "outputs": [],
   "source": []
  },
  {
   "cell_type": "code",
   "execution_count": null,
   "metadata": {},
   "outputs": [],
   "source": []
  },
  {
   "cell_type": "code",
   "execution_count": null,
   "metadata": {},
   "outputs": [],
   "source": []
  },
  {
   "cell_type": "code",
   "execution_count": null,
   "metadata": {},
   "outputs": [],
   "source": []
  },
  {
   "cell_type": "code",
   "execution_count": null,
   "metadata": {},
   "outputs": [],
   "source": []
  },
  {
   "cell_type": "code",
   "execution_count": null,
   "metadata": {},
   "outputs": [],
   "source": [
    "import json\n",
    "from pandas.io.json import json_normalize\n",
    "\n",
    "with open('./Germany_Korea.json') as data_file:    \n",
    "    data = json.load(data_file)\n",
    "df = json_normalize(data, sep = \"_\")"
   ]
  },
  {
   "cell_type": "code",
   "execution_count": 15,
   "metadata": {},
   "outputs": [],
   "source": [
    "from matplotlib.patches import Rectangle, ConnectionPatch, Arc\n",
    "def draw_pitch(ax):\n",
    "    # focus on only half of the pitch\n",
    "    #Pitch Outline & Centre Line\n",
    "    Pitch = Rectangle([0,0], width = 120, height = 80, fill = False)\n",
    "    #Left, Right Penalty Area and midline\n",
    "    LeftPenalty = Rectangle([0,22.3], width = 14.6, height = 35.3, fill = False)\n",
    "    RightPenalty = Rectangle([105.4,22.3], width = 14.6, height = 35.3, fill = False)\n",
    "    midline = ConnectionPatch([60,0], [60,80], \"data\", \"data\")\n",
    "\n",
    "    #Left, Right 6-yard Box\n",
    "    LeftSixYard = Rectangle([0,32], width = 4.9, height = 16, fill = False)\n",
    "    RightSixYard = Rectangle([115.1,32], width = 4.9, height = 16, fill = False)\n",
    "\n",
    "\n",
    "    #Prepare Circles\n",
    "    centreCircle = plt.Circle((60,40),8.1,color=\"black\", fill = False)\n",
    "    centreSpot = plt.Circle((60,40),0.71,color=\"black\")\n",
    "    #Penalty spots and Arcs around penalty boxes\n",
    "    leftPenSpot = plt.Circle((9.7,40),0.71,color=\"black\")\n",
    "    rightPenSpot = plt.Circle((110.3,40),0.71,color=\"black\")\n",
    "    leftArc = Arc((9.7,40),height=16.2,width=16.2,angle=0,theta1=310,theta2=50,color=\"black\")\n",
    "    rightArc = Arc((110.3,40),height=16.2,width=16.2,angle=0,theta1=130,theta2=230,color=\"black\")\n",
    "    \n",
    "    element = [Pitch, LeftPenalty, RightPenalty, midline, LeftSixYard, RightSixYard, centreCircle, \n",
    "               centreSpot, rightPenSpot, leftPenSpot, leftArc, rightArc]\n",
    "    for i in element:\n",
    "        ax.add_patch(i)"
   ]
  },
  {
   "cell_type": "code",
   "execution_count": 16,
   "metadata": {},
   "outputs": [
    {
     "data": {
      "image/png": "[encoded data removed]",
      "text/plain": [
       "<Figure size 504x360 with 1 Axes>"
      ]
     },
     "metadata": {
      "needs_background": "light"
     },
     "output_type": "display_data"
    }
   ],
   "source": [
    "fig=plt.figure() #set up the figures\n",
    "fig.set_size_inches(7, 5)\n",
    "ax=fig.add_subplot(1,1,1)\n",
    "draw_pitch(ax) #overlay our different objects on the pitch\n",
    "plt.ylim(-2, 82)\n",
    "plt.xlim(-2, 122)\n",
    "plt.axis('off')\n",
    "plt.show()"
   ]
  },
  {
   "cell_type": "code",
   "execution_count": null,
   "metadata": {},
   "outputs": [],
   "source": [
    "# loading the json file\n",
    "ozil_pass = df[(df['type_name'] == \"Pass\") & (df['player_name']=='Mesut Özil')] # get passing information of Ozil\n",
    "pass_column = [i for i in df.columns if i.startswith(\"pass\")]\n",
    "ozil_pass = ozil_pass[[\"id\", \"period\", \"timestamp\", \"location\", \"pass_end_location\", \"pass_recipient_name\"]]"
   ]
  },
  {
   "cell_type": "code",
   "execution_count": null,
   "metadata": {},
   "outputs": [],
   "source": [
    "for i in range(len(ozil_pass)):\n",
    "    # annotate draw an arrow from a current position to pass_end_location\n",
    "    ax.annotate(\"\", xy = (ozil_pass.iloc[i]['pass_end_location'][0], ozil_pass.iloc[i]['pass_end_location'][1]), xycoords = 'data',\n",
    "               xytext = (ozil_pass.iloc[i]['location'][0], ozil_pass.iloc[i]['location'][1]), textcoords = 'data',\n",
    "               arrowprops=dict(arrowstyle=\"->\",connectionstyle=\"arc3\", color = \"blue\"),)"
   ]
  },
  {
   "cell_type": "code",
   "execution_count": 17,
   "metadata": {},
   "outputs": [
    {
     "ename": "NameError",
     "evalue": "name 'ozil_action' is not defined",
     "output_type": "error",
     "traceback": [
      "\u001b[1;31m---------------------------------------------------------------------------\u001b[0m",
      "\u001b[1;31mNameError\u001b[0m                                 Traceback (most recent call last)",
      "\u001b[1;32m<ipython-input-17-a82ed7601852>\u001b[0m in \u001b[0;36m<module>\u001b[1;34m\u001b[0m\n\u001b[0;32m      2\u001b[0m \u001b[0mfig\u001b[0m\u001b[1;33m.\u001b[0m\u001b[0mset_size_inches\u001b[0m\u001b[1;33m(\u001b[0m\u001b[1;36m7\u001b[0m\u001b[1;33m,\u001b[0m \u001b[1;36m5\u001b[0m\u001b[1;33m)\u001b[0m\u001b[1;33m\u001b[0m\u001b[1;33m\u001b[0m\u001b[0m\n\u001b[0;32m      3\u001b[0m \u001b[1;33m\u001b[0m\u001b[0m\n\u001b[1;32m----> 4\u001b[1;33m \u001b[0mx_coord\u001b[0m \u001b[1;33m=\u001b[0m \u001b[1;33m[\u001b[0m\u001b[0mi\u001b[0m\u001b[1;33m[\u001b[0m\u001b[1;36m0\u001b[0m\u001b[1;33m]\u001b[0m \u001b[1;32mfor\u001b[0m \u001b[0mi\u001b[0m \u001b[1;32min\u001b[0m \u001b[0mozil_action\u001b[0m\u001b[1;33m[\u001b[0m\u001b[1;34m\"location\"\u001b[0m\u001b[1;33m]\u001b[0m\u001b[1;33m]\u001b[0m\u001b[1;33m\u001b[0m\u001b[1;33m\u001b[0m\u001b[0m\n\u001b[0m\u001b[0;32m      5\u001b[0m \u001b[0my_coord\u001b[0m \u001b[1;33m=\u001b[0m \u001b[1;33m[\u001b[0m\u001b[0mi\u001b[0m\u001b[1;33m[\u001b[0m\u001b[1;36m1\u001b[0m\u001b[1;33m]\u001b[0m \u001b[1;32mfor\u001b[0m \u001b[0mi\u001b[0m \u001b[1;32min\u001b[0m \u001b[0mozil_action\u001b[0m\u001b[1;33m[\u001b[0m\u001b[1;34m\"location\"\u001b[0m\u001b[1;33m]\u001b[0m\u001b[1;33m]\u001b[0m\u001b[1;33m\u001b[0m\u001b[1;33m\u001b[0m\u001b[0m\n\u001b[0;32m      6\u001b[0m \u001b[1;33m\u001b[0m\u001b[0m\n",
      "\u001b[1;31mNameError\u001b[0m: name 'ozil_action' is not defined"
     ]
    },
    {
     "data": {
      "image/png": "[encoded data removed]",
      "text/plain": [
       "<Figure size 504x360 with 1 Axes>"
      ]
     },
     "metadata": {
      "needs_background": "light"
     },
     "output_type": "display_data"
    }
   ],
   "source": [
    "fig, ax = plt.subplots()\n",
    "fig.set_size_inches(7, 5)\n",
    "\n",
    "x_coord = [i[0] for i in ozil_action[\"location\"]]\n",
    "y_coord = [i[1] for i in ozil_action[\"location\"]]\n",
    "\n",
    "#shades: give us the heat map we desire\n",
    "# n_levels: draw more lines, the larger n, the more blurry it looks\n",
    "sns.kdeplot(x_coord, y_coord, shade = \"True\", color = \"green\", n_levels = 30)\n",
    "plt.show()"
   ]
  },
  {
   "cell_type": "code",
   "execution_count": null,
   "metadata": {},
   "outputs": [],
   "source": []
  }
 ],
 "metadata": {
  "kernelspec": {
   "display_name": "Python 3",
   "language": "python",
   "name": "python3"
  },
  "language_info": {
   "codemirror_mode": {
    "name": "ipython",
    "version": 3
   },
   "file_extension": ".py",
   "mimetype": "text/x-python",
   "name": "python",
   "nbconvert_exporter": "python",
   "pygments_lexer": "ipython3",
   "version": "3.7.4"
  }
 },
 "nbformat": 4,
 "nbformat_minor": 4
}
